{
 "metadata": {
  "language_info": {
   "codemirror_mode": {
    "name": "ipython",
    "version": 3
   },
   "file_extension": ".py",
   "mimetype": "text/x-python",
   "name": "python",
   "nbconvert_exporter": "python",
   "pygments_lexer": "ipython3",
   "version": 3
  },
  "orig_nbformat": 2
 },
 "nbformat": 4,
 "nbformat_minor": 2,
 "cells": [
  {
   "cell_type": "code",
   "execution_count": 1,
   "metadata": {},
   "outputs": [],
   "source": [
    "from bs4 import BeautifulSoup # library to parse HTML documents\n",
    "from datetime import datetime\n",
    "from getpass import getpass\n",
    "import pandas as pd # library for data analysis\n",
    "import requests # library to handle requests\n",
    "import os\n",
    "\n",
    "# get the response in the form of html\n",
    "wikiurl=\"https://en.wikipedia.org/wiki/Template:COVID-19_pandemic_death_rates\"\n",
    "table_class=\"wikitable sortable jquery-tablesorter\"\n",
    "response=requests.get(wikiurl)\n",
    "soup = BeautifulSoup(response.text, 'html.parser')\n",
    "casetable=soup.find('table',{'class':\"wikitable\"})\n",
    "df=pd.read_html(str(casetable))\n",
    "\n",
    "# convert list to dataframe\n",
    "cases_df=pd.DataFrame(df[0])\n",
    "\n",
    "local_outbreak_items = pd.read_csv(\"reference.csv\")\n",
    "\n",
    "reconciled = cases_df.merge(local_outbreak_items, left_on=\"Country\", right_on=\"countryLabel\").drop_duplicates()\n",
    "\n",
    "# Manually fix a couple labels\n",
    "template_to_label = {\n",
    "    'Bahamas': 'The Bahamas',\n",
    "    'China': 'mainland China',\n",
    "    'Congo': 'Republic of the Congo',\n",
    "    'DR Congo': 'Democratic Republic of the Congo',\n",
    "    'Gambia': 'The Gambia',\n",
    "    'Palestine': 'State of Palestine',\n",
    "    'United States': 'United States of America' \n",
    "}\n",
    "\n",
    "cases_df.Country = cases_df.Country.replace(template_to_label)\n",
    "reconciled = cases_df.merge(local_outbreak_items, left_on=\"Country\", right_on=\"countryLabel\").drop_duplicates()\n",
    "\n",
    "reconciled[\"Case fatality rate\"] = [float(i.replace(\"%\",\"\"))/100 for i in reconciled[\"Case fatality rate\"]]\n",
    "\n",
    "reconciled[\"Case fatality rate\"] = [round(i,3) for i in reconciled[\"Case fatality rate\"]]\n"
   ]
  },
  {
   "cell_type": "code",
   "execution_count": 2,
   "metadata": {},
   "outputs": [
    {
     "output_type": "execute_result",
     "data": {
      "text/plain": [
       "                  Country  Confirmed cases  Deaths  Case fatality rate  \\\n",
       "0              San Marino             2583      64               0.025   \n",
       "1                 Belgium           658655   19936               0.030   \n",
       "2                Slovenia           134545    2922               0.022   \n",
       "3                   Italy          2220361   77291               0.035   \n",
       "4  Bosnia and Herzegovina           113392    4211               0.037   \n",
       "\n",
       "   Deaths per 100,000 population       item            countryLabel  \\\n",
       "0                         189.43  Q87123561              San Marino   \n",
       "1                         174.54  Q84446340                 Belgium   \n",
       "2                         141.34  Q87250948                Slovenia   \n",
       "3                         127.90  Q84104992                   Italy   \n",
       "4                         126.69  Q87250770  Bosnia and Herzegovina   \n",
       "\n",
       "                                          itemLabel  \n",
       "0              2020 COVID-19 pandemic in San Marino  \n",
       "1                 2020 COVID-19 pandemic in Belgium  \n",
       "2                     COVID-19 pandemic in Slovenia  \n",
       "3                        COVID-19 pandemic in Italy  \n",
       "4  2020 COVID-19 pandemic in Bosnia and Herzegovina  "
      ],
      "text/html": "<div>\n<style scoped>\n    .dataframe tbody tr th:only-of-type {\n        vertical-align: middle;\n    }\n\n    .dataframe tbody tr th {\n        vertical-align: top;\n    }\n\n    .dataframe thead th {\n        text-align: right;\n    }\n</style>\n<table border=\"1\" class=\"dataframe\">\n  <thead>\n    <tr style=\"text-align: right;\">\n      <th></th>\n      <th>Country</th>\n      <th>Confirmed cases</th>\n      <th>Deaths</th>\n      <th>Case fatality rate</th>\n      <th>Deaths per 100,000 population</th>\n      <th>item</th>\n      <th>countryLabel</th>\n      <th>itemLabel</th>\n    </tr>\n  </thead>\n  <tbody>\n    <tr>\n      <th>0</th>\n      <td>San Marino</td>\n      <td>2583</td>\n      <td>64</td>\n      <td>0.025</td>\n      <td>189.43</td>\n      <td>Q87123561</td>\n      <td>San Marino</td>\n      <td>2020 COVID-19 pandemic in San Marino</td>\n    </tr>\n    <tr>\n      <th>1</th>\n      <td>Belgium</td>\n      <td>658655</td>\n      <td>19936</td>\n      <td>0.030</td>\n      <td>174.54</td>\n      <td>Q84446340</td>\n      <td>Belgium</td>\n      <td>2020 COVID-19 pandemic in Belgium</td>\n    </tr>\n    <tr>\n      <th>2</th>\n      <td>Slovenia</td>\n      <td>134545</td>\n      <td>2922</td>\n      <td>0.022</td>\n      <td>141.34</td>\n      <td>Q87250948</td>\n      <td>Slovenia</td>\n      <td>COVID-19 pandemic in Slovenia</td>\n    </tr>\n    <tr>\n      <th>3</th>\n      <td>Italy</td>\n      <td>2220361</td>\n      <td>77291</td>\n      <td>0.035</td>\n      <td>127.90</td>\n      <td>Q84104992</td>\n      <td>Italy</td>\n      <td>COVID-19 pandemic in Italy</td>\n    </tr>\n    <tr>\n      <th>4</th>\n      <td>Bosnia and Herzegovina</td>\n      <td>113392</td>\n      <td>4211</td>\n      <td>0.037</td>\n      <td>126.69</td>\n      <td>Q87250770</td>\n      <td>Bosnia and Herzegovina</td>\n      <td>2020 COVID-19 pandemic in Bosnia and Herzegovina</td>\n    </tr>\n  </tbody>\n</table>\n</div>"
     },
     "metadata": {},
     "execution_count": 2
    }
   ],
   "source": [
    "reconciled.head()"
   ]
  },
  {
   "cell_type": "code",
   "execution_count": 12,
   "metadata": {},
   "outputs": [
    {
     "output_type": "error",
     "ename": "ImportError",
     "evalue": "cannot import name 'date'",
     "traceback": [
      "\u001b[0;31m---------------------------------------------------------------------------\u001b[0m",
      "\u001b[0;31mImportError\u001b[0m                               Traceback (most recent call last)",
      "\u001b[0;32m<ipython-input-12-55018d1a9690>\u001b[0m in \u001b[0;36m<module>\u001b[0;34m\u001b[0m\n\u001b[1;32m      1\u001b[0m \u001b[0;32mimport\u001b[0m \u001b[0mpywikibot\u001b[0m\u001b[0;34m\u001b[0m\u001b[0;34m\u001b[0m\u001b[0m\n\u001b[0;32m----> 2\u001b[0;31m \u001b[0;32mfrom\u001b[0m \u001b[0mtime\u001b[0m \u001b[0;32mimport\u001b[0m \u001b[0mdate\u001b[0m\u001b[0;34m\u001b[0m\u001b[0;34m\u001b[0m\u001b[0m\n\u001b[0m",
      "\u001b[0;31mImportError\u001b[0m: cannot import name 'date'"
     ]
    }
   ],
   "source": [
    "import pywikibot\n",
    "from datetime import datetime"
   ]
  },
  {
   "cell_type": "code",
   "execution_count": 15,
   "metadata": {},
   "outputs": [
    {
     "output_type": "stream",
     "name": "stdout",
     "text": [
      "Q87123561\n",
      "WARNING: WbQuantity now expects a 'site' parameter. This is needed to ensure correct handling of error bounds.\n"
     ]
    }
   ],
   "source": [
    "\n",
    "site = pywikibot.Site(\"wikidata\", \"wikidata\")\n",
    "repo = site.data_repository()\n",
    "\n",
    "for i, row in reconciled.iterrows():\n",
    "    print(row[\"item\"])\n",
    "    item = pywikibot.ItemPage(repo, row[\"item\"])\n",
    "    item.get() #Fetch all page data, and cache it.\n",
    "\n",
    "    # Add number of deaths\n",
    "\n",
    "    ## Value --> death count\n",
    "\n",
    "    deaths_claim = pywikibot.Claim(repo, u'P1120') # Adding number of deaths (P1120)\n",
    "    deaths_claim.setTarget(pywikibot.WbQuantity(row[\"Deaths\"])) #Set the target value in the local object.\n",
    "    item.addClaim(deaths_claim, summary=u'Adding death count from template')\n",
    "\n",
    "\n",
    "    ## Qualifier --> date \n",
    "\n",
    "    qualifier = pywikibot.Claim(repo, u'P585') # Adding qualifier of point in time (P585)\n",
    "    today = datetime.today() #Date today\n",
    "    target = pywikibot.WbTime(year=int(today.strftime(\"%Y\")), month=int(today.strftime(\"%m\")), day=int(today.strftime(\"%d\")))\n",
    "    qualifier.setTarget(target)\n",
    "    deaths_claim.addQualifier(qualifier, summary=u'Adding date.')\n",
    "\n",
    "\n",
    "    ## Source --> Wikipedia template URL\n",
    "    wiki_url = pywikibot.Claim(repo, u'P4656') # reference URL (P854)\n",
    "    wiki_url.setTarget(\"https://en.wikipedia.org/wiki/Template:COVID-19_pandemic_death_rates\")\n",
    "    \n",
    "     ## Source --> Imported from English Wikipedia\n",
    "    ref = pywikibot.Claim(repo, u'P143') #stated in (P248)\n",
    "    ref.setTarget(pywikibot.ItemPage(repo, 'Q328'))\n",
    "\n",
    "    ## Source --> Retrieved today\n",
    "    retrieved = pywikibot.Claim(repo, u'P813') #retrieved (P813). Data type: Point in time\n",
    "    retrieved_target = pywikibot.WbTime(year=int(today.strftime(\"%Y\")), month=int(today.strftime(\"%m\")), day=int(today.strftime(\"%d\"))) #retrieved -> %DATE TODAY%. Example retrieved -> 29.11.2020\n",
    "    retrieved.setTarget(retrieved_target) #Inserting value\n",
    "\n",
    "    deaths_claim.addSources([ref,wiki_url, retrieved], summary=u'Adding sources.')\n",
    "\n",
    "    break\n",
    "\n"
   ]
  },
  {
   "cell_type": "code",
   "execution_count": null,
   "metadata": {},
   "outputs": [],
   "source": []
  }
 ]
}