{
 "cells": [
  {
   "cell_type": "code",
   "execution_count": 3,
   "metadata": {},
   "outputs": [
    {
     "name": "stdout",
     "output_type": "stream",
     "text": [
      "The pycodestyle_magic extension is already loaded. To reload it, use:\n",
      "  %reload_ext pycodestyle_magic\n"
     ]
    }
   ],
   "source": [
    "%load_ext pycodestyle_magic"
   ]
  },
  {
   "cell_type": "code",
   "execution_count": 4,
   "metadata": {},
   "outputs": [],
   "source": [
    "%flake8_on"
   ]
  },
  {
   "cell_type": "code",
   "execution_count": 5,
   "metadata": {},
   "outputs": [],
   "source": [
    "import requests\n",
    "\n",
    "URL = \"https://www.wikidata.org/w/api.php\"\n",
    "\n",
    "participant_page = \"Wikidata:WikiProject_COVID-19/Participants\"\n",
    "\n",
    "PARAMS = {\n",
    "        \"action\": \"query\",\n",
    "        \"prop\": \"revisions\",\n",
    "        \"titles\": participant_page,\n",
    "        \"rvprop\": \"timestamp|user\",\n",
    "        \"rvslots\": \"main\",\n",
    "        \"rvlimit\": \"200\",\n",
    "        \"formatversion\": \"2\",\n",
    "        \"format\": \"json\"\n",
    "    }\n",
    "\n",
    "S = requests.Session()\n",
    "R = S.get(url=URL, params=PARAMS)\n",
    "DATA = R.json()\n",
    "PAGES = DATA[\"query\"][\"pages\"]\n"
   ]
  },
  {
   "cell_type": "code",
   "execution_count": 6,
   "metadata": {},
   "outputs": [
    {
     "data": {
      "text/plain": [
       "71"
      ]
     },
     "execution_count": 6,
     "metadata": {},
     "output_type": "execute_result"
    }
   ],
   "source": [
    "len(PAGES[0]['revisions'])"
   ]
  },
  {
   "cell_type": "code",
   "execution_count": 7,
   "metadata": {},
   "outputs": [],
   "source": [
    "import pandas as pd\n",
    "\n",
    "project_users = pd.json_normalize(PAGES[0]['revisions'])"
   ]
  },
  {
   "cell_type": "code",
   "execution_count": 8,
   "metadata": {},
   "outputs": [
    {
     "name": "stderr",
     "output_type": "stream",
     "text": [
      "2:80: E501 line too long (80 > 79 characters)\n"
     ]
    }
   ],
   "source": [
    "def convert_timestamp_to_datetime(timestamp):\n",
    "    time_in_datetime_format = datetime.strptime(timestamp, \"%Y-%m-%dT%H:%M:%SZ\")\n",
    "    return(time_in_datetime_format)\n",
    "\n",
    "\n"
   ]
  },
  {
   "cell_type": "code",
   "execution_count": 9,
   "metadata": {},
   "outputs": [],
   "source": [
    "from datetime import datetime\n",
    "project_users[\"datetime_timestamp\"] = [convert_timestamp_to_datetime(each_timestamp) for each_timestamp in project_users[\"timestamp\"]]"
   ]
  },
  {
   "cell_type": "code",
   "execution_count": 15,
   "metadata": {},
   "outputs": [
    {
     "data": {
      "text/html": [
       "<div>\n",
       "<style scoped>\n",
       "    .dataframe tbody tr th:only-of-type {\n",
       "        vertical-align: middle;\n",
       "    }\n",
       "\n",
       "    .dataframe tbody tr th {\n",
       "        vertical-align: top;\n",
       "    }\n",
       "\n",
       "    .dataframe thead th {\n",
       "        text-align: right;\n",
       "    }\n",
       "</style>\n",
       "<table border=\"1\" class=\"dataframe\">\n",
       "  <thead>\n",
       "    <tr style=\"text-align: right;\">\n",
       "      <th></th>\n",
       "      <th>user</th>\n",
       "      <th>timestamp</th>\n",
       "      <th>anon</th>\n",
       "      <th>datetime_timestamp</th>\n",
       "    </tr>\n",
       "  </thead>\n",
       "  <tbody>\n",
       "    <tr>\n",
       "      <th>0</th>\n",
       "      <td>LaMèreVeille</td>\n",
       "      <td>2020-04-20T16:26:42Z</td>\n",
       "      <td>NaN</td>\n",
       "      <td>2020-04-20 16:26:42</td>\n",
       "    </tr>\n",
       "    <tr>\n",
       "      <th>1</th>\n",
       "      <td>Julian leonardo paez</td>\n",
       "      <td>2020-04-15T06:07:24Z</td>\n",
       "      <td>NaN</td>\n",
       "      <td>2020-04-15 06:07:24</td>\n",
       "    </tr>\n",
       "    <tr>\n",
       "      <th>2</th>\n",
       "      <td>Sj</td>\n",
       "      <td>2020-04-14T13:04:28Z</td>\n",
       "      <td>NaN</td>\n",
       "      <td>2020-04-14 13:04:28</td>\n",
       "    </tr>\n",
       "    <tr>\n",
       "      <th>3</th>\n",
       "      <td>EricaAzzellini</td>\n",
       "      <td>2020-04-14T12:55:02Z</td>\n",
       "      <td>NaN</td>\n",
       "      <td>2020-04-14 12:55:02</td>\n",
       "    </tr>\n",
       "    <tr>\n",
       "      <th>4</th>\n",
       "      <td>EricaAzzellini</td>\n",
       "      <td>2020-04-14T12:51:02Z</td>\n",
       "      <td>NaN</td>\n",
       "      <td>2020-04-14 12:51:02</td>\n",
       "    </tr>\n",
       "    <tr>\n",
       "      <th>...</th>\n",
       "      <td>...</td>\n",
       "      <td>...</td>\n",
       "      <td>...</td>\n",
       "      <td>...</td>\n",
       "    </tr>\n",
       "    <tr>\n",
       "      <th>66</th>\n",
       "      <td>Chchowmein</td>\n",
       "      <td>2020-03-16T02:48:33Z</td>\n",
       "      <td>NaN</td>\n",
       "      <td>2020-03-16 02:48:33</td>\n",
       "    </tr>\n",
       "    <tr>\n",
       "      <th>67</th>\n",
       "      <td>Chchowmein</td>\n",
       "      <td>2020-03-16T02:48:18Z</td>\n",
       "      <td>NaN</td>\n",
       "      <td>2020-03-16 02:48:18</td>\n",
       "    </tr>\n",
       "    <tr>\n",
       "      <th>68</th>\n",
       "      <td>Jodi.a.schneider</td>\n",
       "      <td>2020-03-16T02:45:14Z</td>\n",
       "      <td>NaN</td>\n",
       "      <td>2020-03-16 02:45:14</td>\n",
       "    </tr>\n",
       "    <tr>\n",
       "      <th>69</th>\n",
       "      <td>Daniel Mietchen</td>\n",
       "      <td>2020-03-16T01:42:38Z</td>\n",
       "      <td>NaN</td>\n",
       "      <td>2020-03-16 01:42:38</td>\n",
       "    </tr>\n",
       "    <tr>\n",
       "      <th>70</th>\n",
       "      <td>TiagoLubiana</td>\n",
       "      <td>2020-03-16T01:35:18Z</td>\n",
       "      <td>NaN</td>\n",
       "      <td>2020-03-16 01:35:18</td>\n",
       "    </tr>\n",
       "  </tbody>\n",
       "</table>\n",
       "<p>71 rows × 4 columns</p>\n",
       "</div>"
      ],
      "text/plain": [
       "                    user             timestamp anon  datetime_timestamp\n",
       "0           LaMèreVeille  2020-04-20T16:26:42Z  NaN 2020-04-20 16:26:42\n",
       "1   Julian leonardo paez  2020-04-15T06:07:24Z  NaN 2020-04-15 06:07:24\n",
       "2                     Sj  2020-04-14T13:04:28Z  NaN 2020-04-14 13:04:28\n",
       "3         EricaAzzellini  2020-04-14T12:55:02Z  NaN 2020-04-14 12:55:02\n",
       "4         EricaAzzellini  2020-04-14T12:51:02Z  NaN 2020-04-14 12:51:02\n",
       "..                   ...                   ...  ...                 ...\n",
       "66            Chchowmein  2020-03-16T02:48:33Z  NaN 2020-03-16 02:48:33\n",
       "67            Chchowmein  2020-03-16T02:48:18Z  NaN 2020-03-16 02:48:18\n",
       "68      Jodi.a.schneider  2020-03-16T02:45:14Z  NaN 2020-03-16 02:45:14\n",
       "69       Daniel Mietchen  2020-03-16T01:42:38Z  NaN 2020-03-16 01:42:38\n",
       "70          TiagoLubiana  2020-03-16T01:35:18Z  NaN 2020-03-16 01:35:18\n",
       "\n",
       "[71 rows x 4 columns]"
      ]
     },
     "execution_count": 15,
     "metadata": {},
     "output_type": "execute_result"
    }
   ],
   "source": [
    "project_users"
   ]
  },
  {
   "cell_type": "code",
   "execution_count": 16,
   "metadata": {},
   "outputs": [],
   "source": [
    "project_users_without_duplicates = project_users.sort_values('datetime_timestamp', ascending=True).drop_duplicates('user').sort_index()"
   ]
  },
  {
   "cell_type": "code",
   "execution_count": 17,
   "metadata": {},
   "outputs": [
    {
     "name": "stderr",
     "output_type": "stream",
     "text": [
      "1:80: E501 line too long (124 > 79 characters)\n",
      "2:80: E501 line too long (95 > 79 characters)\n"
     ]
    }
   ],
   "source": [
    "project_users_without_duplicates_sorted = project_users_without_duplicates.sort_values('datetime_timestamp', ascending=True)\n",
    "project_users_without_duplicates_sorted = project_users_without_duplicates_sorted.reset_index()\n",
    "project_users_without_duplicates_sorted[\"index\"] = project_users_without_duplicates_sorted.index"
   ]
  },
  {
   "cell_type": "code",
   "execution_count": 30,
   "metadata": {},
   "outputs": [
    {
     "name": "stderr",
     "output_type": "stream",
     "text": [
      "5:80: E501 line too long (96 > 79 characters)\n"
     ]
    }
   ],
   "source": [
    "\n",
    "today_mock_user = pd.DataFrame({\"user\": [\"mock\"],\n",
    "                                \"timestamp\": [\"mock\"],\n",
    "                                \"datetime_timestamp\": [datetime.today()],\n",
    "                                \"index\": [max(project_users_without_duplicates_sorted[\"index\"])]\n",
    "                                })\n",
    "\n",
    "project_users_without_duplicates_sorted = project_users_without_duplicates_sorted.append(today_mock_user)"
   ]
  },
  {
   "cell_type": "code",
   "execution_count": 34,
   "metadata": {},
   "outputs": [
    {
     "data": {
      "image/png": "[encoded data removed]",
      "text/plain": [
       "<Figure size 720x360 with 1 Axes>"
      ]
     },
     "metadata": {
      "needs_background": "light"
     },
     "output_type": "display_data"
    },
    {
     "name": "stderr",
     "output_type": "stream",
     "text": [
      "4:1: E302 expected 2 blank lines, found 1\n",
      "7:9: E128 continuation line under-indented for visual indent\n",
      "8:1: W293 blank line contains whitespace\n",
      "19:80: E501 line too long (106 > 79 characters)\n"
     ]
    }
   ],
   "source": [
    "import matplotlib.pyplot as plt\n",
    "import matplotlib.dates as mdates\n",
    "\n",
    "def plot_participant_curve(project_users_without_duplicates_sorted):\n",
    "    fig, ax = plt.subplots(figsize=(10, 5))\n",
    "    ax.plot(project_users_without_duplicates_sorted[\"datetime_timestamp\"],\n",
    "        project_users_without_duplicates_sorted[\"index\"])\n",
    "    \n",
    "    date_format = mdates.DateFormatter('%m-%d')\n",
    "    ax.xaxis.set_major_formatter(date_format)\n",
    "    plt.style.use('seaborn-deep')\n",
    "    plt.title(\"Wikiproject COVID-19 Participants\", fontsize=24)\n",
    "    plt.xlabel('date', fontsize=18)\n",
    "    plt.ylabel('number of participants', fontsize=18)\n",
    "\n",
    "\n",
    "plot_participant_curve(project_users_without_duplicates_sorted)\n",
    "\n",
    "covid19_participant_curve_file = \"fig/participants_covid19_\" + datetime.today().strftime('%m-%d') + \".png\"\n",
    "plt.savefig(covid19_participant_curve_file, dpi=200, transparent=True)"
   ]
  },
  {
   "cell_type": "code",
   "execution_count": null,
   "metadata": {},
   "outputs": [],
   "source": [
    "# Auto commons upload via pywikibot\n",
    "# pip3 install pywikibot\n",
    "# set config file as described in\n",
    "# https://www.mediawiki.org/wiki/\n",
    "# Manual:Pywikibot/user-config.py#ExampleBot_on_Commons\n",
    "\n",
    "place = \"estado de São Paulo\"\n",
    "data_dos_dados = data_dos_dados\n",
    "\n",
    "\n",
    "# See above for the definition.\n",
    "\n",
    "descrevendo_obitos = '''=={{int:filedesc}}==\n",
    "{{Information\n",
    "|description=\n",
    "Gráfico em Python gerado a partir dos dados de [https://www.seade.gov.br/coronavirus/].\n",
    "Script disponível em github.com/lubianat/wikidata_covid19/tree/master/sandbox/distribution_maps}}.\n",
    "|date=''' + today_in_commons_format + '''\n",
    "|source={{own}}\n",
    "|author=[[User:TiagoLubiana|TiagoLubiana]]\n",
    "|permission=\n",
    "|other versions=\n",
    "}}\n",
    "\n",
    "=={{int:license-header}}==\n",
    "{{self|cc-by-sa-4.0}}\n",
    "\n",
    "[[Category:Maps about the COVID-19 pandemic in São Paulo (state)]]\n",
    "'''\n",
    "\n",
    "\n",
    "arquivo_descrevendo_obitos = \"fig/description_deaths_\" + data_dos_dados_sem_espaco + \".txt\"\n",
    "\n",
    "file1 = open(arquivo_descrevendo_obitos, \"w\")\n",
    "file1.write(descrevendo_obitos)\n",
    "file1.close()\n"
   ]
  }
 ],
 "metadata": {
  "kernelspec": {
   "display_name": "Python 3",
   "language": "python",
   "name": "python3"
  },
  "language_info": {
   "codemirror_mode": {
    "name": "ipython",
    "version": 3
   },
   "file_extension": ".py",
   "mimetype": "text/x-python",
   "name": "python",
   "nbconvert_exporter": "python",
   "pygments_lexer": "ipython3",
   "version": "3.6.9"
  }
 },
 "nbformat": 4,
 "nbformat_minor": 4
}
