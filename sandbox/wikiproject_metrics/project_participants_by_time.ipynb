{
 "cells": [
  {
   "cell_type": "code",
   "execution_count": 2,
   "metadata": {},
   "outputs": [
    {
     "name": "stdout",
     "output_type": "stream",
     "text": [
      "Defaulting to user installation because normal site-packages is not writeable\n",
      "Collecting flake8\n",
      "  Downloading flake8-3.8.4-py2.py3-none-any.whl (72 kB)\n",
      "\u001b[K     |████████████████████████████████| 72 kB 104 kB/s eta 0:00:01\n",
      "\u001b[?25hCollecting pycodestyle_magic\n",
      "  Using cached pycodestyle_magic-0.5-py2.py3-none-any.whl (9.5 kB)\n",
      "Collecting pyflakes<2.3.0,>=2.2.0\n",
      "  Downloading pyflakes-2.2.0-py2.py3-none-any.whl (66 kB)\n",
      "\u001b[K     |████████████████████████████████| 66 kB 613 kB/s  eta 0:00:01\n",
      "\u001b[?25hCollecting mccabe<0.7.0,>=0.6.0\n",
      "  Using cached mccabe-0.6.1-py2.py3-none-any.whl (8.6 kB)\n",
      "Collecting pycodestyle<2.7.0,>=2.6.0a1\n",
      "  Using cached pycodestyle-2.6.0-py2.py3-none-any.whl (41 kB)\n",
      "Requirement already satisfied: importlib-metadata; python_version < \"3.8\" in /home/lubianat/.local/lib/python3.7/site-packages (from flake8) (2.0.0)\n",
      "Requirement already satisfied: zipp>=0.5 in /home/lubianat/.local/lib/python3.7/site-packages (from importlib-metadata; python_version < \"3.8\"->flake8) (3.3.1)\n",
      "Installing collected packages: pyflakes, mccabe, pycodestyle, flake8, pycodestyle-magic\n",
      "Successfully installed flake8-3.8.4 mccabe-0.6.1 pycodestyle-2.6.0 pycodestyle-magic-0.5 pyflakes-2.2.0\n"
     ]
    }
   ],
   "source": [
    "! pip install flake8 pycodestyle_magic\n",
    "%load_ext pycodestyle_magic"
   ]
  },
  {
   "cell_type": "code",
   "execution_count": 3,
   "metadata": {},
   "outputs": [],
   "source": [
    "%flake8_on"
   ]
  },
  {
   "cell_type": "code",
   "execution_count": 4,
   "metadata": {},
   "outputs": [],
   "source": [
    "import requests\n",
    "\n",
    "URL = \"https://www.wikidata.org/w/api.php\"\n",
    "\n",
    "participant_page = \"Wikidata:WikiProject_COVID-19/Participants\"\n",
    "\n",
    "PARAMS = {\n",
    "        \"action\": \"query\",\n",
    "        \"prop\": \"revisions\",\n",
    "        \"titles\": participant_page,\n",
    "        \"rvprop\": \"timestamp|user\",\n",
    "        \"rvslots\": \"main\",\n",
    "        \"rvlimit\": \"200\",\n",
    "        \"formatversion\": \"2\",\n",
    "        \"format\": \"json\"\n",
    "    }\n",
    "\n",
    "S = requests.Session()\n",
    "R = S.get(url=URL, params=PARAMS)\n",
    "DATA = R.json()\n",
    "PAGES = DATA[\"query\"][\"pages\"]\n"
   ]
  },
  {
   "cell_type": "code",
   "execution_count": 5,
   "metadata": {},
   "outputs": [
    {
     "data": {
      "text/plain": [
       "83"
      ]
     },
     "execution_count": 5,
     "metadata": {},
     "output_type": "execute_result"
    }
   ],
   "source": [
    "len(PAGES[0]['revisions'])"
   ]
  },
  {
   "cell_type": "code",
   "execution_count": 6,
   "metadata": {},
   "outputs": [],
   "source": [
    "import pandas as pd\n",
    "\n",
    "project_users = pd.json_normalize(PAGES[0]['revisions'])"
   ]
  },
  {
   "cell_type": "code",
   "execution_count": 7,
   "metadata": {},
   "outputs": [
    {
     "name": "stderr",
     "output_type": "stream",
     "text": [
      "2:80: E501 line too long (80 > 79 characters)\n"
     ]
    }
   ],
   "source": [
    "def convert_timestamp_to_datetime(timestamp):\n",
    "    time_in_datetime_format = datetime.strptime(timestamp, \"%Y-%m-%dT%H:%M:%SZ\")\n",
    "    return(time_in_datetime_format)\n",
    "\n",
    "\n"
   ]
  },
  {
   "cell_type": "code",
   "execution_count": 8,
   "metadata": {},
   "outputs": [
    {
     "name": "stderr",
     "output_type": "stream",
     "text": [
      "2:80: E501 line too long (134 > 79 characters)\n"
     ]
    }
   ],
   "source": [
    "from datetime import datetime\n",
    "project_users[\"datetime_timestamp\"] = [convert_timestamp_to_datetime(each_timestamp) for each_timestamp in project_users[\"timestamp\"]]"
   ]
  },
  {
   "cell_type": "code",
   "execution_count": 9,
   "metadata": {},
   "outputs": [
    {
     "data": {
      "text/html": [
       "<div>\n",
       "<style scoped>\n",
       "    .dataframe tbody tr th:only-of-type {\n",
       "        vertical-align: middle;\n",
       "    }\n",
       "\n",
       "    .dataframe tbody tr th {\n",
       "        vertical-align: top;\n",
       "    }\n",
       "\n",
       "    .dataframe thead th {\n",
       "        text-align: right;\n",
       "    }\n",
       "</style>\n",
       "<table border=\"1\" class=\"dataframe\">\n",
       "  <thead>\n",
       "    <tr style=\"text-align: right;\">\n",
       "      <th></th>\n",
       "      <th>user</th>\n",
       "      <th>timestamp</th>\n",
       "      <th>anon</th>\n",
       "      <th>datetime_timestamp</th>\n",
       "    </tr>\n",
       "  </thead>\n",
       "  <tbody>\n",
       "    <tr>\n",
       "      <th>0</th>\n",
       "      <td>Silsha</td>\n",
       "      <td>2020-10-24T13:56:19Z</td>\n",
       "      <td>NaN</td>\n",
       "      <td>2020-10-24 13:56:19</td>\n",
       "    </tr>\n",
       "    <tr>\n",
       "      <th>1</th>\n",
       "      <td>99of9</td>\n",
       "      <td>2020-09-04T04:11:19Z</td>\n",
       "      <td>NaN</td>\n",
       "      <td>2020-09-04 04:11:19</td>\n",
       "    </tr>\n",
       "    <tr>\n",
       "      <th>2</th>\n",
       "      <td>Mauricio V. Genta</td>\n",
       "      <td>2020-08-08T04:23:52Z</td>\n",
       "      <td>NaN</td>\n",
       "      <td>2020-08-08 04:23:52</td>\n",
       "    </tr>\n",
       "    <tr>\n",
       "      <th>3</th>\n",
       "      <td>Battleofalma</td>\n",
       "      <td>2020-07-23T12:35:31Z</td>\n",
       "      <td>NaN</td>\n",
       "      <td>2020-07-23 12:35:31</td>\n",
       "    </tr>\n",
       "    <tr>\n",
       "      <th>4</th>\n",
       "      <td>B bradley26</td>\n",
       "      <td>2020-07-16T14:55:05Z</td>\n",
       "      <td>NaN</td>\n",
       "      <td>2020-07-16 14:55:05</td>\n",
       "    </tr>\n",
       "    <tr>\n",
       "      <th>...</th>\n",
       "      <td>...</td>\n",
       "      <td>...</td>\n",
       "      <td>...</td>\n",
       "      <td>...</td>\n",
       "    </tr>\n",
       "    <tr>\n",
       "      <th>78</th>\n",
       "      <td>Chchowmein</td>\n",
       "      <td>2020-03-16T02:48:33Z</td>\n",
       "      <td>NaN</td>\n",
       "      <td>2020-03-16 02:48:33</td>\n",
       "    </tr>\n",
       "    <tr>\n",
       "      <th>79</th>\n",
       "      <td>Chchowmein</td>\n",
       "      <td>2020-03-16T02:48:18Z</td>\n",
       "      <td>NaN</td>\n",
       "      <td>2020-03-16 02:48:18</td>\n",
       "    </tr>\n",
       "    <tr>\n",
       "      <th>80</th>\n",
       "      <td>Jodi.a.schneider</td>\n",
       "      <td>2020-03-16T02:45:14Z</td>\n",
       "      <td>NaN</td>\n",
       "      <td>2020-03-16 02:45:14</td>\n",
       "    </tr>\n",
       "    <tr>\n",
       "      <th>81</th>\n",
       "      <td>Daniel Mietchen</td>\n",
       "      <td>2020-03-16T01:42:38Z</td>\n",
       "      <td>NaN</td>\n",
       "      <td>2020-03-16 01:42:38</td>\n",
       "    </tr>\n",
       "    <tr>\n",
       "      <th>82</th>\n",
       "      <td>TiagoLubiana</td>\n",
       "      <td>2020-03-16T01:35:18Z</td>\n",
       "      <td>NaN</td>\n",
       "      <td>2020-03-16 01:35:18</td>\n",
       "    </tr>\n",
       "  </tbody>\n",
       "</table>\n",
       "<p>83 rows × 4 columns</p>\n",
       "</div>"
      ],
      "text/plain": [
       "                 user             timestamp anon  datetime_timestamp\n",
       "0              Silsha  2020-10-24T13:56:19Z  NaN 2020-10-24 13:56:19\n",
       "1               99of9  2020-09-04T04:11:19Z  NaN 2020-09-04 04:11:19\n",
       "2   Mauricio V. Genta  2020-08-08T04:23:52Z  NaN 2020-08-08 04:23:52\n",
       "3        Battleofalma  2020-07-23T12:35:31Z  NaN 2020-07-23 12:35:31\n",
       "4         B bradley26  2020-07-16T14:55:05Z  NaN 2020-07-16 14:55:05\n",
       "..                ...                   ...  ...                 ...\n",
       "78         Chchowmein  2020-03-16T02:48:33Z  NaN 2020-03-16 02:48:33\n",
       "79         Chchowmein  2020-03-16T02:48:18Z  NaN 2020-03-16 02:48:18\n",
       "80   Jodi.a.schneider  2020-03-16T02:45:14Z  NaN 2020-03-16 02:45:14\n",
       "81    Daniel Mietchen  2020-03-16T01:42:38Z  NaN 2020-03-16 01:42:38\n",
       "82       TiagoLubiana  2020-03-16T01:35:18Z  NaN 2020-03-16 01:35:18\n",
       "\n",
       "[83 rows x 4 columns]"
      ]
     },
     "execution_count": 9,
     "metadata": {},
     "output_type": "execute_result"
    }
   ],
   "source": [
    "project_users"
   ]
  },
  {
   "cell_type": "code",
   "execution_count": 10,
   "metadata": {},
   "outputs": [
    {
     "name": "stderr",
     "output_type": "stream",
     "text": [
      "1:80: E501 line too long (135 > 79 characters)\n"
     ]
    }
   ],
   "source": [
    "project_users_without_duplicates = project_users.sort_values('datetime_timestamp', ascending=True).drop_duplicates('user').sort_index()"
   ]
  },
  {
   "cell_type": "code",
   "execution_count": 11,
   "metadata": {},
   "outputs": [
    {
     "name": "stderr",
     "output_type": "stream",
     "text": [
      "1:80: E501 line too long (124 > 79 characters)\n",
      "2:80: E501 line too long (95 > 79 characters)\n",
      "3:80: E501 line too long (96 > 79 characters)\n"
     ]
    }
   ],
   "source": [
    "project_users_without_duplicates_sorted = project_users_without_duplicates.sort_values('datetime_timestamp', ascending=True)\n",
    "project_users_without_duplicates_sorted = project_users_without_duplicates_sorted.reset_index()\n",
    "project_users_without_duplicates_sorted[\"index\"] = project_users_without_duplicates_sorted.index"
   ]
  },
  {
   "cell_type": "code",
   "execution_count": 12,
   "metadata": {},
   "outputs": [
    {
     "name": "stderr",
     "output_type": "stream",
     "text": [
      "5:80: E501 line too long (96 > 79 characters)\n",
      "8:80: E501 line too long (105 > 79 characters)\n"
     ]
    }
   ],
   "source": [
    "\n",
    "today_mock_user = pd.DataFrame({\"user\": [\"mock\"],\n",
    "                                \"timestamp\": [\"mock\"],\n",
    "                                \"datetime_timestamp\": [datetime.today()],\n",
    "                                \"index\": [max(project_users_without_duplicates_sorted[\"index\"])]\n",
    "                                })\n",
    "\n",
    "project_users_without_duplicates_sorted = project_users_without_duplicates_sorted.append(today_mock_user)"
   ]
  },
  {
   "cell_type": "code",
   "execution_count": 18,
   "metadata": {},
   "outputs": [
    {
     "data": {
      "image/png": "[encoded data removed]",
      "text/plain": [
       "<Figure size 720x360 with 1 Axes>"
      ]
     },
     "metadata": {
      "needs_background": "light"
     },
     "output_type": "display_data"
    },
    {
     "name": "stderr",
     "output_type": "stream",
     "text": [
      "4:1: E302 expected 2 blank lines, found 1\n",
      "7:9: E128 continuation line under-indented for visual indent\n",
      "8:1: W293 blank line contains whitespace\n",
      "19:80: E501 line too long (106 > 79 characters)\n"
     ]
    }
   ],
   "source": [
    "import matplotlib.pyplot as plt\n",
    "import matplotlib.dates as mdates\n",
    "\n",
    "def plot_participant_curve(project_users_without_duplicates_sorted):\n",
    "    fig, ax = plt.subplots(figsize=(10, 5))\n",
    "    ax.plot(project_users_without_duplicates_sorted[\"datetime_timestamp\"],\n",
    "        project_users_without_duplicates_sorted[\"index\"])\n",
    "    \n",
    "    date_format = mdates.DateFormatter('%d/%m')\n",
    "    ax.xaxis.set_major_formatter(date_format)\n",
    "    plt.style.use('seaborn-deep')\n",
    "    plt.title(\"Wikidata Wikiprojeto COVID-19 - Participantes\", fontsize=24)\n",
    "    plt.xlabel('Data', fontsize=18)\n",
    "    plt.ylabel('Número de participantes', fontsize=18)\n",
    "\n",
    "\n",
    "plot_participant_curve(project_users_without_duplicates_sorted)\n",
    "\n",
    "covid19_participant_curve_file = \"fig/participants_covid19_\" + datetime.today().strftime('%m-%d') + \".png\"\n",
    "plt.savefig(covid19_participant_curve_file, dpi=200, transparent=True)\n",
    "\n"
   ]
  }
 ],
 "metadata": {
  "kernelspec": {
   "display_name": "Python 3",
   "language": "python",
   "name": "python3"
  },
  "language_info": {
   "codemirror_mode": {
    "name": "ipython",
    "version": 3
   },
   "file_extension": ".py",
   "mimetype": "text/x-python",
   "name": "python",
   "nbconvert_exporter": "python",
   "pygments_lexer": "ipython3",
   "version": "3.7.5"
  }
 },
 "nbformat": 4,
 "nbformat_minor": 4
}
