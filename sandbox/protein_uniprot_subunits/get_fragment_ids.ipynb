{
 "cells": [
  {
   "cell_type": "code",
   "execution_count": 47,
   "metadata": {},
   "outputs": [],
   "source": [
    "import requests, sys\n",
    "from reconciler import reconcile\n",
    "import pandas as pd\n",
    "\n",
    "def quickstate_chain_ids(protein_id):\n",
    "    requestURL = \"https://www.ebi.ac.uk/proteins/api/proteins?offset=0&size=100&accession=\"+protein_id\n",
    "\n",
    "    r = requests.get(requestURL, headers={ \"Accept\" : \"application/json\"})\n",
    "\n",
    "    features = (r.json()[0][\"features\"])\n",
    "\n",
    "    feature_table = pd.json_normalize(features)\n",
    "\n",
    "    chain_table = feature_table[feature_table[\"type\"] ==\"CHAIN\"]\n",
    "    \n",
    "    df = reconcile(chain_table[\"description\"], type_id = \"Q78782478\", top_res=8)\n",
    "    df = df.dropna()\n",
    "    df = df[df.name.str.contains('CoV-2', na=False)]\n",
    "    idx = df.groupby(['input_value'], sort=False)['score'].idxmax()\n",
    "\n",
    "    df = df.loc[idx,]\n",
    "    df = chain_table.merge(df, left_on=\"description\", right_on=\"input_value\")\n",
    "\n",
    "\n",
    "    # print(df)\n",
    "    # nsp2 is wrongly reconciled. I am going to remove it. \n",
    "    df.drop(df[df.input_value == \"Non-structural protein 2\"].index, inplace=True)\n",
    "\n",
    "    for index, row in df.iterrows():\n",
    "        wiki_subject = row['id']\n",
    "        wiki_property = \"|P352|\"\n",
    "        wiki_object = '\"' + protein_id + \"-\" + row[\"ftId\"] + '\"'\n",
    "        reference = \"|S854|\" + '\"'+ \"https://www.uniprot.org/uniprot/\"+ protein_id + '\"'\n",
    "        statement = wiki_subject + wiki_property + wiki_object + reference\n",
    "        print(statement)\n",
    "\n",
    "\n"
   ]
  },
  {
   "cell_type": "code",
   "execution_count": 48,
   "metadata": {},
   "outputs": [
    {
     "name": "stdout",
     "output_type": "stream",
     "text": [
      "Q90038952|P352|\"P0DTC1-PRO_0000449635\"|S854|\"https://www.uniprot.org/uniprot/P0DTC1\"\n",
      "Q90038954|P352|\"P0DTC1-PRO_0000449637\"|S854|\"https://www.uniprot.org/uniprot/P0DTC1\"\n",
      "Q90038956|P352|\"P0DTC1-PRO_0000449638\"|S854|\"https://www.uniprot.org/uniprot/P0DTC1\"\n",
      "Q87917582|P352|\"P0DTC1-PRO_0000449639\"|S854|\"https://www.uniprot.org/uniprot/P0DTC1\"\n",
      "Q88656943|P352|\"P0DTC1-PRO_0000449640\"|S854|\"https://www.uniprot.org/uniprot/P0DTC1\"\n",
      "Q90038963|P352|\"P0DTC1-PRO_0000449641\"|S854|\"https://www.uniprot.org/uniprot/P0DTC1\"\n",
      "Q97926844|P352|\"P0DTC1-PRO_0000449642\"|S854|\"https://www.uniprot.org/uniprot/P0DTC1\"\n",
      "Q89686805|P352|\"P0DTC1-PRO_0000449643\"|S854|\"https://www.uniprot.org/uniprot/P0DTC1\"\n",
      "Q90042394|P352|\"P0DTC1-PRO_0000449644\"|S854|\"https://www.uniprot.org/uniprot/P0DTC1\"\n"
     ]
    }
   ],
   "source": [
    "quickstate_chain_ids(\"P0DTC1\")"
   ]
  },
  {
   "cell_type": "code",
   "execution_count": 49,
   "metadata": {},
   "outputs": [
    {
     "name": "stdout",
     "output_type": "stream",
     "text": [
      "Q90038952|P352|\"P0DTD1-PRO_0000449619\"|S854|\"https://www.uniprot.org/uniprot/P0DTD1\"\n",
      "Q90038954|P352|\"P0DTD1-PRO_0000449621\"|S854|\"https://www.uniprot.org/uniprot/P0DTD1\"\n",
      "Q90038956|P352|\"P0DTD1-PRO_0000449622\"|S854|\"https://www.uniprot.org/uniprot/P0DTD1\"\n",
      "Q87917582|P352|\"P0DTD1-PRO_0000449623\"|S854|\"https://www.uniprot.org/uniprot/P0DTD1\"\n",
      "Q88656943|P352|\"P0DTD1-PRO_0000449624\"|S854|\"https://www.uniprot.org/uniprot/P0DTD1\"\n",
      "Q90038963|P352|\"P0DTD1-PRO_0000449625\"|S854|\"https://www.uniprot.org/uniprot/P0DTD1\"\n",
      "Q97926844|P352|\"P0DTD1-PRO_0000449626\"|S854|\"https://www.uniprot.org/uniprot/P0DTD1\"\n",
      "Q89686805|P352|\"P0DTD1-PRO_0000449627\"|S854|\"https://www.uniprot.org/uniprot/P0DTD1\"\n",
      "Q90042394|P352|\"P0DTD1-PRO_0000449628\"|S854|\"https://www.uniprot.org/uniprot/P0DTD1\"\n",
      "Q90042395|P352|\"P0DTD1-PRO_0000449629\"|S854|\"https://www.uniprot.org/uniprot/P0DTD1\"\n",
      "Q90042407|P352|\"P0DTD1-PRO_0000449631\"|S854|\"https://www.uniprot.org/uniprot/P0DTD1\"\n",
      "Q90042811|P352|\"P0DTD1-PRO_0000449632\"|S854|\"https://www.uniprot.org/uniprot/P0DTD1\"\n",
      "Q87917580|P352|\"P0DTD1-PRO_0000449633\"|S854|\"https://www.uniprot.org/uniprot/P0DTD1\"\n"
     ]
    }
   ],
   "source": [
    "quickstate_chain_ids(\"P0DTD1\")"
   ]
  },
  {
   "cell_type": "markdown",
   "metadata": {},
   "source": [
    "## "
   ]
  }
 ],
 "metadata": {
  "kernelspec": {
   "display_name": "Python 3",
   "language": "python",
   "name": "python3"
  },
  "language_info": {
   "codemirror_mode": {
    "name": "ipython",
    "version": 3
   },
   "file_extension": ".py",
   "mimetype": "text/x-python",
   "name": "python",
   "nbconvert_exporter": "python",
   "pygments_lexer": "ipython3",
   "version": "3.7.5"
  }
 },
 "nbformat": 4,
 "nbformat_minor": 4
}
