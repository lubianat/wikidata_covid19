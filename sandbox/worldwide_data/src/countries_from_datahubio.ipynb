{
 "cells": [
  {
   "cell_type": "markdown",
   "metadata": {},
   "source": [
    "### Exploring data from datahub.io\n",
    "\n",
    "Acquiring data from [here](https://github.com/datasets/covid-19) and maybe soon be able to automate the integration of that data with wikidata.\n",
    "\n",
    "Just some things to think about (jvfe):\n",
    "- How to properly reference the data? Choose [datahub.io](https://datahub.io/core/covid-19) as the reference?\n",
    "    - They aggregate it from various sources\n",
    "    \n",
    "    \n",
    "- I've acquired the country outbreak items via the following query and modified it slightly to better merge the items.\n",
    "```\n",
    "SELECT ?item ?itemLabel ?countryid ?countryidLabel\n",
    "WHERE \n",
    "{\n",
    "  ?item p:P31 ?statement. \n",
    "      ?statement ps:P31 wd:Q3241045. \n",
    "      ?statement pq:P642 wd:Q84263196.\n",
    "      ?statement pq:P3005 ?countryid.\n",
    "      ?countryid wdt:P31 wd:Q6256.\n",
    "  SERVICE wikibase:label { bd:serviceParam wikibase:language \"en\". }\n",
    "}\n",
    "```"
   ]
  },
  {
   "cell_type": "code",
   "execution_count": 1,
   "metadata": {},
   "outputs": [],
   "source": [
    "%load_ext pycodestyle_magic"
   ]
  },
  {
   "cell_type": "code",
   "execution_count": 2,
   "metadata": {},
   "outputs": [],
   "source": [
    "%flake8_on"
   ]
  },
  {
   "cell_type": "code",
   "execution_count": 3,
   "metadata": {},
   "outputs": [],
   "source": [
    "import pandas as pd"
   ]
  },
  {
   "cell_type": "code",
   "execution_count": 4,
   "metadata": {},
   "outputs": [],
   "source": [
    "from datetime import date, time, timedelta\n",
    "yesterday = date.today() - timedelta(days=1)\n",
    "today = date.today()\n",
    "\n",
    "yesterday_table = yesterday.strftime(\"%Y-%m-%d\")\n",
    "today_table = today.strftime(\"%Y-%m-%d\")\n"
   ]
  },
  {
   "cell_type": "code",
   "execution_count": 5,
   "metadata": {},
   "outputs": [
    {
     "name": "stderr",
     "output_type": "stream",
     "text": [
      "1:80: E501 line too long (115 > 79 characters)\n"
     ]
    }
   ],
   "source": [
    "countries = pd.read_csv(\"https://raw.githubusercontent.com/datasets/covid-19/master/data/countries-aggregated.csv\")\n",
    "wdt_items = pd.read_csv(\"../data/country_outbreaks.csv\")"
   ]
  },
  {
   "cell_type": "code",
   "execution_count": 6,
   "metadata": {},
   "outputs": [
    {
     "data": {
      "text/html": [
       "<div>\n",
       "<style scoped>\n",
       "    .dataframe tbody tr th:only-of-type {\n",
       "        vertical-align: middle;\n",
       "    }\n",
       "\n",
       "    .dataframe tbody tr th {\n",
       "        vertical-align: top;\n",
       "    }\n",
       "\n",
       "    .dataframe thead th {\n",
       "        text-align: right;\n",
       "    }\n",
       "</style>\n",
       "<table border=\"1\" class=\"dataframe\">\n",
       "  <thead>\n",
       "    <tr style=\"text-align: right;\">\n",
       "      <th></th>\n",
       "      <th>Date</th>\n",
       "      <th>Country</th>\n",
       "      <th>Confirmed</th>\n",
       "      <th>Recovered</th>\n",
       "      <th>Deaths</th>\n",
       "      <th>item</th>\n",
       "      <th>itemLabel</th>\n",
       "      <th>countryid</th>\n",
       "    </tr>\n",
       "  </thead>\n",
       "  <tbody>\n",
       "    <tr>\n",
       "      <th>0</th>\n",
       "      <td>2020-01-22</td>\n",
       "      <td>Afghanistan</td>\n",
       "      <td>0</td>\n",
       "      <td>0</td>\n",
       "      <td>0</td>\n",
       "      <td>Q87768605</td>\n",
       "      <td>2020 coronavirus pandemic in Afghanistan</td>\n",
       "      <td>Q889</td>\n",
       "    </tr>\n",
       "    <tr>\n",
       "      <th>1</th>\n",
       "      <td>2020-01-23</td>\n",
       "      <td>Afghanistan</td>\n",
       "      <td>0</td>\n",
       "      <td>0</td>\n",
       "      <td>0</td>\n",
       "      <td>Q87768605</td>\n",
       "      <td>2020 coronavirus pandemic in Afghanistan</td>\n",
       "      <td>Q889</td>\n",
       "    </tr>\n",
       "    <tr>\n",
       "      <th>2</th>\n",
       "      <td>2020-01-24</td>\n",
       "      <td>Afghanistan</td>\n",
       "      <td>0</td>\n",
       "      <td>0</td>\n",
       "      <td>0</td>\n",
       "      <td>Q87768605</td>\n",
       "      <td>2020 coronavirus pandemic in Afghanistan</td>\n",
       "      <td>Q889</td>\n",
       "    </tr>\n",
       "  </tbody>\n",
       "</table>\n",
       "</div>"
      ],
      "text/plain": [
       "         Date      Country  Confirmed  Recovered  Deaths       item  \\\n",
       "0  2020-01-22  Afghanistan          0          0       0  Q87768605   \n",
       "1  2020-01-23  Afghanistan          0          0       0  Q87768605   \n",
       "2  2020-01-24  Afghanistan          0          0       0  Q87768605   \n",
       "\n",
       "                                  itemLabel countryid  \n",
       "0  2020 coronavirus pandemic in Afghanistan      Q889  \n",
       "1  2020 coronavirus pandemic in Afghanistan      Q889  \n",
       "2  2020 coronavirus pandemic in Afghanistan      Q889  "
      ]
     },
     "execution_count": 6,
     "metadata": {},
     "output_type": "execute_result"
    }
   ],
   "source": [
    "full = pd.merge(countries, wdt_items, on=\"Country\")\n",
    "full.head(3)"
   ]
  },
  {
   "cell_type": "code",
   "execution_count": 7,
   "metadata": {},
   "outputs": [
    {
     "data": {
      "text/html": [
       "<div>\n",
       "<style scoped>\n",
       "    .dataframe tbody tr th:only-of-type {\n",
       "        vertical-align: middle;\n",
       "    }\n",
       "\n",
       "    .dataframe tbody tr th {\n",
       "        vertical-align: top;\n",
       "    }\n",
       "\n",
       "    .dataframe thead th {\n",
       "        text-align: right;\n",
       "    }\n",
       "</style>\n",
       "<table border=\"1\" class=\"dataframe\">\n",
       "  <thead>\n",
       "    <tr style=\"text-align: right;\">\n",
       "      <th></th>\n",
       "      <th>Date</th>\n",
       "      <th>Country</th>\n",
       "      <th>Confirmed</th>\n",
       "      <th>Recovered</th>\n",
       "      <th>Deaths</th>\n",
       "      <th>item</th>\n",
       "      <th>itemLabel</th>\n",
       "      <th>countryid</th>\n",
       "    </tr>\n",
       "  </thead>\n",
       "  <tbody>\n",
       "    <tr>\n",
       "      <th>143</th>\n",
       "      <td>2020-06-13</td>\n",
       "      <td>Afghanistan</td>\n",
       "      <td>24102</td>\n",
       "      <td>4201</td>\n",
       "      <td>451</td>\n",
       "      <td>Q87768605</td>\n",
       "      <td>2020 coronavirus pandemic in Afghanistan</td>\n",
       "      <td>Q889</td>\n",
       "    </tr>\n",
       "    <tr>\n",
       "      <th>287</th>\n",
       "      <td>2020-06-13</td>\n",
       "      <td>Algeria</td>\n",
       "      <td>10810</td>\n",
       "      <td>7420</td>\n",
       "      <td>760</td>\n",
       "      <td>Q87202921</td>\n",
       "      <td>2020 coronavirus pandemic in Algeria</td>\n",
       "      <td>Q262</td>\n",
       "    </tr>\n",
       "  </tbody>\n",
       "</table>\n",
       "</div>"
      ],
      "text/plain": [
       "           Date      Country  Confirmed  Recovered  Deaths       item  \\\n",
       "143  2020-06-13  Afghanistan      24102       4201     451  Q87768605   \n",
       "287  2020-06-13      Algeria      10810       7420     760  Q87202921   \n",
       "\n",
       "                                    itemLabel countryid  \n",
       "143  2020 coronavirus pandemic in Afghanistan      Q889  \n",
       "287      2020 coronavirus pandemic in Algeria      Q262  "
      ]
     },
     "execution_count": 7,
     "metadata": {},
     "output_type": "execute_result"
    }
   ],
   "source": [
    "from datetime import datetime\n",
    "# Most recent data seems to be from the day before\n",
    "\n",
    "query = \"Date == @yesterday_table\"\n",
    "recent = full.query(query)\n",
    "\n",
    "# that does not happen aways, though.\n",
    "\n",
    "\n",
    "dates_in_full = [datetime.strptime(date, \"%Y-%m-%d\") for date in full[\"Date\"]]\n",
    "most_recent_date = max(dates_in_full).strftime(\"%Y-%m-%d\")\n",
    "\n",
    "# pd.query did not work\n",
    "recent = full[full[\"Date\"] == most_recent_date]\n",
    "\n",
    "recent.head(2)"
   ]
  },
  {
   "cell_type": "code",
   "execution_count": 8,
   "metadata": {},
   "outputs": [],
   "source": [
    "# The following countries appear to be updated\n",
    "# manually from more specific sources.\n",
    "idx = recent['Country'].isin(['US', 'United Kingdom', 'France', 'Sweden',\n",
    "                              'Brazil', 'Netherlands', 'China', 'Italy',\n",
    "                              'Spain', 'Germany', 'Iran', 'Índia', 'Mexico',\n",
    "                              'Argentina', 'Canada', 'Spain', 'Norway',\n",
    "                              'Uruguay'])\n",
    "not_manual = recent[~idx]"
   ]
  },
  {
   "cell_type": "code",
   "execution_count": 9,
   "metadata": {},
   "outputs": [],
   "source": [
    "yesterday_wdt = yesterday.strftime(\"+%Y-%m-%dT00:00:00Z/11\")\n",
    "today_wdt = today.strftime(\"+%Y-%m-%dT00:00:00Z/11\")\n",
    "\n",
    "with open(f'../data/{today_table}.qs', 'w') as file:\n",
    "    for index, row in not_manual.iterrows():\n",
    "        print(\n",
    "            row['item'] + \"|P1603|\" + str(int(row['Confirmed'])) +\n",
    "            \"|P585|\" + yesterday_wdt + \"|S854|\" + '\"' +\n",
    "            \"https://github.com/datasets/covid-19\" + '\"' +\n",
    "            \"|S813|\" + today_wdt + \"\\n\" +\n",
    "\n",
    "            row['item'] + \"|P1120|\" + str(int(row['Deaths'])) +\n",
    "            \"|P585|\" + yesterday_wdt + \"|S854|\" + '\"' +\n",
    "            \"https://github.com/datasets/covid-19\" + '\"' +\n",
    "            \"|S813|\" + today_wdt + \"\\n\" +\n",
    "\n",
    "            row['item'] + \"|P8010|\" + str(int(row['Recovered'])) +\n",
    "            \"|P585|\" + yesterday_wdt + \"|S854|\" + '\"' +\n",
    "            \"https://github.com/datasets/covid-19\" + '\"' +\n",
    "            \"|S813|\" + today_wdt + \"\\n\",\n",
    "            file=file)"
   ]
  },
  {
   "cell_type": "code",
   "execution_count": 10,
   "metadata": {},
   "outputs": [],
   "source": [
    "%run check_last_update_for_country_items.py"
   ]
  },
  {
   "cell_type": "code",
   "execution_count": 11,
   "metadata": {},
   "outputs": [
    {
     "name": "stderr",
     "output_type": "stream",
     "text": [
      "6:80: E501 line too long (116 > 79 characters)\n"
     ]
    }
   ],
   "source": [
    "country_outbreak_items = list(recent[\"item\"])\n",
    "\n",
    "# Api only takes 50 at a time, so we have to cut it.\n",
    "\n",
    "\n",
    "# implementation from    https://stackoverflow.com/questions/312443/how-do-you-split-a-list-into-evenly-sized-chunks\n",
    "def get_chunks(l, n):\n",
    "    n = max(1, n)\n",
    "    return (l[i:i+n] for i in range(0, len(l), n))\n",
    "\n",
    "\n",
    "chunks_of_country_outbreak_items = list(get_chunks(country_outbreak_items, 50))\n",
    "\n",
    "outbreak_item_to_timestamp = {}\n",
    "\n",
    "for chunk in chunks_of_country_outbreak_items:\n",
    "    outbreak_item_to_timestamp.update(get_timestamp_of_last_edits(chunk))\n"
   ]
  },
  {
   "cell_type": "code",
   "execution_count": 12,
   "metadata": {},
   "outputs": [
    {
     "name": "stderr",
     "output_type": "stream",
     "text": [
      "/home/lubianat/.local/lib/python3.6/site-packages/ipykernel_launcher.py:1: SettingWithCopyWarning: \n",
      "A value is trying to be set on a copy of a slice from a DataFrame.\n",
      "Try using .loc[row_indexer,col_indexer] = value instead\n",
      "\n",
      "See the caveats in the documentation: https://pandas.pydata.org/pandas-docs/stable/user_guide/indexing.html#returning-a-view-versus-a-copy\n",
      "  \"\"\"Entry point for launching an IPython kernel.\n"
     ]
    },
    {
     "data": {
      "text/html": [
       "<div>\n",
       "<style scoped>\n",
       "    .dataframe tbody tr th:only-of-type {\n",
       "        vertical-align: middle;\n",
       "    }\n",
       "\n",
       "    .dataframe tbody tr th {\n",
       "        vertical-align: top;\n",
       "    }\n",
       "\n",
       "    .dataframe thead th {\n",
       "        text-align: right;\n",
       "    }\n",
       "</style>\n",
       "<table border=\"1\" class=\"dataframe\">\n",
       "  <thead>\n",
       "    <tr style=\"text-align: right;\">\n",
       "      <th></th>\n",
       "      <th>Date</th>\n",
       "      <th>Country</th>\n",
       "      <th>Confirmed</th>\n",
       "      <th>Recovered</th>\n",
       "      <th>Deaths</th>\n",
       "      <th>item</th>\n",
       "      <th>itemLabel</th>\n",
       "      <th>countryid</th>\n",
       "      <th>timestamp_of_last_edit</th>\n",
       "    </tr>\n",
       "  </thead>\n",
       "  <tbody>\n",
       "    <tr>\n",
       "      <th>143</th>\n",
       "      <td>2020-06-13</td>\n",
       "      <td>Afghanistan</td>\n",
       "      <td>24102</td>\n",
       "      <td>4201</td>\n",
       "      <td>451</td>\n",
       "      <td>Q87768605</td>\n",
       "      <td>2020 coronavirus pandemic in Afghanistan</td>\n",
       "      <td>Q889</td>\n",
       "      <td>2020-06-11T21:49:41Z</td>\n",
       "    </tr>\n",
       "  </tbody>\n",
       "</table>\n",
       "</div>"
      ],
      "text/plain": [
       "           Date      Country  Confirmed  Recovered  Deaths       item  \\\n",
       "143  2020-06-13  Afghanistan      24102       4201     451  Q87768605   \n",
       "\n",
       "                                    itemLabel countryid timestamp_of_last_edit  \n",
       "143  2020 coronavirus pandemic in Afghanistan      Q889   2020-06-11T21:49:41Z  "
      ]
     },
     "execution_count": 12,
     "metadata": {},
     "output_type": "execute_result"
    },
    {
     "name": "stderr",
     "output_type": "stream",
     "text": [
      "1:80: E501 line too long (81 > 79 characters)\n"
     ]
    }
   ],
   "source": [
    "recent[\"timestamp_of_last_edit\"] = recent[\"item\"].map(outbreak_item_to_timestamp)\n",
    "\n",
    "recent.head(1)"
   ]
  },
  {
   "cell_type": "code",
   "execution_count": 13,
   "metadata": {},
   "outputs": [],
   "source": [
    "from datetime import datetime\n",
    "\n",
    "\n",
    "def convert_timestamp_to_time_until_now(timestamp):\n",
    "\n",
    "    time_in_datetime_format = datetime.strptime(timestamp,\n",
    "                                                \"%Y-%m-%dT%H:%M:%SZ\")\n",
    "    diff = datetime.now() - time_in_datetime_format\n",
    "    return(diff)"
   ]
  },
  {
   "cell_type": "code",
   "execution_count": 14,
   "metadata": {},
   "outputs": [
    {
     "name": "stderr",
     "output_type": "stream",
     "text": [
      "/home/lubianat/.local/lib/python3.6/site-packages/ipykernel_launcher.py:1: SettingWithCopyWarning: \n",
      "A value is trying to be set on a copy of a slice from a DataFrame.\n",
      "Try using .loc[row_indexer,col_indexer] = value instead\n",
      "\n",
      "See the caveats in the documentation: https://pandas.pydata.org/pandas-docs/stable/user_guide/indexing.html#returning-a-view-versus-a-copy\n",
      "  \"\"\"Entry point for launching an IPython kernel.\n"
     ]
    },
    {
     "data": {
      "text/html": [
       "<div>\n",
       "<style scoped>\n",
       "    .dataframe tbody tr th:only-of-type {\n",
       "        vertical-align: middle;\n",
       "    }\n",
       "\n",
       "    .dataframe tbody tr th {\n",
       "        vertical-align: top;\n",
       "    }\n",
       "\n",
       "    .dataframe thead th {\n",
       "        text-align: right;\n",
       "    }\n",
       "</style>\n",
       "<table border=\"1\" class=\"dataframe\">\n",
       "  <thead>\n",
       "    <tr style=\"text-align: right;\">\n",
       "      <th></th>\n",
       "      <th>Date</th>\n",
       "      <th>Country</th>\n",
       "      <th>Confirmed</th>\n",
       "      <th>Recovered</th>\n",
       "      <th>Deaths</th>\n",
       "      <th>item</th>\n",
       "      <th>itemLabel</th>\n",
       "      <th>countryid</th>\n",
       "      <th>timestamp_of_last_edit</th>\n",
       "      <th>time_from_last_edit_until_now</th>\n",
       "    </tr>\n",
       "  </thead>\n",
       "  <tbody>\n",
       "    <tr>\n",
       "      <th>143</th>\n",
       "      <td>2020-06-13</td>\n",
       "      <td>Afghanistan</td>\n",
       "      <td>24102</td>\n",
       "      <td>4201</td>\n",
       "      <td>451</td>\n",
       "      <td>Q87768605</td>\n",
       "      <td>2020 coronavirus pandemic in Afghanistan</td>\n",
       "      <td>Q889</td>\n",
       "      <td>2020-06-11T21:49:41Z</td>\n",
       "      <td>3 days 00:19:43.386745</td>\n",
       "    </tr>\n",
       "  </tbody>\n",
       "</table>\n",
       "</div>"
      ],
      "text/plain": [
       "           Date      Country  Confirmed  Recovered  Deaths       item  \\\n",
       "143  2020-06-13  Afghanistan      24102       4201     451  Q87768605   \n",
       "\n",
       "                                    itemLabel countryid  \\\n",
       "143  2020 coronavirus pandemic in Afghanistan      Q889   \n",
       "\n",
       "    timestamp_of_last_edit time_from_last_edit_until_now  \n",
       "143   2020-06-11T21:49:41Z        3 days 00:19:43.386745  "
      ]
     },
     "execution_count": 14,
     "metadata": {},
     "output_type": "execute_result"
    },
    {
     "name": "stderr",
     "output_type": "stream",
     "text": [
      "1:80: E501 line too long (115 > 79 characters)\n"
     ]
    }
   ],
   "source": [
    "recent[\"time_from_last_edit_until_now\"] = recent[\"timestamp_of_last_edit\"].map(convert_timestamp_to_time_until_now)\n",
    "\n",
    "recent.head(1)"
   ]
  },
  {
   "cell_type": "code",
   "execution_count": 15,
   "metadata": {},
   "outputs": [],
   "source": [
    "outdated_items = recent[recent[\"time_from_last_edit_until_now\"] > timedelta(hours=23)]"
   ]
  },
  {
   "cell_type": "code",
   "execution_count": 16,
   "metadata": {},
   "outputs": [
    {
     "data": {
      "text/html": [
       "<div>\n",
       "<style scoped>\n",
       "    .dataframe tbody tr th:only-of-type {\n",
       "        vertical-align: middle;\n",
       "    }\n",
       "\n",
       "    .dataframe tbody tr th {\n",
       "        vertical-align: top;\n",
       "    }\n",
       "\n",
       "    .dataframe thead th {\n",
       "        text-align: right;\n",
       "    }\n",
       "</style>\n",
       "<table border=\"1\" class=\"dataframe\">\n",
       "  <thead>\n",
       "    <tr style=\"text-align: right;\">\n",
       "      <th></th>\n",
       "      <th>Date</th>\n",
       "      <th>Country</th>\n",
       "      <th>Confirmed</th>\n",
       "      <th>Recovered</th>\n",
       "      <th>Deaths</th>\n",
       "      <th>item</th>\n",
       "      <th>itemLabel</th>\n",
       "      <th>countryid</th>\n",
       "      <th>timestamp_of_last_edit</th>\n",
       "      <th>time_from_last_edit_until_now</th>\n",
       "    </tr>\n",
       "  </thead>\n",
       "  <tbody>\n",
       "    <tr>\n",
       "      <th>143</th>\n",
       "      <td>2020-06-13</td>\n",
       "      <td>Afghanistan</td>\n",
       "      <td>24102</td>\n",
       "      <td>4201</td>\n",
       "      <td>451</td>\n",
       "      <td>Q87768605</td>\n",
       "      <td>2020 coronavirus pandemic in Afghanistan</td>\n",
       "      <td>Q889</td>\n",
       "      <td>2020-06-11T21:49:41Z</td>\n",
       "      <td>3 days 00:19:43.386745</td>\n",
       "    </tr>\n",
       "    <tr>\n",
       "      <th>287</th>\n",
       "      <td>2020-06-13</td>\n",
       "      <td>Algeria</td>\n",
       "      <td>10810</td>\n",
       "      <td>7420</td>\n",
       "      <td>760</td>\n",
       "      <td>Q87202921</td>\n",
       "      <td>2020 coronavirus pandemic in Algeria</td>\n",
       "      <td>Q262</td>\n",
       "      <td>2020-06-08T17:00:32Z</td>\n",
       "      <td>6 days 05:08:52.386792</td>\n",
       "    </tr>\n",
       "    <tr>\n",
       "      <th>431</th>\n",
       "      <td>2020-06-13</td>\n",
       "      <td>Angola</td>\n",
       "      <td>138</td>\n",
       "      <td>61</td>\n",
       "      <td>6</td>\n",
       "      <td>Q88082534</td>\n",
       "      <td>2020 coronavirus pandemic in Angola</td>\n",
       "      <td>Q916</td>\n",
       "      <td>2020-05-29T04:41:32Z</td>\n",
       "      <td>16 days 17:27:52.386814</td>\n",
       "    </tr>\n",
       "    <tr>\n",
       "      <th>575</th>\n",
       "      <td>2020-06-13</td>\n",
       "      <td>Antigua and Barbuda</td>\n",
       "      <td>26</td>\n",
       "      <td>20</td>\n",
       "      <td>3</td>\n",
       "      <td>Q87708331</td>\n",
       "      <td>2020 coronavirus pandemic in Antigua and Barbuda</td>\n",
       "      <td>Q781</td>\n",
       "      <td>2020-05-14T21:22:34Z</td>\n",
       "      <td>31 days 00:46:50.386831</td>\n",
       "    </tr>\n",
       "    <tr>\n",
       "      <th>863</th>\n",
       "      <td>2020-06-13</td>\n",
       "      <td>Australia</td>\n",
       "      <td>7320</td>\n",
       "      <td>6838</td>\n",
       "      <td>102</td>\n",
       "      <td>Q83873548</td>\n",
       "      <td>2020 coronavirus pandemic in Australia</td>\n",
       "      <td>Q408</td>\n",
       "      <td>2020-05-28T22:20:24Z</td>\n",
       "      <td>16 days 23:49:00.386860</td>\n",
       "    </tr>\n",
       "  </tbody>\n",
       "</table>\n",
       "</div>"
      ],
      "text/plain": [
       "           Date              Country  Confirmed  Recovered  Deaths       item  \\\n",
       "143  2020-06-13          Afghanistan      24102       4201     451  Q87768605   \n",
       "287  2020-06-13              Algeria      10810       7420     760  Q87202921   \n",
       "431  2020-06-13               Angola        138         61       6  Q88082534   \n",
       "575  2020-06-13  Antigua and Barbuda         26         20       3  Q87708331   \n",
       "863  2020-06-13            Australia       7320       6838     102  Q83873548   \n",
       "\n",
       "                                            itemLabel countryid  \\\n",
       "143          2020 coronavirus pandemic in Afghanistan      Q889   \n",
       "287              2020 coronavirus pandemic in Algeria      Q262   \n",
       "431               2020 coronavirus pandemic in Angola      Q916   \n",
       "575  2020 coronavirus pandemic in Antigua and Barbuda      Q781   \n",
       "863            2020 coronavirus pandemic in Australia      Q408   \n",
       "\n",
       "    timestamp_of_last_edit time_from_last_edit_until_now  \n",
       "143   2020-06-11T21:49:41Z        3 days 00:19:43.386745  \n",
       "287   2020-06-08T17:00:32Z        6 days 05:08:52.386792  \n",
       "431   2020-05-29T04:41:32Z       16 days 17:27:52.386814  \n",
       "575   2020-05-14T21:22:34Z       31 days 00:46:50.386831  \n",
       "863   2020-05-28T22:20:24Z       16 days 23:49:00.386860  "
      ]
     },
     "execution_count": 16,
     "metadata": {},
     "output_type": "execute_result"
    }
   ],
   "source": [
    "outdated_items.head(5)"
   ]
  },
  {
   "cell_type": "code",
   "execution_count": 17,
   "metadata": {},
   "outputs": [],
   "source": [
    "\n",
    "table_date_in_wikidata_format = datetime.strptime(\n",
    "    outdated_items[\"Date\"].values[0], \"%Y-%m-%d\").strftime(\n",
    "    \"+%Y-%m-%dT00:00:00Z/11\")\n",
    "\n",
    "point_in_time = \"|P585|\" + table_date_in_wikidata_format\n",
    "\n",
    "today_wdt = today.strftime(\"+%Y-%m-%dT00:00:00Z/11\")\n",
    "\n",
    "\n",
    "reference_URL = \"|S854|\" + '\"' + \"https://datahub.io/core/covid-19\" + '\"'\n",
    "retrieved_in = \"|S813|\" + today_wdt\n",
    "filename_in_archive = \"|S7793|\" + '\"' + \"r/countries-aggregated.csv\" + '\"'\n",
    "\n",
    "reference = reference_URL + retrieved_in + filename_in_archive\n",
    "\n",
    "\n",
    "with open(f'../data/{today_table}_outdated_items.qs', 'w') as file:\n",
    "    for index, row in outdated_items.iterrows():\n",
    "        print(\n",
    "            row['item'] + \"|P1603|\" + str(int(row['Confirmed'])) +\n",
    "            point_in_time + reference + \"\\n\" +\n",
    "            row['item'] + \"|P1120|\" + str(int(row['Deaths'])) +\n",
    "            point_in_time + reference + \"\\n\" +\n",
    "            row['item'] + \"|P8010|\" + str(int(row['Recovered'])) +\n",
    "            point_in_time + reference + \"\\n\",\n",
    "            file=file)"
   ]
  },
  {
   "cell_type": "code",
   "execution_count": 18,
   "metadata": {},
   "outputs": [
    {
     "data": {
      "text/html": [
       "<div>\n",
       "<style scoped>\n",
       "    .dataframe tbody tr th:only-of-type {\n",
       "        vertical-align: middle;\n",
       "    }\n",
       "\n",
       "    .dataframe tbody tr th {\n",
       "        vertical-align: top;\n",
       "    }\n",
       "\n",
       "    .dataframe thead th {\n",
       "        text-align: right;\n",
       "    }\n",
       "</style>\n",
       "<table border=\"1\" class=\"dataframe\">\n",
       "  <thead>\n",
       "    <tr style=\"text-align: right;\">\n",
       "      <th></th>\n",
       "      <th>Date</th>\n",
       "      <th>Country</th>\n",
       "      <th>Confirmed</th>\n",
       "      <th>Recovered</th>\n",
       "      <th>Deaths</th>\n",
       "      <th>item</th>\n",
       "      <th>itemLabel</th>\n",
       "      <th>countryid</th>\n",
       "      <th>timestamp_of_last_edit</th>\n",
       "      <th>time_from_last_edit_until_now</th>\n",
       "    </tr>\n",
       "  </thead>\n",
       "  <tbody>\n",
       "    <tr>\n",
       "      <th>143</th>\n",
       "      <td>2020-06-13</td>\n",
       "      <td>Afghanistan</td>\n",
       "      <td>24102</td>\n",
       "      <td>4201</td>\n",
       "      <td>451</td>\n",
       "      <td>Q87768605</td>\n",
       "      <td>2020 coronavirus pandemic in Afghanistan</td>\n",
       "      <td>Q889</td>\n",
       "      <td>2020-06-11T21:49:41Z</td>\n",
       "      <td>3 days 00:19:43.386745</td>\n",
       "    </tr>\n",
       "    <tr>\n",
       "      <th>287</th>\n",
       "      <td>2020-06-13</td>\n",
       "      <td>Algeria</td>\n",
       "      <td>10810</td>\n",
       "      <td>7420</td>\n",
       "      <td>760</td>\n",
       "      <td>Q87202921</td>\n",
       "      <td>2020 coronavirus pandemic in Algeria</td>\n",
       "      <td>Q262</td>\n",
       "      <td>2020-06-08T17:00:32Z</td>\n",
       "      <td>6 days 05:08:52.386792</td>\n",
       "    </tr>\n",
       "    <tr>\n",
       "      <th>431</th>\n",
       "      <td>2020-06-13</td>\n",
       "      <td>Angola</td>\n",
       "      <td>138</td>\n",
       "      <td>61</td>\n",
       "      <td>6</td>\n",
       "      <td>Q88082534</td>\n",
       "      <td>2020 coronavirus pandemic in Angola</td>\n",
       "      <td>Q916</td>\n",
       "      <td>2020-05-29T04:41:32Z</td>\n",
       "      <td>16 days 17:27:52.386814</td>\n",
       "    </tr>\n",
       "    <tr>\n",
       "      <th>575</th>\n",
       "      <td>2020-06-13</td>\n",
       "      <td>Antigua and Barbuda</td>\n",
       "      <td>26</td>\n",
       "      <td>20</td>\n",
       "      <td>3</td>\n",
       "      <td>Q87708331</td>\n",
       "      <td>2020 coronavirus pandemic in Antigua and Barbuda</td>\n",
       "      <td>Q781</td>\n",
       "      <td>2020-05-14T21:22:34Z</td>\n",
       "      <td>31 days 00:46:50.386831</td>\n",
       "    </tr>\n",
       "    <tr>\n",
       "      <th>863</th>\n",
       "      <td>2020-06-13</td>\n",
       "      <td>Australia</td>\n",
       "      <td>7320</td>\n",
       "      <td>6838</td>\n",
       "      <td>102</td>\n",
       "      <td>Q83873548</td>\n",
       "      <td>2020 coronavirus pandemic in Australia</td>\n",
       "      <td>Q408</td>\n",
       "      <td>2020-05-28T22:20:24Z</td>\n",
       "      <td>16 days 23:49:00.386860</td>\n",
       "    </tr>\n",
       "  </tbody>\n",
       "</table>\n",
       "</div>"
      ],
      "text/plain": [
       "           Date              Country  Confirmed  Recovered  Deaths       item  \\\n",
       "143  2020-06-13          Afghanistan      24102       4201     451  Q87768605   \n",
       "287  2020-06-13              Algeria      10810       7420     760  Q87202921   \n",
       "431  2020-06-13               Angola        138         61       6  Q88082534   \n",
       "575  2020-06-13  Antigua and Barbuda         26         20       3  Q87708331   \n",
       "863  2020-06-13            Australia       7320       6838     102  Q83873548   \n",
       "\n",
       "                                            itemLabel countryid  \\\n",
       "143          2020 coronavirus pandemic in Afghanistan      Q889   \n",
       "287              2020 coronavirus pandemic in Algeria      Q262   \n",
       "431               2020 coronavirus pandemic in Angola      Q916   \n",
       "575  2020 coronavirus pandemic in Antigua and Barbuda      Q781   \n",
       "863            2020 coronavirus pandemic in Australia      Q408   \n",
       "\n",
       "    timestamp_of_last_edit time_from_last_edit_until_now  \n",
       "143   2020-06-11T21:49:41Z        3 days 00:19:43.386745  \n",
       "287   2020-06-08T17:00:32Z        6 days 05:08:52.386792  \n",
       "431   2020-05-29T04:41:32Z       16 days 17:27:52.386814  \n",
       "575   2020-05-14T21:22:34Z       31 days 00:46:50.386831  \n",
       "863   2020-05-28T22:20:24Z       16 days 23:49:00.386860  "
      ]
     },
     "execution_count": 18,
     "metadata": {},
     "output_type": "execute_result"
    }
   ],
   "source": [
    "outdated_items.head(5)"
   ]
  },
  {
   "cell_type": "code",
   "execution_count": 22,
   "metadata": {},
   "outputs": [
    {
     "name": "stdout",
     "output_type": "stream",
     "text": [
      "https://www.wikidata.org/w/api.php\n",
      "Successfully logged in as CovidDatahubBot\n"
     ]
    },
    {
     "data": {
      "text/plain": [
       "'Q96288412'"
      ]
     },
     "execution_count": 22,
     "metadata": {},
     "output_type": "execute_result"
    },
    {
     "name": "stderr",
     "output_type": "stream",
     "text": [
      "2:34: W291 trailing whitespace\n",
      "4:80: E501 line too long (87 > 79 characters)\n",
      "5:1: W293 blank line contains whitespace\n",
      "8:1: W293 blank line contains whitespace\n",
      "9:5: E116 unexpected indentation (comment)\n",
      "9:74: W291 trailing whitespace\n",
      "11:1: W293 blank line contains whitespace\n",
      "12:5: E116 unexpected indentation (comment)\n"
     ]
    }
   ],
   "source": [
    "from wikidataintegrator import wdi_core, wdi_login\n",
    "import credentials as credentials        \n",
    "# login object\n",
    "login_instance = wdi_login.WDLogin(user=credentials.username, pwd=credentials.password)\n",
    "         \n",
    "# data type object, e.g. for a NCBI gene entrez ID\n",
    "death_counts_for_country = wdi_core.WDQuantity(value=451, prop_nr='P1120')\n",
    "    \n",
    "    # data goes into a list, because many data objects can be provided to \n",
    "data_to_update_for_country = [death_counts_for_country]\n",
    "    \n",
    "    # Search for and then edit/create new item\n",
    "wd_item = wdi_core.WDItemEngine(wd_item_id=\"Q87768605\",\n",
    "                                data=data_to_update_for_country)\n",
    "wd_item.write(login_instance,\n",
    "              bot_account=True,\n",
    "              dit_summary=\"updating case counts for today\")"
   ]
  },
  {
   "cell_type": "code",
   "execution_count": 20,
   "metadata": {},
   "outputs": [],
   "source": []
  },
  {
   "cell_type": "code",
   "execution_count": null,
   "metadata": {},
   "outputs": [],
   "source": [
    "credentials"
   ]
  }
 ],
 "metadata": {
  "kernelspec": {
   "display_name": "Python 3",
   "language": "python",
   "name": "python3"
  },
  "language_info": {
   "codemirror_mode": {
    "name": "ipython",
    "version": 3
   },
   "file_extension": ".py",
   "mimetype": "text/x-python",
   "name": "python",
   "nbconvert_exporter": "python",
   "pygments_lexer": "ipython3",
   "version": "3.6.9"
  }
 },
 "nbformat": 4,
 "nbformat_minor": 4
}
