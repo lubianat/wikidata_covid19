{
 "cells": [
  {
   "cell_type": "markdown",
   "metadata": {},
   "source": [
    "### Exploring data from datahub.io\n",
    "\n",
    "Acquiring data from [here](https://github.com/datasets/covid-19) and maybe soon be able to automate the integration of that data with wikidata.\n",
    "\n",
    "Just some things to think about (jvfe):\n",
    "- How to properly reference the data? Choose [datahub.io](https://datahub.io/core/covid-19) as the reference?\n",
    "    - They aggregate it from various sources\n",
    "    \n",
    "    \n",
    "- I've acquired the country outbreak items via the following query and modified it slightly to better merge the items.\n",
    "```\n",
    "SELECT ?item ?itemLabel ?countryid ?countryidLabel\n",
    "WHERE \n",
    "{\n",
    "  ?item p:P31 ?statement. \n",
    "      ?statement ps:P31 wd:Q3241045. \n",
    "      ?statement pq:P642 wd:Q84263196.\n",
    "      ?statement pq:P3005 ?countryid.\n",
    "      ?countryid wdt:P31 wd:Q6256.\n",
    "  SERVICE wikibase:label { bd:serviceParam wikibase:language \"en\". }\n",
    "}\n",
    "```"
   ]
  },
  {
   "cell_type": "code",
   "execution_count": 2,
   "metadata": {},
   "outputs": [
    {
     "name": "stdout",
     "output_type": "stream",
     "text": [
      "The pycodestyle_magic extension is already loaded. To reload it, use:\n",
      "  %reload_ext pycodestyle_magic\n"
     ]
    }
   ],
   "source": [
    "%load_ext pycodestyle_magic"
   ]
  },
  {
   "cell_type": "code",
   "execution_count": 3,
   "metadata": {},
   "outputs": [],
   "source": [
    "%flake8_on"
   ]
  },
  {
   "cell_type": "code",
   "execution_count": 4,
   "metadata": {},
   "outputs": [],
   "source": [
    "import pandas as pd"
   ]
  },
  {
   "cell_type": "code",
   "execution_count": 5,
   "metadata": {},
   "outputs": [],
   "source": [
    "from datetime import date, time, timedelta\n",
    "yesterday = date.today() - timedelta(days=1)\n",
    "today = date.today()\n",
    "\n",
    "yesterday_table = yesterday.strftime(\"%Y-%m-%d\")\n",
    "today_table = today.strftime(\"%Y-%m-%d\")\n"
   ]
  },
  {
   "cell_type": "code",
   "execution_count": 6,
   "metadata": {},
   "outputs": [
    {
     "name": "stderr",
     "output_type": "stream",
     "text": [
      "1:80: E501 line too long (115 > 79 characters)\n"
     ]
    }
   ],
   "source": [
    "countries = pd.read_csv(\"https://raw.githubusercontent.com/datasets/covid-19/master/data/countries-aggregated.csv\")\n",
    "wdt_items = pd.read_csv(\"../data/country_outbreaks.csv\")"
   ]
  },
  {
   "cell_type": "code",
   "execution_count": 7,
   "metadata": {},
   "outputs": [
    {
     "data": {
      "text/html": [
       "<div>\n",
       "<style scoped>\n",
       "    .dataframe tbody tr th:only-of-type {\n",
       "        vertical-align: middle;\n",
       "    }\n",
       "\n",
       "    .dataframe tbody tr th {\n",
       "        vertical-align: top;\n",
       "    }\n",
       "\n",
       "    .dataframe thead th {\n",
       "        text-align: right;\n",
       "    }\n",
       "</style>\n",
       "<table border=\"1\" class=\"dataframe\">\n",
       "  <thead>\n",
       "    <tr style=\"text-align: right;\">\n",
       "      <th></th>\n",
       "      <th>Date</th>\n",
       "      <th>Country</th>\n",
       "      <th>Confirmed</th>\n",
       "      <th>Recovered</th>\n",
       "      <th>Deaths</th>\n",
       "      <th>item</th>\n",
       "      <th>itemLabel</th>\n",
       "      <th>countryid</th>\n",
       "    </tr>\n",
       "  </thead>\n",
       "  <tbody>\n",
       "    <tr>\n",
       "      <th>0</th>\n",
       "      <td>2020-01-22</td>\n",
       "      <td>Afghanistan</td>\n",
       "      <td>0</td>\n",
       "      <td>0</td>\n",
       "      <td>0</td>\n",
       "      <td>Q87768605</td>\n",
       "      <td>2020 coronavirus pandemic in Afghanistan</td>\n",
       "      <td>Q889</td>\n",
       "    </tr>\n",
       "    <tr>\n",
       "      <th>1</th>\n",
       "      <td>2020-01-23</td>\n",
       "      <td>Afghanistan</td>\n",
       "      <td>0</td>\n",
       "      <td>0</td>\n",
       "      <td>0</td>\n",
       "      <td>Q87768605</td>\n",
       "      <td>2020 coronavirus pandemic in Afghanistan</td>\n",
       "      <td>Q889</td>\n",
       "    </tr>\n",
       "    <tr>\n",
       "      <th>2</th>\n",
       "      <td>2020-01-24</td>\n",
       "      <td>Afghanistan</td>\n",
       "      <td>0</td>\n",
       "      <td>0</td>\n",
       "      <td>0</td>\n",
       "      <td>Q87768605</td>\n",
       "      <td>2020 coronavirus pandemic in Afghanistan</td>\n",
       "      <td>Q889</td>\n",
       "    </tr>\n",
       "  </tbody>\n",
       "</table>\n",
       "</div>"
      ],
      "text/plain": [
       "         Date      Country  Confirmed  Recovered  Deaths       item  \\\n",
       "0  2020-01-22  Afghanistan          0          0       0  Q87768605   \n",
       "1  2020-01-23  Afghanistan          0          0       0  Q87768605   \n",
       "2  2020-01-24  Afghanistan          0          0       0  Q87768605   \n",
       "\n",
       "                                  itemLabel countryid  \n",
       "0  2020 coronavirus pandemic in Afghanistan      Q889  \n",
       "1  2020 coronavirus pandemic in Afghanistan      Q889  \n",
       "2  2020 coronavirus pandemic in Afghanistan      Q889  "
      ]
     },
     "execution_count": 7,
     "metadata": {},
     "output_type": "execute_result"
    }
   ],
   "source": [
    "full = pd.merge(countries, wdt_items, on=\"Country\")\n",
    "full.head(3)"
   ]
  },
  {
   "cell_type": "code",
   "execution_count": 8,
   "metadata": {},
   "outputs": [
    {
     "data": {
      "text/html": [
       "<div>\n",
       "<style scoped>\n",
       "    .dataframe tbody tr th:only-of-type {\n",
       "        vertical-align: middle;\n",
       "    }\n",
       "\n",
       "    .dataframe tbody tr th {\n",
       "        vertical-align: top;\n",
       "    }\n",
       "\n",
       "    .dataframe thead th {\n",
       "        text-align: right;\n",
       "    }\n",
       "</style>\n",
       "<table border=\"1\" class=\"dataframe\">\n",
       "  <thead>\n",
       "    <tr style=\"text-align: right;\">\n",
       "      <th></th>\n",
       "      <th>Date</th>\n",
       "      <th>Country</th>\n",
       "      <th>Confirmed</th>\n",
       "      <th>Recovered</th>\n",
       "      <th>Deaths</th>\n",
       "      <th>item</th>\n",
       "      <th>itemLabel</th>\n",
       "      <th>countryid</th>\n",
       "    </tr>\n",
       "  </thead>\n",
       "  <tbody>\n",
       "    <tr>\n",
       "      <th>144</th>\n",
       "      <td>2020-06-14</td>\n",
       "      <td>Afghanistan</td>\n",
       "      <td>24766</td>\n",
       "      <td>4725</td>\n",
       "      <td>471</td>\n",
       "      <td>Q87768605</td>\n",
       "      <td>2020 coronavirus pandemic in Afghanistan</td>\n",
       "      <td>Q889</td>\n",
       "    </tr>\n",
       "    <tr>\n",
       "      <th>289</th>\n",
       "      <td>2020-06-14</td>\n",
       "      <td>Algeria</td>\n",
       "      <td>10919</td>\n",
       "      <td>7606</td>\n",
       "      <td>767</td>\n",
       "      <td>Q87202921</td>\n",
       "      <td>2020 coronavirus pandemic in Algeria</td>\n",
       "      <td>Q262</td>\n",
       "    </tr>\n",
       "  </tbody>\n",
       "</table>\n",
       "</div>"
      ],
      "text/plain": [
       "           Date      Country  Confirmed  Recovered  Deaths       item  \\\n",
       "144  2020-06-14  Afghanistan      24766       4725     471  Q87768605   \n",
       "289  2020-06-14      Algeria      10919       7606     767  Q87202921   \n",
       "\n",
       "                                    itemLabel countryid  \n",
       "144  2020 coronavirus pandemic in Afghanistan      Q889  \n",
       "289      2020 coronavirus pandemic in Algeria      Q262  "
      ]
     },
     "execution_count": 8,
     "metadata": {},
     "output_type": "execute_result"
    }
   ],
   "source": [
    "from datetime import datetime\n",
    "# Most recent data seems to be from the day before\n",
    "\n",
    "query = \"Date == @yesterday_table\"\n",
    "recent = full.query(query)\n",
    "\n",
    "# that does not happen aways, though.\n",
    "\n",
    "\n",
    "dates_in_full = [datetime.strptime(date, \"%Y-%m-%d\") for date in full[\"Date\"]]\n",
    "most_recent_date = max(dates_in_full).strftime(\"%Y-%m-%d\")\n",
    "\n",
    "# pd.query did not work\n",
    "recent = full[full[\"Date\"] == most_recent_date]\n",
    "\n",
    "recent.head(2)"
   ]
  },
  {
   "cell_type": "code",
   "execution_count": 9,
   "metadata": {},
   "outputs": [],
   "source": [
    "# The following countries appear to be updated\n",
    "# manually from more specific sources.\n",
    "idx = recent['Country'].isin(['US', 'United Kingdom', 'France', 'Sweden',\n",
    "                              'Brazil', 'Netherlands', 'China', 'Italy',\n",
    "                              'Spain', 'Germany', 'Iran', 'Índia', 'Mexico',\n",
    "                              'Argentina', 'Canada', 'Spain', 'Norway',\n",
    "                              'Uruguay'])\n",
    "not_manual = recent[~idx]"
   ]
  },
  {
   "cell_type": "code",
   "execution_count": 10,
   "metadata": {},
   "outputs": [],
   "source": [
    "yesterday_wdt = yesterday.strftime(\"+%Y-%m-%dT00:00:00Z/11\")\n",
    "today_wdt = today.strftime(\"+%Y-%m-%dT00:00:00Z/11\")\n",
    "\n",
    "with open(f'../data/{today_table}.qs', 'w') as file:\n",
    "    for index, row in not_manual.iterrows():\n",
    "        print(\n",
    "            row['item'] + \"|P1603|\" + str(int(row['Confirmed'])) +\n",
    "            \"|P585|\" + yesterday_wdt + \"|S854|\" + '\"' +\n",
    "            \"https://github.com/datasets/covid-19\" + '\"' +\n",
    "            \"|S813|\" + today_wdt + \"\\n\" +\n",
    "\n",
    "            row['item'] + \"|P1120|\" + str(int(row['Deaths'])) +\n",
    "            \"|P585|\" + yesterday_wdt + \"|S854|\" + '\"' +\n",
    "            \"https://github.com/datasets/covid-19\" + '\"' +\n",
    "            \"|S813|\" + today_wdt + \"\\n\" +\n",
    "\n",
    "            row['item'] + \"|P8010|\" + str(int(row['Recovered'])) +\n",
    "            \"|P585|\" + yesterday_wdt + \"|S854|\" + '\"' +\n",
    "            \"https://github.com/datasets/covid-19\" + '\"' +\n",
    "            \"|S813|\" + today_wdt + \"\\n\",\n",
    "            file=file)"
   ]
  },
  {
   "cell_type": "code",
   "execution_count": 11,
   "metadata": {},
   "outputs": [],
   "source": [
    "%run check_last_update_for_country_items.py"
   ]
  },
  {
   "cell_type": "code",
   "execution_count": 12,
   "metadata": {},
   "outputs": [
    {
     "name": "stderr",
     "output_type": "stream",
     "text": [
      "6:80: E501 line too long (116 > 79 characters)\n"
     ]
    }
   ],
   "source": [
    "country_outbreak_items = list(recent[\"item\"])\n",
    "\n",
    "# Api only takes 50 at a time, so we have to cut it.\n",
    "\n",
    "\n",
    "# implementation from    https://stackoverflow.com/questions/312443/how-do-you-split-a-list-into-evenly-sized-chunks\n",
    "def get_chunks(l, n):\n",
    "    n = max(1, n)\n",
    "    return (l[i:i+n] for i in range(0, len(l), n))\n",
    "\n",
    "\n",
    "chunks_of_country_outbreak_items = list(get_chunks(country_outbreak_items, 50))\n",
    "\n",
    "outbreak_item_to_timestamp = {}\n",
    "\n",
    "for chunk in chunks_of_country_outbreak_items:\n",
    "    outbreak_item_to_timestamp.update(get_timestamp_of_last_edits(chunk))\n"
   ]
  },
  {
   "cell_type": "code",
   "execution_count": 13,
   "metadata": {},
   "outputs": [
    {
     "name": "stderr",
     "output_type": "stream",
     "text": [
      "/home/lubianat/.local/lib/python3.6/site-packages/ipykernel_launcher.py:1: SettingWithCopyWarning: \n",
      "A value is trying to be set on a copy of a slice from a DataFrame.\n",
      "Try using .loc[row_indexer,col_indexer] = value instead\n",
      "\n",
      "See the caveats in the documentation: https://pandas.pydata.org/pandas-docs/stable/user_guide/indexing.html#returning-a-view-versus-a-copy\n",
      "  \"\"\"Entry point for launching an IPython kernel.\n"
     ]
    },
    {
     "data": {
      "text/html": [
       "<div>\n",
       "<style scoped>\n",
       "    .dataframe tbody tr th:only-of-type {\n",
       "        vertical-align: middle;\n",
       "    }\n",
       "\n",
       "    .dataframe tbody tr th {\n",
       "        vertical-align: top;\n",
       "    }\n",
       "\n",
       "    .dataframe thead th {\n",
       "        text-align: right;\n",
       "    }\n",
       "</style>\n",
       "<table border=\"1\" class=\"dataframe\">\n",
       "  <thead>\n",
       "    <tr style=\"text-align: right;\">\n",
       "      <th></th>\n",
       "      <th>Date</th>\n",
       "      <th>Country</th>\n",
       "      <th>Confirmed</th>\n",
       "      <th>Recovered</th>\n",
       "      <th>Deaths</th>\n",
       "      <th>item</th>\n",
       "      <th>itemLabel</th>\n",
       "      <th>countryid</th>\n",
       "      <th>timestamp_of_last_edit</th>\n",
       "    </tr>\n",
       "  </thead>\n",
       "  <tbody>\n",
       "    <tr>\n",
       "      <th>144</th>\n",
       "      <td>2020-06-14</td>\n",
       "      <td>Afghanistan</td>\n",
       "      <td>24766</td>\n",
       "      <td>4725</td>\n",
       "      <td>471</td>\n",
       "      <td>Q87768605</td>\n",
       "      <td>2020 coronavirus pandemic in Afghanistan</td>\n",
       "      <td>Q889</td>\n",
       "      <td>2020-06-16T00:53:52Z</td>\n",
       "    </tr>\n",
       "  </tbody>\n",
       "</table>\n",
       "</div>"
      ],
      "text/plain": [
       "           Date      Country  Confirmed  Recovered  Deaths       item  \\\n",
       "144  2020-06-14  Afghanistan      24766       4725     471  Q87768605   \n",
       "\n",
       "                                    itemLabel countryid timestamp_of_last_edit  \n",
       "144  2020 coronavirus pandemic in Afghanistan      Q889   2020-06-16T00:53:52Z  "
      ]
     },
     "execution_count": 13,
     "metadata": {},
     "output_type": "execute_result"
    },
    {
     "name": "stderr",
     "output_type": "stream",
     "text": [
      "1:80: E501 line too long (81 > 79 characters)\n"
     ]
    }
   ],
   "source": [
    "recent[\"timestamp_of_last_edit\"] = recent[\"item\"].map(outbreak_item_to_timestamp)\n",
    "\n",
    "recent.head(1)"
   ]
  },
  {
   "cell_type": "code",
   "execution_count": 14,
   "metadata": {},
   "outputs": [],
   "source": [
    "from datetime import datetime\n",
    "\n",
    "\n",
    "def convert_timestamp_to_time_until_now(timestamp):\n",
    "\n",
    "    time_in_datetime_format = datetime.strptime(timestamp,\n",
    "                                                \"%Y-%m-%dT%H:%M:%SZ\")\n",
    "    diff = datetime.now() - time_in_datetime_format\n",
    "    return(diff)"
   ]
  },
  {
   "cell_type": "code",
   "execution_count": 15,
   "metadata": {},
   "outputs": [
    {
     "name": "stderr",
     "output_type": "stream",
     "text": [
      "/home/lubianat/.local/lib/python3.6/site-packages/ipykernel_launcher.py:1: SettingWithCopyWarning: \n",
      "A value is trying to be set on a copy of a slice from a DataFrame.\n",
      "Try using .loc[row_indexer,col_indexer] = value instead\n",
      "\n",
      "See the caveats in the documentation: https://pandas.pydata.org/pandas-docs/stable/user_guide/indexing.html#returning-a-view-versus-a-copy\n",
      "  \"\"\"Entry point for launching an IPython kernel.\n"
     ]
    },
    {
     "data": {
      "text/html": [
       "<div>\n",
       "<style scoped>\n",
       "    .dataframe tbody tr th:only-of-type {\n",
       "        vertical-align: middle;\n",
       "    }\n",
       "\n",
       "    .dataframe tbody tr th {\n",
       "        vertical-align: top;\n",
       "    }\n",
       "\n",
       "    .dataframe thead th {\n",
       "        text-align: right;\n",
       "    }\n",
       "</style>\n",
       "<table border=\"1\" class=\"dataframe\">\n",
       "  <thead>\n",
       "    <tr style=\"text-align: right;\">\n",
       "      <th></th>\n",
       "      <th>Date</th>\n",
       "      <th>Country</th>\n",
       "      <th>Confirmed</th>\n",
       "      <th>Recovered</th>\n",
       "      <th>Deaths</th>\n",
       "      <th>item</th>\n",
       "      <th>itemLabel</th>\n",
       "      <th>countryid</th>\n",
       "      <th>timestamp_of_last_edit</th>\n",
       "      <th>time_from_last_edit_until_now</th>\n",
       "    </tr>\n",
       "  </thead>\n",
       "  <tbody>\n",
       "    <tr>\n",
       "      <th>144</th>\n",
       "      <td>2020-06-14</td>\n",
       "      <td>Afghanistan</td>\n",
       "      <td>24766</td>\n",
       "      <td>4725</td>\n",
       "      <td>471</td>\n",
       "      <td>Q87768605</td>\n",
       "      <td>2020 coronavirus pandemic in Afghanistan</td>\n",
       "      <td>Q889</td>\n",
       "      <td>2020-06-16T00:53:52Z</td>\n",
       "      <td>-1 days +21:10:25.732163</td>\n",
       "    </tr>\n",
       "  </tbody>\n",
       "</table>\n",
       "</div>"
      ],
      "text/plain": [
       "           Date      Country  Confirmed  Recovered  Deaths       item  \\\n",
       "144  2020-06-14  Afghanistan      24766       4725     471  Q87768605   \n",
       "\n",
       "                                    itemLabel countryid  \\\n",
       "144  2020 coronavirus pandemic in Afghanistan      Q889   \n",
       "\n",
       "    timestamp_of_last_edit time_from_last_edit_until_now  \n",
       "144   2020-06-16T00:53:52Z      -1 days +21:10:25.732163  "
      ]
     },
     "execution_count": 15,
     "metadata": {},
     "output_type": "execute_result"
    },
    {
     "name": "stderr",
     "output_type": "stream",
     "text": [
      "1:80: E501 line too long (115 > 79 characters)\n"
     ]
    }
   ],
   "source": [
    "recent[\"time_from_last_edit_until_now\"] = recent[\"timestamp_of_last_edit\"].map(convert_timestamp_to_time_until_now)\n",
    "\n",
    "recent.head(1)"
   ]
  },
  {
   "cell_type": "code",
   "execution_count": 16,
   "metadata": {},
   "outputs": [],
   "source": [
    "outdated_items = recent[recent[\"time_from_last_edit_until_now\"] > timedelta(hours=23)]"
   ]
  },
  {
   "cell_type": "code",
   "execution_count": 17,
   "metadata": {},
   "outputs": [
    {
     "data": {
      "text/html": [
       "<div>\n",
       "<style scoped>\n",
       "    .dataframe tbody tr th:only-of-type {\n",
       "        vertical-align: middle;\n",
       "    }\n",
       "\n",
       "    .dataframe tbody tr th {\n",
       "        vertical-align: top;\n",
       "    }\n",
       "\n",
       "    .dataframe thead th {\n",
       "        text-align: right;\n",
       "    }\n",
       "</style>\n",
       "<table border=\"1\" class=\"dataframe\">\n",
       "  <thead>\n",
       "    <tr style=\"text-align: right;\">\n",
       "      <th></th>\n",
       "      <th>Date</th>\n",
       "      <th>Country</th>\n",
       "      <th>Confirmed</th>\n",
       "      <th>Recovered</th>\n",
       "      <th>Deaths</th>\n",
       "      <th>item</th>\n",
       "      <th>itemLabel</th>\n",
       "      <th>countryid</th>\n",
       "      <th>timestamp_of_last_edit</th>\n",
       "      <th>time_from_last_edit_until_now</th>\n",
       "    </tr>\n",
       "  </thead>\n",
       "  <tbody>\n",
       "    <tr>\n",
       "      <th>434</th>\n",
       "      <td>2020-06-14</td>\n",
       "      <td>Angola</td>\n",
       "      <td>140</td>\n",
       "      <td>61</td>\n",
       "      <td>6</td>\n",
       "      <td>Q88082534</td>\n",
       "      <td>2020 coronavirus pandemic in Angola</td>\n",
       "      <td>Q916</td>\n",
       "      <td>2020-05-29T04:41:32Z</td>\n",
       "      <td>17 days 17:22:45.732210</td>\n",
       "    </tr>\n",
       "    <tr>\n",
       "      <th>579</th>\n",
       "      <td>2020-06-14</td>\n",
       "      <td>Antigua and Barbuda</td>\n",
       "      <td>26</td>\n",
       "      <td>20</td>\n",
       "      <td>3</td>\n",
       "      <td>Q87708331</td>\n",
       "      <td>2020 coronavirus pandemic in Antigua and Barbuda</td>\n",
       "      <td>Q781</td>\n",
       "      <td>2020-05-14T21:22:34Z</td>\n",
       "      <td>32 days 00:41:43.732224</td>\n",
       "    </tr>\n",
       "    <tr>\n",
       "      <th>869</th>\n",
       "      <td>2020-06-14</td>\n",
       "      <td>Australia</td>\n",
       "      <td>7335</td>\n",
       "      <td>6851</td>\n",
       "      <td>102</td>\n",
       "      <td>Q83873548</td>\n",
       "      <td>2020 coronavirus pandemic in Australia</td>\n",
       "      <td>Q408</td>\n",
       "      <td>2020-05-28T22:20:24Z</td>\n",
       "      <td>17 days 23:43:53.732250</td>\n",
       "    </tr>\n",
       "    <tr>\n",
       "      <th>1014</th>\n",
       "      <td>2020-06-14</td>\n",
       "      <td>Austria</td>\n",
       "      <td>17109</td>\n",
       "      <td>16059</td>\n",
       "      <td>677</td>\n",
       "      <td>Q86847911</td>\n",
       "      <td>2020 coronavirus pandemic in Austria</td>\n",
       "      <td>Q40</td>\n",
       "      <td>2020-06-10T04:47:34Z</td>\n",
       "      <td>5 days 17:16:43.732263</td>\n",
       "    </tr>\n",
       "    <tr>\n",
       "      <th>1159</th>\n",
       "      <td>2020-06-14</td>\n",
       "      <td>Bahrain</td>\n",
       "      <td>18227</td>\n",
       "      <td>12818</td>\n",
       "      <td>42</td>\n",
       "      <td>Q87070999</td>\n",
       "      <td>2020 coronavirus pandemic in Bahrain</td>\n",
       "      <td>Q398</td>\n",
       "      <td>2020-06-13T09:19:22Z</td>\n",
       "      <td>2 days 12:44:55.732275</td>\n",
       "    </tr>\n",
       "  </tbody>\n",
       "</table>\n",
       "</div>"
      ],
      "text/plain": [
       "            Date              Country  Confirmed  Recovered  Deaths  \\\n",
       "434   2020-06-14               Angola        140         61       6   \n",
       "579   2020-06-14  Antigua and Barbuda         26         20       3   \n",
       "869   2020-06-14            Australia       7335       6851     102   \n",
       "1014  2020-06-14              Austria      17109      16059     677   \n",
       "1159  2020-06-14              Bahrain      18227      12818      42   \n",
       "\n",
       "           item                                         itemLabel countryid  \\\n",
       "434   Q88082534               2020 coronavirus pandemic in Angola      Q916   \n",
       "579   Q87708331  2020 coronavirus pandemic in Antigua and Barbuda      Q781   \n",
       "869   Q83873548            2020 coronavirus pandemic in Australia      Q408   \n",
       "1014  Q86847911              2020 coronavirus pandemic in Austria       Q40   \n",
       "1159  Q87070999              2020 coronavirus pandemic in Bahrain      Q398   \n",
       "\n",
       "     timestamp_of_last_edit time_from_last_edit_until_now  \n",
       "434    2020-05-29T04:41:32Z       17 days 17:22:45.732210  \n",
       "579    2020-05-14T21:22:34Z       32 days 00:41:43.732224  \n",
       "869    2020-05-28T22:20:24Z       17 days 23:43:53.732250  \n",
       "1014   2020-06-10T04:47:34Z        5 days 17:16:43.732263  \n",
       "1159   2020-06-13T09:19:22Z        2 days 12:44:55.732275  "
      ]
     },
     "execution_count": 17,
     "metadata": {},
     "output_type": "execute_result"
    }
   ],
   "source": [
    "outdated_items.head(5)"
   ]
  },
  {
   "cell_type": "code",
   "execution_count": 18,
   "metadata": {},
   "outputs": [],
   "source": [
    "\n",
    "table_date_in_wikidata_format = datetime.strptime(\n",
    "    outdated_items[\"Date\"].values[0], \"%Y-%m-%d\").strftime(\n",
    "    \"+%Y-%m-%dT00:00:00Z/11\")\n",
    "\n",
    "point_in_time = \"|P585|\" + table_date_in_wikidata_format\n",
    "\n",
    "today_wdt = today.strftime(\"+%Y-%m-%dT00:00:00Z/11\")\n",
    "\n",
    "\n",
    "reference_URL = \"|S854|\" + '\"' + \"https://datahub.io/core/covid-19\" + '\"'\n",
    "retrieved_in = \"|S813|\" + today_wdt\n",
    "filename_in_archive = \"|S7793|\" + '\"' + \"r/countries-aggregated.csv\" + '\"'\n",
    "\n",
    "reference = reference_URL + retrieved_in + filename_in_archive\n",
    "\n",
    "\n",
    "with open(f'../data/{today_table}_outdated_items.qs', 'w') as file:\n",
    "    for index, row in outdated_items.iterrows():\n",
    "        print(\n",
    "            row['item'] + \"|P1603|\" + str(int(row['Confirmed'])) +\n",
    "            point_in_time + reference + \"\\n\" +\n",
    "            row['item'] + \"|P1120|\" + str(int(row['Deaths'])) +\n",
    "            point_in_time + reference + \"\\n\" +\n",
    "            row['item'] + \"|P8010|\" + str(int(row['Recovered'])) +\n",
    "            point_in_time + reference + \"\\n\",\n",
    "            file=file)"
   ]
  },
  {
   "cell_type": "code",
   "execution_count": 19,
   "metadata": {},
   "outputs": [
    {
     "data": {
      "text/html": [
       "<div>\n",
       "<style scoped>\n",
       "    .dataframe tbody tr th:only-of-type {\n",
       "        vertical-align: middle;\n",
       "    }\n",
       "\n",
       "    .dataframe tbody tr th {\n",
       "        vertical-align: top;\n",
       "    }\n",
       "\n",
       "    .dataframe thead th {\n",
       "        text-align: right;\n",
       "    }\n",
       "</style>\n",
       "<table border=\"1\" class=\"dataframe\">\n",
       "  <thead>\n",
       "    <tr style=\"text-align: right;\">\n",
       "      <th></th>\n",
       "      <th>Date</th>\n",
       "      <th>Country</th>\n",
       "      <th>Confirmed</th>\n",
       "      <th>Recovered</th>\n",
       "      <th>Deaths</th>\n",
       "      <th>item</th>\n",
       "      <th>itemLabel</th>\n",
       "      <th>countryid</th>\n",
       "      <th>timestamp_of_last_edit</th>\n",
       "      <th>time_from_last_edit_until_now</th>\n",
       "    </tr>\n",
       "  </thead>\n",
       "  <tbody>\n",
       "    <tr>\n",
       "      <th>434</th>\n",
       "      <td>2020-06-14</td>\n",
       "      <td>Angola</td>\n",
       "      <td>140</td>\n",
       "      <td>61</td>\n",
       "      <td>6</td>\n",
       "      <td>Q88082534</td>\n",
       "      <td>2020 coronavirus pandemic in Angola</td>\n",
       "      <td>Q916</td>\n",
       "      <td>2020-05-29T04:41:32Z</td>\n",
       "      <td>17 days 17:22:45.732210</td>\n",
       "    </tr>\n",
       "    <tr>\n",
       "      <th>579</th>\n",
       "      <td>2020-06-14</td>\n",
       "      <td>Antigua and Barbuda</td>\n",
       "      <td>26</td>\n",
       "      <td>20</td>\n",
       "      <td>3</td>\n",
       "      <td>Q87708331</td>\n",
       "      <td>2020 coronavirus pandemic in Antigua and Barbuda</td>\n",
       "      <td>Q781</td>\n",
       "      <td>2020-05-14T21:22:34Z</td>\n",
       "      <td>32 days 00:41:43.732224</td>\n",
       "    </tr>\n",
       "    <tr>\n",
       "      <th>869</th>\n",
       "      <td>2020-06-14</td>\n",
       "      <td>Australia</td>\n",
       "      <td>7335</td>\n",
       "      <td>6851</td>\n",
       "      <td>102</td>\n",
       "      <td>Q83873548</td>\n",
       "      <td>2020 coronavirus pandemic in Australia</td>\n",
       "      <td>Q408</td>\n",
       "      <td>2020-05-28T22:20:24Z</td>\n",
       "      <td>17 days 23:43:53.732250</td>\n",
       "    </tr>\n",
       "    <tr>\n",
       "      <th>1014</th>\n",
       "      <td>2020-06-14</td>\n",
       "      <td>Austria</td>\n",
       "      <td>17109</td>\n",
       "      <td>16059</td>\n",
       "      <td>677</td>\n",
       "      <td>Q86847911</td>\n",
       "      <td>2020 coronavirus pandemic in Austria</td>\n",
       "      <td>Q40</td>\n",
       "      <td>2020-06-10T04:47:34Z</td>\n",
       "      <td>5 days 17:16:43.732263</td>\n",
       "    </tr>\n",
       "    <tr>\n",
       "      <th>1159</th>\n",
       "      <td>2020-06-14</td>\n",
       "      <td>Bahrain</td>\n",
       "      <td>18227</td>\n",
       "      <td>12818</td>\n",
       "      <td>42</td>\n",
       "      <td>Q87070999</td>\n",
       "      <td>2020 coronavirus pandemic in Bahrain</td>\n",
       "      <td>Q398</td>\n",
       "      <td>2020-06-13T09:19:22Z</td>\n",
       "      <td>2 days 12:44:55.732275</td>\n",
       "    </tr>\n",
       "  </tbody>\n",
       "</table>\n",
       "</div>"
      ],
      "text/plain": [
       "            Date              Country  Confirmed  Recovered  Deaths  \\\n",
       "434   2020-06-14               Angola        140         61       6   \n",
       "579   2020-06-14  Antigua and Barbuda         26         20       3   \n",
       "869   2020-06-14            Australia       7335       6851     102   \n",
       "1014  2020-06-14              Austria      17109      16059     677   \n",
       "1159  2020-06-14              Bahrain      18227      12818      42   \n",
       "\n",
       "           item                                         itemLabel countryid  \\\n",
       "434   Q88082534               2020 coronavirus pandemic in Angola      Q916   \n",
       "579   Q87708331  2020 coronavirus pandemic in Antigua and Barbuda      Q781   \n",
       "869   Q83873548            2020 coronavirus pandemic in Australia      Q408   \n",
       "1014  Q86847911              2020 coronavirus pandemic in Austria       Q40   \n",
       "1159  Q87070999              2020 coronavirus pandemic in Bahrain      Q398   \n",
       "\n",
       "     timestamp_of_last_edit time_from_last_edit_until_now  \n",
       "434    2020-05-29T04:41:32Z       17 days 17:22:45.732210  \n",
       "579    2020-05-14T21:22:34Z       32 days 00:41:43.732224  \n",
       "869    2020-05-28T22:20:24Z       17 days 23:43:53.732250  \n",
       "1014   2020-06-10T04:47:34Z        5 days 17:16:43.732263  \n",
       "1159   2020-06-13T09:19:22Z        2 days 12:44:55.732275  "
      ]
     },
     "execution_count": 19,
     "metadata": {},
     "output_type": "execute_result"
    }
   ],
   "source": [
    "outdated_items.head(5)"
   ]
  },
  {
   "cell_type": "code",
   "execution_count": 20,
   "metadata": {},
   "outputs": [
    {
     "name": "stdout",
     "output_type": "stream",
     "text": [
      "https://www.wikidata.org/w/api.php\n",
      "Successfully logged in as CovidDatahubBot\n",
      "2020-06-16 01:04:25.326374: maxlag. sleeping for 12.333333333333334 seconds\n"
     ]
    },
    {
     "ename": "KeyboardInterrupt",
     "evalue": "",
     "output_type": "error",
     "traceback": [
      "\u001b[0;31m--------------------------------------------------\u001b[0m",
      "\u001b[0;31mKeyboardInterrupt\u001b[0mTraceback (most recent call last)",
      "\u001b[0;32m<ipython-input-20-037923c95944>\u001b[0m in \u001b[0;36m<module>\u001b[0;34m\u001b[0m\n\u001b[1;32m     21\u001b[0m wd_item.write(login_instance,\n\u001b[1;32m     22\u001b[0m               \u001b[0mbot_account\u001b[0m\u001b[0;34m=\u001b[0m\u001b[0;32mTrue\u001b[0m\u001b[0;34m,\u001b[0m\u001b[0;34m\u001b[0m\u001b[0;34m\u001b[0m\u001b[0m\n\u001b[0;32m---> 23\u001b[0;31m               edit_summary=\"updating case counts for today\")\n\u001b[0m",
      "\u001b[0;32m~/.local/lib/python3.6/site-packages/wikidataintegrator/wdi_core.py\u001b[0m in \u001b[0;36mwrite\u001b[0;34m(self, login, bot_account, edit_summary, entity_type, property_datatype, max_retries, retry_after)\u001b[0m\n\u001b[1;32m    942\u001b[0m             json_data = self.mediawiki_api_call('POST', self.mediawiki_api_url, session=login.get_session(),\n\u001b[1;32m    943\u001b[0m                                                 \u001b[0mmax_retries\u001b[0m\u001b[0;34m=\u001b[0m\u001b[0mmax_retries\u001b[0m\u001b[0;34m,\u001b[0m \u001b[0mretry_after\u001b[0m\u001b[0;34m=\u001b[0m\u001b[0mretry_after\u001b[0m\u001b[0;34m,\u001b[0m\u001b[0;34m\u001b[0m\u001b[0;34m\u001b[0m\u001b[0m\n\u001b[0;32m--> 944\u001b[0;31m                                                 headers=headers, data=payload)\n\u001b[0m\u001b[1;32m    945\u001b[0m \u001b[0;34m\u001b[0m\u001b[0m\n\u001b[1;32m    946\u001b[0m             \u001b[0;32mif\u001b[0m \u001b[0;34m'error'\u001b[0m \u001b[0;32min\u001b[0m \u001b[0mjson_data\u001b[0m \u001b[0;32mand\u001b[0m \u001b[0;34m'messages'\u001b[0m \u001b[0;32min\u001b[0m \u001b[0mjson_data\u001b[0m\u001b[0;34m[\u001b[0m\u001b[0;34m'error'\u001b[0m\u001b[0;34m]\u001b[0m\u001b[0;34m:\u001b[0m\u001b[0;34m\u001b[0m\u001b[0;34m\u001b[0m\u001b[0m\n",
      "\u001b[0;32m~/.local/lib/python3.6/site-packages/wikidataintegrator/wdi_core.py\u001b[0m in \u001b[0;36mmediawiki_api_call\u001b[0;34m(method, mediawiki_api_url, session, max_retries, retry_after, **kwargs)\u001b[0m\n\u001b[1;32m   1017\u001b[0m                     \u001b[0msleep_sec\u001b[0m \u001b[0;34m=\u001b[0m \u001b[0mjson_data\u001b[0m\u001b[0;34m[\u001b[0m\u001b[0;34m'error'\u001b[0m\u001b[0;34m]\u001b[0m\u001b[0;34m.\u001b[0m\u001b[0mget\u001b[0m\u001b[0;34m(\u001b[0m\u001b[0;34m'lag'\u001b[0m\u001b[0;34m,\u001b[0m \u001b[0mretry_after\u001b[0m\u001b[0;34m)\u001b[0m\u001b[0;34m\u001b[0m\u001b[0;34m\u001b[0m\u001b[0m\n\u001b[1;32m   1018\u001b[0m                     \u001b[0mprint\u001b[0m\u001b[0;34m(\u001b[0m\u001b[0;34m\"{}: maxlag. sleeping for {} seconds\"\u001b[0m\u001b[0;34m.\u001b[0m\u001b[0mformat\u001b[0m\u001b[0;34m(\u001b[0m\u001b[0mdatetime\u001b[0m\u001b[0;34m.\u001b[0m\u001b[0mdatetime\u001b[0m\u001b[0;34m.\u001b[0m\u001b[0mutcnow\u001b[0m\u001b[0;34m(\u001b[0m\u001b[0;34m)\u001b[0m\u001b[0;34m,\u001b[0m \u001b[0msleep_sec\u001b[0m\u001b[0;34m)\u001b[0m\u001b[0;34m)\u001b[0m\u001b[0;34m\u001b[0m\u001b[0;34m\u001b[0m\u001b[0m\n\u001b[0;32m-> 1019\u001b[0;31m                     \u001b[0mtime\u001b[0m\u001b[0;34m.\u001b[0m\u001b[0msleep\u001b[0m\u001b[0;34m(\u001b[0m\u001b[0msleep_sec\u001b[0m\u001b[0;34m)\u001b[0m\u001b[0;34m\u001b[0m\u001b[0;34m\u001b[0m\u001b[0m\n\u001b[0m\u001b[1;32m   1020\u001b[0m                     \u001b[0;32mcontinue\u001b[0m\u001b[0;34m\u001b[0m\u001b[0;34m\u001b[0m\u001b[0m\n\u001b[1;32m   1021\u001b[0m \u001b[0;34m\u001b[0m\u001b[0m\n",
      "\u001b[0;31mKeyboardInterrupt\u001b[0m: "
     ]
    },
    {
     "name": "stderr",
     "output_type": "stream",
     "text": [
      "2:34: W291 trailing whitespace\n",
      "4:80: E501 line too long (87 > 79 characters)\n",
      "13:70: W291 trailing whitespace\n",
      "15:1: W293 blank line contains whitespace\n",
      "16:5: E116 unexpected indentation (comment)\n",
      "19:1: W293 blank line contains whitespace\n",
      "20:1: W293 blank line contains whitespace\n"
     ]
    }
   ],
   "source": [
    "from wikidataintegrator import wdi_core, wdi_login\n",
    "import credentials as credentials        \n",
    "# login object\n",
    "login_instance = wdi_login.WDLogin(user=credentials.username, pwd=credentials.password)\n",
    "\n",
    "\n",
    "# data type object, e.g. for a NCBI gene entrez ID\n",
    "death_counts_for_country = wdi_core.WDQuantity(value=451, prop_nr='P1120')\n",
    "confirmed_counts_for_country = wdi_core.WDQuantity(value=451, prop_nr='P1603')\n",
    "recovered_counts_for_country = wdi_core.WDQuantity(value=451, prop_nr='P8010')\n",
    "\n",
    "\n",
    "# data goes into a list, because many data objects can be provided to \n",
    "data_to_update_for_country = [death_counts_for_country]\n",
    "    \n",
    "    # Search for and then edit/create new item\n",
    "wd_item = wdi_core.WDItemEngine(wd_item_id=\"Q87768605\",\n",
    "                                data=data_to_update_for_country)\n",
    "   \n",
    "    \n",
    "wd_item.write(login_instance,\n",
    "              bot_account=True,\n",
    "              edit_summary=\"updating case counts for today\")"
   ]
  },
  {
   "cell_type": "code",
   "execution_count": 28,
   "metadata": {},
   "outputs": [
    {
     "name": "stdout",
     "output_type": "stream",
     "text": [
      "Q88082534\n",
      "6\n",
      "140\n",
      "61\n"
     ]
    },
    {
     "name": "stderr",
     "output_type": "stream",
     "text": [
      "3:80: E501 line too long (114 > 79 characters)\n",
      "7:80: E501 line too long (98 > 79 characters)\n",
      "11:1: F811 redefinition of unused 'date' from line 1\n",
      "14:80: E501 line too long (112 > 79 characters)\n",
      "22:1: W293 blank line contains whitespace\n",
      "27:1: W293 blank line contains whitespace\n",
      "31:1: W293 blank line contains whitespace\n",
      "32:80: E501 line too long (129 > 79 characters)\n",
      "32:86: E251 unexpected spaces around keyword / parameter equals\n",
      "33:80: E501 line too long (137 > 79 characters)\n",
      "33:94: E251 unexpected spaces around keyword / parameter equals\n",
      "34:80: E501 line too long (137 > 79 characters)\n",
      "34:94: E251 unexpected spaces around keyword / parameter equals\n",
      "35:1: W293 blank line contains whitespace\n",
      "36:80: E501 line too long (95 > 79 characters)\n",
      "38:1: W293 blank line contains whitespace\n",
      "39:5: E303 too many blank lines (2)\n",
      "41:1: W293 blank line contains whitespace\n",
      "42:1: W293 blank line contains whitespace\n",
      "43:5: E303 too many blank lines (2)\n",
      "47:1: W293 blank line contains whitespace\n",
      "48:1: W293 blank line contains whitespace\n",
      "49:1: W293 blank line contains whitespace\n",
      "50:5: E303 too many blank lines (3)\n",
      "51:1: W293 blank line contains whitespace\n"
     ]
    }
   ],
   "source": [
    "from datetime import datetime, date\n",
    "\n",
    "url_for_reference = wdi_core.WDString(value=\"https://datahub.io/core/covid-19\", prop_nr=\"P854\", is_reference=True)\n",
    "\n",
    "today = datetime.now()\n",
    "today_wikidata_format = today.strftime(\"+%Y-%m-%dT00:00:00Z\")\n",
    "reference_retrieved_in = wdi_core.WDTime(today_wikidata_format, prop_nr='P813', is_reference=True)\n",
    "\n",
    "\n",
    "date_string = row[\"Date\"]\n",
    "date = datetime.strptime(date_string, '%Y-%m-%d')\n",
    "date_string_in_wikidata_format = date.strftime(\"+%Y-%m-%dT00:00:00Z\")\n",
    "\n",
    "qualifier_date_of_ocurrence = wdi_core.WDTime(date_string_in_wikidata_format, prop_nr=\"P585\", is_qualifier=True)\n",
    "\n",
    "\n",
    "references_list = [[url_for_reference, reference_retrieved_in]]\n",
    "qualifier_list = [qualifier_date_of_ocurrence]\n",
    "\n",
    "for index, row in outdated_items.iterrows():\n",
    "    print(row[\"item\"])\n",
    "    \n",
    "    outbreak_item = row[\"item\"]\n",
    "    deaths = row[\"Deaths\"]\n",
    "    confirmeds = row[\"Confirmed\"]\n",
    "    recovereds = row[\"Recovered\"]\n",
    "    \n",
    "    print(deaths)\n",
    "    print(confirmeds)\n",
    "    print(recovereds)\n",
    "    \n",
    "    deaths_statement = wdi_core.WDQuantity(value=deaths, prop_nr='P1120', references= references_list, qualifiers=qualifier_list)\n",
    "    confirmeds_statement = wdi_core.WDQuantity(value=confirmeds, prop_nr='P1603', references= references_list, qualifiers=qualifier_list)\n",
    "    recovereds_statement = wdi_core.WDQuantity(value=recovereds, prop_nr='P8010', references= references_list, qualifiers=qualifier_list)\n",
    "    \n",
    "    data_to_update_for_country = [deaths_statement, confirmeds_statement, recovereds_statement]\n",
    "\n",
    "    \n",
    "    wd_item = wdi_core.WDItemEngine(wd_item_id=outbreak_item,\n",
    "                                    data=data_to_update_for_country)\n",
    "   \n",
    "    \n",
    "    wd_item.write(login_instance,\n",
    "                  bot_account=True,\n",
    "                  max_retries=3,\n",
    "                  edit_summary=\"updating case counts for today\")\n",
    "    \n",
    "    \n",
    "    \n",
    "    break\n",
    "    "
   ]
  },
  {
   "cell_type": "code",
   "execution_count": 26,
   "metadata": {},
   "outputs": [
    {
     "data": {
      "text/plain": [
       "<module 'credentials' from '/home/lubianat/Documents/wikidata_covid19/sandbox/worldwide_data/src/credentials.py'>"
      ]
     },
     "execution_count": 26,
     "metadata": {},
     "output_type": "execute_result"
    }
   ],
   "source": [
    "credentials"
   ]
  },
  {
   "cell_type": "code",
   "execution_count": null,
   "metadata": {},
   "outputs": [],
   "source": []
  },
  {
   "cell_type": "code",
   "execution_count": null,
   "metadata": {},
   "outputs": [],
   "source": []
  }
 ],
 "metadata": {
  "kernelspec": {
   "display_name": "Python 3",
   "language": "python",
   "name": "python3"
  },
  "language_info": {
   "codemirror_mode": {
    "name": "ipython",
    "version": 3
   },
   "file_extension": ".py",
   "mimetype": "text/x-python",
   "name": "python",
   "nbconvert_exporter": "python",
   "pygments_lexer": "ipython3",
   "version": "3.6.9"
  }
 },
 "nbformat": 4,
 "nbformat_minor": 4
}
