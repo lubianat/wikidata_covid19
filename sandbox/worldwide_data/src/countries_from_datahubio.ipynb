{
 "cells": [
  {
   "cell_type": "markdown",
   "metadata": {},
   "source": [
    "### Exploring data from datahub.io\n",
    "\n",
    "Acquiring data from [here](https://github.com/datasets/covid-19) and maybe soon be able to automate the integration of that data with wikidata.\n",
    "\n",
    "Just some things to think about (jvfe):\n",
    "- How to properly reference the data? Choose [datahub.io](https://datahub.io/core/covid-19) as the reference?\n",
    "    - They aggregate it from various sources\n",
    "    \n",
    "    \n",
    "- I've acquired the country outbreak items via the following query and modified it slightly to better merge the items.\n",
    "```\n",
    "SELECT ?item ?itemLabel ?countryid ?countryidLabel\n",
    "WHERE \n",
    "{\n",
    "  ?item p:P31 ?statement. \n",
    "      ?statement ps:P31 wd:Q3241045. \n",
    "      ?statement pq:P642 wd:Q84263196.\n",
    "      ?statement pq:P3005 ?countryid.\n",
    "      ?countryid wdt:P31 wd:Q6256.\n",
    "  SERVICE wikibase:label { bd:serviceParam wikibase:language \"en\". }\n",
    "}\n",
    "```"
   ]
  },
  {
   "cell_type": "code",
   "execution_count": 1,
   "metadata": {},
   "outputs": [],
   "source": [
    "%load_ext pycodestyle_magic"
   ]
  },
  {
   "cell_type": "code",
   "execution_count": 2,
   "metadata": {},
   "outputs": [],
   "source": [
    "%flake8_on"
   ]
  },
  {
   "cell_type": "code",
   "execution_count": 3,
   "metadata": {},
   "outputs": [],
   "source": [
    "import pandas as pd"
   ]
  },
  {
   "cell_type": "code",
   "execution_count": 4,
   "metadata": {},
   "outputs": [],
   "source": [
    "from datetime import date, time, timedelta\n",
    "yesterday = date.today() - timedelta(days=1)\n",
    "today = date.today()\n",
    "\n",
    "yesterday_table = yesterday.strftime(\"%Y-%m-%d\")\n",
    "today_table = today.strftime(\"%Y-%m-%d\")\n"
   ]
  },
  {
   "cell_type": "code",
   "execution_count": 5,
   "metadata": {},
   "outputs": [
    {
     "name": "stderr",
     "output_type": "stream",
     "text": [
      "1:80: E501 line too long (115 > 79 characters)\n"
     ]
    }
   ],
   "source": [
    "countries = pd.read_csv(\"https://raw.githubusercontent.com/datasets/covid-19/master/data/countries-aggregated.csv\")\n",
    "wdt_items = pd.read_csv(\"../data/country_outbreaks.csv\")"
   ]
  },
  {
   "cell_type": "code",
   "execution_count": 6,
   "metadata": {},
   "outputs": [
    {
     "data": {
      "text/html": [
       "<div>\n",
       "<style scoped>\n",
       "    .dataframe tbody tr th:only-of-type {\n",
       "        vertical-align: middle;\n",
       "    }\n",
       "\n",
       "    .dataframe tbody tr th {\n",
       "        vertical-align: top;\n",
       "    }\n",
       "\n",
       "    .dataframe thead th {\n",
       "        text-align: right;\n",
       "    }\n",
       "</style>\n",
       "<table border=\"1\" class=\"dataframe\">\n",
       "  <thead>\n",
       "    <tr style=\"text-align: right;\">\n",
       "      <th></th>\n",
       "      <th>Date</th>\n",
       "      <th>Country</th>\n",
       "      <th>Confirmed</th>\n",
       "      <th>Recovered</th>\n",
       "      <th>Deaths</th>\n",
       "      <th>item</th>\n",
       "      <th>itemLabel</th>\n",
       "      <th>countryid</th>\n",
       "    </tr>\n",
       "  </thead>\n",
       "  <tbody>\n",
       "    <tr>\n",
       "      <th>0</th>\n",
       "      <td>2020-01-22</td>\n",
       "      <td>Afghanistan</td>\n",
       "      <td>0</td>\n",
       "      <td>0</td>\n",
       "      <td>0</td>\n",
       "      <td>Q87768605</td>\n",
       "      <td>2020 coronavirus pandemic in Afghanistan</td>\n",
       "      <td>Q889</td>\n",
       "    </tr>\n",
       "    <tr>\n",
       "      <th>1</th>\n",
       "      <td>2020-01-23</td>\n",
       "      <td>Afghanistan</td>\n",
       "      <td>0</td>\n",
       "      <td>0</td>\n",
       "      <td>0</td>\n",
       "      <td>Q87768605</td>\n",
       "      <td>2020 coronavirus pandemic in Afghanistan</td>\n",
       "      <td>Q889</td>\n",
       "    </tr>\n",
       "    <tr>\n",
       "      <th>2</th>\n",
       "      <td>2020-01-24</td>\n",
       "      <td>Afghanistan</td>\n",
       "      <td>0</td>\n",
       "      <td>0</td>\n",
       "      <td>0</td>\n",
       "      <td>Q87768605</td>\n",
       "      <td>2020 coronavirus pandemic in Afghanistan</td>\n",
       "      <td>Q889</td>\n",
       "    </tr>\n",
       "  </tbody>\n",
       "</table>\n",
       "</div>"
      ],
      "text/plain": [
       "         Date      Country  Confirmed  Recovered  Deaths       item  \\\n",
       "0  2020-01-22  Afghanistan          0          0       0  Q87768605   \n",
       "1  2020-01-23  Afghanistan          0          0       0  Q87768605   \n",
       "2  2020-01-24  Afghanistan          0          0       0  Q87768605   \n",
       "\n",
       "                                  itemLabel countryid  \n",
       "0  2020 coronavirus pandemic in Afghanistan      Q889  \n",
       "1  2020 coronavirus pandemic in Afghanistan      Q889  \n",
       "2  2020 coronavirus pandemic in Afghanistan      Q889  "
      ]
     },
     "execution_count": 6,
     "metadata": {},
     "output_type": "execute_result"
    }
   ],
   "source": [
    "full = pd.merge(countries, wdt_items, on=\"Country\")\n",
    "full.head(3)"
   ]
  },
  {
   "cell_type": "code",
   "execution_count": 7,
   "metadata": {},
   "outputs": [
    {
     "data": {
      "text/html": [
       "<div>\n",
       "<style scoped>\n",
       "    .dataframe tbody tr th:only-of-type {\n",
       "        vertical-align: middle;\n",
       "    }\n",
       "\n",
       "    .dataframe tbody tr th {\n",
       "        vertical-align: top;\n",
       "    }\n",
       "\n",
       "    .dataframe thead th {\n",
       "        text-align: right;\n",
       "    }\n",
       "</style>\n",
       "<table border=\"1\" class=\"dataframe\">\n",
       "  <thead>\n",
       "    <tr style=\"text-align: right;\">\n",
       "      <th></th>\n",
       "      <th>Date</th>\n",
       "      <th>Country</th>\n",
       "      <th>Confirmed</th>\n",
       "      <th>Recovered</th>\n",
       "      <th>Deaths</th>\n",
       "      <th>item</th>\n",
       "      <th>itemLabel</th>\n",
       "      <th>countryid</th>\n",
       "    </tr>\n",
       "  </thead>\n",
       "  <tbody>\n",
       "    <tr>\n",
       "      <th>153</th>\n",
       "      <td>2020-06-23</td>\n",
       "      <td>Afghanistan</td>\n",
       "      <td>29481</td>\n",
       "      <td>9260</td>\n",
       "      <td>618</td>\n",
       "      <td>Q87768605</td>\n",
       "      <td>2020 coronavirus pandemic in Afghanistan</td>\n",
       "      <td>Q889</td>\n",
       "    </tr>\n",
       "    <tr>\n",
       "      <th>307</th>\n",
       "      <td>2020-06-23</td>\n",
       "      <td>Algeria</td>\n",
       "      <td>12076</td>\n",
       "      <td>8674</td>\n",
       "      <td>861</td>\n",
       "      <td>Q87202921</td>\n",
       "      <td>2020 coronavirus pandemic in Algeria</td>\n",
       "      <td>Q262</td>\n",
       "    </tr>\n",
       "  </tbody>\n",
       "</table>\n",
       "</div>"
      ],
      "text/plain": [
       "           Date      Country  Confirmed  Recovered  Deaths       item  \\\n",
       "153  2020-06-23  Afghanistan      29481       9260     618  Q87768605   \n",
       "307  2020-06-23      Algeria      12076       8674     861  Q87202921   \n",
       "\n",
       "                                    itemLabel countryid  \n",
       "153  2020 coronavirus pandemic in Afghanistan      Q889  \n",
       "307      2020 coronavirus pandemic in Algeria      Q262  "
      ]
     },
     "execution_count": 7,
     "metadata": {},
     "output_type": "execute_result"
    }
   ],
   "source": [
    "from datetime import datetime\n",
    "# Most recent data seems to be from the day before\n",
    "\n",
    "query = \"Date == @yesterday_table\"\n",
    "recent = full.query(query)\n",
    "\n",
    "# that does not happen aways, though.\n",
    "\n",
    "\n",
    "dates_in_full = [datetime.strptime(date, \"%Y-%m-%d\") for date in full[\"Date\"]]\n",
    "most_recent_date = max(dates_in_full).strftime(\"%Y-%m-%d\")\n",
    "\n",
    "# pd.query did not work\n",
    "recent = full[full[\"Date\"] == most_recent_date]\n",
    "\n",
    "recent.head(2)"
   ]
  },
  {
   "cell_type": "code",
   "execution_count": 8,
   "metadata": {},
   "outputs": [],
   "source": [
    "# The following countries appear to be updated\n",
    "# manually from more specific sources.\n",
    "idx = recent['Country'].isin(['US', 'United Kingdom', 'France', 'Sweden',\n",
    "                              'Brazil', 'Netherlands', 'China', 'Italy',\n",
    "                              'Spain', 'Germany', 'Iran', 'Índia', 'Mexico',\n",
    "                              'Argentina', 'Canada', 'Spain', 'Norway',\n",
    "                              'Uruguay'])\n",
    "not_manual = recent[~idx]"
   ]
  },
  {
   "cell_type": "code",
   "execution_count": 9,
   "metadata": {},
   "outputs": [],
   "source": [
    "%run check_last_update_for_country_items.py"
   ]
  },
  {
   "cell_type": "code",
   "execution_count": 10,
   "metadata": {},
   "outputs": [
    {
     "name": "stderr",
     "output_type": "stream",
     "text": [
      "6:80: E501 line too long (116 > 79 characters)\n"
     ]
    }
   ],
   "source": [
    "country_outbreak_items = list(recent[\"item\"])\n",
    "\n",
    "# Api only takes 50 at a time, so we have to cut it.\n",
    "\n",
    "\n",
    "# implementation from    https://stackoverflow.com/questions/312443/how-do-you-split-a-list-into-evenly-sized-chunks\n",
    "def get_chunks(l, n):\n",
    "    n = max(1, n)\n",
    "    return (l[i:i+n] for i in range(0, len(l), n))\n",
    "\n",
    "\n",
    "chunks_of_country_outbreak_items = list(get_chunks(country_outbreak_items, 50))\n",
    "\n",
    "outbreak_item_to_timestamp = {}\n",
    "\n",
    "for chunk in chunks_of_country_outbreak_items:\n",
    "    outbreak_item_to_timestamp.update(get_timestamp_of_last_edits(chunk))\n",
    "\n"
   ]
  },
  {
   "cell_type": "code",
   "execution_count": 11,
   "metadata": {},
   "outputs": [
    {
     "name": "stderr",
     "output_type": "stream",
     "text": [
      "/home/lubianat/.local/lib/python3.6/site-packages/ipykernel_launcher.py:1: SettingWithCopyWarning: \n",
      "A value is trying to be set on a copy of a slice from a DataFrame.\n",
      "Try using .loc[row_indexer,col_indexer] = value instead\n",
      "\n",
      "See the caveats in the documentation: https://pandas.pydata.org/pandas-docs/stable/user_guide/indexing.html#returning-a-view-versus-a-copy\n",
      "  \"\"\"Entry point for launching an IPython kernel.\n"
     ]
    },
    {
     "data": {
      "text/html": [
       "<div>\n",
       "<style scoped>\n",
       "    .dataframe tbody tr th:only-of-type {\n",
       "        vertical-align: middle;\n",
       "    }\n",
       "\n",
       "    .dataframe tbody tr th {\n",
       "        vertical-align: top;\n",
       "    }\n",
       "\n",
       "    .dataframe thead th {\n",
       "        text-align: right;\n",
       "    }\n",
       "</style>\n",
       "<table border=\"1\" class=\"dataframe\">\n",
       "  <thead>\n",
       "    <tr style=\"text-align: right;\">\n",
       "      <th></th>\n",
       "      <th>Date</th>\n",
       "      <th>Country</th>\n",
       "      <th>Confirmed</th>\n",
       "      <th>Recovered</th>\n",
       "      <th>Deaths</th>\n",
       "      <th>item</th>\n",
       "      <th>itemLabel</th>\n",
       "      <th>countryid</th>\n",
       "      <th>timestamp_of_last_edit</th>\n",
       "    </tr>\n",
       "  </thead>\n",
       "  <tbody>\n",
       "    <tr>\n",
       "      <th>153</th>\n",
       "      <td>2020-06-23</td>\n",
       "      <td>Afghanistan</td>\n",
       "      <td>29481</td>\n",
       "      <td>9260</td>\n",
       "      <td>618</td>\n",
       "      <td>Q87768605</td>\n",
       "      <td>2020 coronavirus pandemic in Afghanistan</td>\n",
       "      <td>Q889</td>\n",
       "      <td>2020-06-16T14:02:42Z</td>\n",
       "    </tr>\n",
       "    <tr>\n",
       "      <th>307</th>\n",
       "      <td>2020-06-23</td>\n",
       "      <td>Algeria</td>\n",
       "      <td>12076</td>\n",
       "      <td>8674</td>\n",
       "      <td>861</td>\n",
       "      <td>Q87202921</td>\n",
       "      <td>2020 coronavirus pandemic in Algeria</td>\n",
       "      <td>Q262</td>\n",
       "      <td>2020-06-23T11:17:14Z</td>\n",
       "    </tr>\n",
       "    <tr>\n",
       "      <th>461</th>\n",
       "      <td>2020-06-23</td>\n",
       "      <td>Angola</td>\n",
       "      <td>189</td>\n",
       "      <td>77</td>\n",
       "      <td>10</td>\n",
       "      <td>Q88082534</td>\n",
       "      <td>2020 coronavirus pandemic in Angola</td>\n",
       "      <td>Q916</td>\n",
       "      <td>2020-06-16T14:02:49Z</td>\n",
       "    </tr>\n",
       "    <tr>\n",
       "      <th>615</th>\n",
       "      <td>2020-06-23</td>\n",
       "      <td>Antigua and Barbuda</td>\n",
       "      <td>26</td>\n",
       "      <td>22</td>\n",
       "      <td>3</td>\n",
       "      <td>Q87708331</td>\n",
       "      <td>2020 coronavirus pandemic in Antigua and Barbuda</td>\n",
       "      <td>Q781</td>\n",
       "      <td>2020-06-17T19:41:19Z</td>\n",
       "    </tr>\n",
       "    <tr>\n",
       "      <th>769</th>\n",
       "      <td>2020-06-23</td>\n",
       "      <td>Argentina</td>\n",
       "      <td>47203</td>\n",
       "      <td>13576</td>\n",
       "      <td>1078</td>\n",
       "      <td>Q87235137</td>\n",
       "      <td>2020 coronavirus pandemic in Argentina</td>\n",
       "      <td>Q414</td>\n",
       "      <td>2020-06-23T13:57:43Z</td>\n",
       "    </tr>\n",
       "  </tbody>\n",
       "</table>\n",
       "</div>"
      ],
      "text/plain": [
       "           Date              Country  Confirmed  Recovered  Deaths       item  \\\n",
       "153  2020-06-23          Afghanistan      29481       9260     618  Q87768605   \n",
       "307  2020-06-23              Algeria      12076       8674     861  Q87202921   \n",
       "461  2020-06-23               Angola        189         77      10  Q88082534   \n",
       "615  2020-06-23  Antigua and Barbuda         26         22       3  Q87708331   \n",
       "769  2020-06-23            Argentina      47203      13576    1078  Q87235137   \n",
       "\n",
       "                                            itemLabel countryid  \\\n",
       "153          2020 coronavirus pandemic in Afghanistan      Q889   \n",
       "307              2020 coronavirus pandemic in Algeria      Q262   \n",
       "461               2020 coronavirus pandemic in Angola      Q916   \n",
       "615  2020 coronavirus pandemic in Antigua and Barbuda      Q781   \n",
       "769            2020 coronavirus pandemic in Argentina      Q414   \n",
       "\n",
       "    timestamp_of_last_edit  \n",
       "153   2020-06-16T14:02:42Z  \n",
       "307   2020-06-23T11:17:14Z  \n",
       "461   2020-06-16T14:02:49Z  \n",
       "615   2020-06-17T19:41:19Z  \n",
       "769   2020-06-23T13:57:43Z  "
      ]
     },
     "execution_count": 11,
     "metadata": {},
     "output_type": "execute_result"
    },
    {
     "name": "stderr",
     "output_type": "stream",
     "text": [
      "1:80: E501 line too long (81 > 79 characters)\n"
     ]
    }
   ],
   "source": [
    "recent[\"timestamp_of_last_edit\"] = recent[\"item\"].map(outbreak_item_to_timestamp)\n",
    "\n",
    "recent.head(5)"
   ]
  },
  {
   "cell_type": "code",
   "execution_count": 12,
   "metadata": {},
   "outputs": [],
   "source": [
    "from datetime import datetime\n",
    "\n",
    "\n",
    "def convert_timestamp_to_time_until_now(timestamp):\n",
    "\n",
    "    time_in_datetime_format = datetime.strptime(timestamp,\n",
    "                                                \"%Y-%m-%dT%H:%M:%SZ\")\n",
    "    diff = datetime.now() - time_in_datetime_format\n",
    "    return(diff)"
   ]
  },
  {
   "cell_type": "code",
   "execution_count": 13,
   "metadata": {},
   "outputs": [
    {
     "name": "stderr",
     "output_type": "stream",
     "text": [
      "/home/lubianat/.local/lib/python3.6/site-packages/ipykernel_launcher.py:1: SettingWithCopyWarning: \n",
      "A value is trying to be set on a copy of a slice from a DataFrame.\n",
      "Try using .loc[row_indexer,col_indexer] = value instead\n",
      "\n",
      "See the caveats in the documentation: https://pandas.pydata.org/pandas-docs/stable/user_guide/indexing.html#returning-a-view-versus-a-copy\n",
      "  \"\"\"Entry point for launching an IPython kernel.\n"
     ]
    },
    {
     "data": {
      "text/html": [
       "<div>\n",
       "<style scoped>\n",
       "    .dataframe tbody tr th:only-of-type {\n",
       "        vertical-align: middle;\n",
       "    }\n",
       "\n",
       "    .dataframe tbody tr th {\n",
       "        vertical-align: top;\n",
       "    }\n",
       "\n",
       "    .dataframe thead th {\n",
       "        text-align: right;\n",
       "    }\n",
       "</style>\n",
       "<table border=\"1\" class=\"dataframe\">\n",
       "  <thead>\n",
       "    <tr style=\"text-align: right;\">\n",
       "      <th></th>\n",
       "      <th>Date</th>\n",
       "      <th>Country</th>\n",
       "      <th>Confirmed</th>\n",
       "      <th>Recovered</th>\n",
       "      <th>Deaths</th>\n",
       "      <th>item</th>\n",
       "      <th>itemLabel</th>\n",
       "      <th>countryid</th>\n",
       "      <th>timestamp_of_last_edit</th>\n",
       "      <th>time_from_last_edit_until_now</th>\n",
       "    </tr>\n",
       "  </thead>\n",
       "  <tbody>\n",
       "    <tr>\n",
       "      <th>153</th>\n",
       "      <td>2020-06-23</td>\n",
       "      <td>Afghanistan</td>\n",
       "      <td>29481</td>\n",
       "      <td>9260</td>\n",
       "      <td>618</td>\n",
       "      <td>Q87768605</td>\n",
       "      <td>2020 coronavirus pandemic in Afghanistan</td>\n",
       "      <td>Q889</td>\n",
       "      <td>2020-06-16T14:02:42Z</td>\n",
       "      <td>7 days 17:23:43.160619</td>\n",
       "    </tr>\n",
       "    <tr>\n",
       "      <th>307</th>\n",
       "      <td>2020-06-23</td>\n",
       "      <td>Algeria</td>\n",
       "      <td>12076</td>\n",
       "      <td>8674</td>\n",
       "      <td>861</td>\n",
       "      <td>Q87202921</td>\n",
       "      <td>2020 coronavirus pandemic in Algeria</td>\n",
       "      <td>Q262</td>\n",
       "      <td>2020-06-23T11:17:14Z</td>\n",
       "      <td>0 days 20:09:11.160779</td>\n",
       "    </tr>\n",
       "    <tr>\n",
       "      <th>461</th>\n",
       "      <td>2020-06-23</td>\n",
       "      <td>Angola</td>\n",
       "      <td>189</td>\n",
       "      <td>77</td>\n",
       "      <td>10</td>\n",
       "      <td>Q88082534</td>\n",
       "      <td>2020 coronavirus pandemic in Angola</td>\n",
       "      <td>Q916</td>\n",
       "      <td>2020-06-16T14:02:49Z</td>\n",
       "      <td>7 days 17:23:36.160853</td>\n",
       "    </tr>\n",
       "    <tr>\n",
       "      <th>615</th>\n",
       "      <td>2020-06-23</td>\n",
       "      <td>Antigua and Barbuda</td>\n",
       "      <td>26</td>\n",
       "      <td>22</td>\n",
       "      <td>3</td>\n",
       "      <td>Q87708331</td>\n",
       "      <td>2020 coronavirus pandemic in Antigua and Barbuda</td>\n",
       "      <td>Q781</td>\n",
       "      <td>2020-06-17T19:41:19Z</td>\n",
       "      <td>6 days 11:45:06.160899</td>\n",
       "    </tr>\n",
       "    <tr>\n",
       "      <th>769</th>\n",
       "      <td>2020-06-23</td>\n",
       "      <td>Argentina</td>\n",
       "      <td>47203</td>\n",
       "      <td>13576</td>\n",
       "      <td>1078</td>\n",
       "      <td>Q87235137</td>\n",
       "      <td>2020 coronavirus pandemic in Argentina</td>\n",
       "      <td>Q414</td>\n",
       "      <td>2020-06-23T13:57:43Z</td>\n",
       "      <td>0 days 17:28:42.160939</td>\n",
       "    </tr>\n",
       "  </tbody>\n",
       "</table>\n",
       "</div>"
      ],
      "text/plain": [
       "           Date              Country  Confirmed  Recovered  Deaths       item  \\\n",
       "153  2020-06-23          Afghanistan      29481       9260     618  Q87768605   \n",
       "307  2020-06-23              Algeria      12076       8674     861  Q87202921   \n",
       "461  2020-06-23               Angola        189         77      10  Q88082534   \n",
       "615  2020-06-23  Antigua and Barbuda         26         22       3  Q87708331   \n",
       "769  2020-06-23            Argentina      47203      13576    1078  Q87235137   \n",
       "\n",
       "                                            itemLabel countryid  \\\n",
       "153          2020 coronavirus pandemic in Afghanistan      Q889   \n",
       "307              2020 coronavirus pandemic in Algeria      Q262   \n",
       "461               2020 coronavirus pandemic in Angola      Q916   \n",
       "615  2020 coronavirus pandemic in Antigua and Barbuda      Q781   \n",
       "769            2020 coronavirus pandemic in Argentina      Q414   \n",
       "\n",
       "    timestamp_of_last_edit time_from_last_edit_until_now  \n",
       "153   2020-06-16T14:02:42Z        7 days 17:23:43.160619  \n",
       "307   2020-06-23T11:17:14Z        0 days 20:09:11.160779  \n",
       "461   2020-06-16T14:02:49Z        7 days 17:23:36.160853  \n",
       "615   2020-06-17T19:41:19Z        6 days 11:45:06.160899  \n",
       "769   2020-06-23T13:57:43Z        0 days 17:28:42.160939  "
      ]
     },
     "execution_count": 13,
     "metadata": {},
     "output_type": "execute_result"
    },
    {
     "name": "stderr",
     "output_type": "stream",
     "text": [
      "1:80: E501 line too long (115 > 79 characters)\n"
     ]
    }
   ],
   "source": [
    "recent[\"time_from_last_edit_until_now\"] = recent[\"timestamp_of_last_edit\"].map(convert_timestamp_to_time_until_now)\n",
    "\n",
    "recent.head(5)"
   ]
  },
  {
   "cell_type": "code",
   "execution_count": 14,
   "metadata": {},
   "outputs": [
    {
     "name": "stderr",
     "output_type": "stream",
     "text": [
      "1:1: E265 block comment should start with '# '\n",
      "1:80: E501 line too long (87 > 79 characters)\n"
     ]
    }
   ],
   "source": [
    "#outdated_items = recent[recent[\"time_from_last_edit_until_now\"] > timedelta(hours=23)]\n",
    "\n",
    "outdated_items = recent"
   ]
  },
  {
   "cell_type": "code",
   "execution_count": 15,
   "metadata": {},
   "outputs": [
    {
     "data": {
      "text/html": [
       "<div>\n",
       "<style scoped>\n",
       "    .dataframe tbody tr th:only-of-type {\n",
       "        vertical-align: middle;\n",
       "    }\n",
       "\n",
       "    .dataframe tbody tr th {\n",
       "        vertical-align: top;\n",
       "    }\n",
       "\n",
       "    .dataframe thead th {\n",
       "        text-align: right;\n",
       "    }\n",
       "</style>\n",
       "<table border=\"1\" class=\"dataframe\">\n",
       "  <thead>\n",
       "    <tr style=\"text-align: right;\">\n",
       "      <th></th>\n",
       "      <th>Date</th>\n",
       "      <th>Country</th>\n",
       "      <th>Confirmed</th>\n",
       "      <th>Recovered</th>\n",
       "      <th>Deaths</th>\n",
       "      <th>item</th>\n",
       "      <th>itemLabel</th>\n",
       "      <th>countryid</th>\n",
       "      <th>timestamp_of_last_edit</th>\n",
       "      <th>time_from_last_edit_until_now</th>\n",
       "    </tr>\n",
       "  </thead>\n",
       "  <tbody>\n",
       "    <tr>\n",
       "      <th>153</th>\n",
       "      <td>2020-06-23</td>\n",
       "      <td>Afghanistan</td>\n",
       "      <td>29481</td>\n",
       "      <td>9260</td>\n",
       "      <td>618</td>\n",
       "      <td>Q87768605</td>\n",
       "      <td>2020 coronavirus pandemic in Afghanistan</td>\n",
       "      <td>Q889</td>\n",
       "      <td>2020-06-16T14:02:42Z</td>\n",
       "      <td>7 days 17:23:43.160619</td>\n",
       "    </tr>\n",
       "    <tr>\n",
       "      <th>307</th>\n",
       "      <td>2020-06-23</td>\n",
       "      <td>Algeria</td>\n",
       "      <td>12076</td>\n",
       "      <td>8674</td>\n",
       "      <td>861</td>\n",
       "      <td>Q87202921</td>\n",
       "      <td>2020 coronavirus pandemic in Algeria</td>\n",
       "      <td>Q262</td>\n",
       "      <td>2020-06-23T11:17:14Z</td>\n",
       "      <td>0 days 20:09:11.160779</td>\n",
       "    </tr>\n",
       "    <tr>\n",
       "      <th>461</th>\n",
       "      <td>2020-06-23</td>\n",
       "      <td>Angola</td>\n",
       "      <td>189</td>\n",
       "      <td>77</td>\n",
       "      <td>10</td>\n",
       "      <td>Q88082534</td>\n",
       "      <td>2020 coronavirus pandemic in Angola</td>\n",
       "      <td>Q916</td>\n",
       "      <td>2020-06-16T14:02:49Z</td>\n",
       "      <td>7 days 17:23:36.160853</td>\n",
       "    </tr>\n",
       "    <tr>\n",
       "      <th>615</th>\n",
       "      <td>2020-06-23</td>\n",
       "      <td>Antigua and Barbuda</td>\n",
       "      <td>26</td>\n",
       "      <td>22</td>\n",
       "      <td>3</td>\n",
       "      <td>Q87708331</td>\n",
       "      <td>2020 coronavirus pandemic in Antigua and Barbuda</td>\n",
       "      <td>Q781</td>\n",
       "      <td>2020-06-17T19:41:19Z</td>\n",
       "      <td>6 days 11:45:06.160899</td>\n",
       "    </tr>\n",
       "    <tr>\n",
       "      <th>769</th>\n",
       "      <td>2020-06-23</td>\n",
       "      <td>Argentina</td>\n",
       "      <td>47203</td>\n",
       "      <td>13576</td>\n",
       "      <td>1078</td>\n",
       "      <td>Q87235137</td>\n",
       "      <td>2020 coronavirus pandemic in Argentina</td>\n",
       "      <td>Q414</td>\n",
       "      <td>2020-06-23T13:57:43Z</td>\n",
       "      <td>0 days 17:28:42.160939</td>\n",
       "    </tr>\n",
       "  </tbody>\n",
       "</table>\n",
       "</div>"
      ],
      "text/plain": [
       "           Date              Country  Confirmed  Recovered  Deaths       item  \\\n",
       "153  2020-06-23          Afghanistan      29481       9260     618  Q87768605   \n",
       "307  2020-06-23              Algeria      12076       8674     861  Q87202921   \n",
       "461  2020-06-23               Angola        189         77      10  Q88082534   \n",
       "615  2020-06-23  Antigua and Barbuda         26         22       3  Q87708331   \n",
       "769  2020-06-23            Argentina      47203      13576    1078  Q87235137   \n",
       "\n",
       "                                            itemLabel countryid  \\\n",
       "153          2020 coronavirus pandemic in Afghanistan      Q889   \n",
       "307              2020 coronavirus pandemic in Algeria      Q262   \n",
       "461               2020 coronavirus pandemic in Angola      Q916   \n",
       "615  2020 coronavirus pandemic in Antigua and Barbuda      Q781   \n",
       "769            2020 coronavirus pandemic in Argentina      Q414   \n",
       "\n",
       "    timestamp_of_last_edit time_from_last_edit_until_now  \n",
       "153   2020-06-16T14:02:42Z        7 days 17:23:43.160619  \n",
       "307   2020-06-23T11:17:14Z        0 days 20:09:11.160779  \n",
       "461   2020-06-16T14:02:49Z        7 days 17:23:36.160853  \n",
       "615   2020-06-17T19:41:19Z        6 days 11:45:06.160899  \n",
       "769   2020-06-23T13:57:43Z        0 days 17:28:42.160939  "
      ]
     },
     "execution_count": 15,
     "metadata": {},
     "output_type": "execute_result"
    }
   ],
   "source": [
    "outdated_items.head(5)"
   ]
  },
  {
   "cell_type": "code",
   "execution_count": 16,
   "metadata": {},
   "outputs": [
    {
     "name": "stderr",
     "output_type": "stream",
     "text": [
      "3:80: E501 line too long (81 > 79 characters)\n",
      "4:31: E128 continuation line under-indented for visual indent\n",
      "5:31: E128 continuation line under-indented for visual indent\n",
      "6:31: E128 continuation line under-indented for visual indent\n",
      "7:31: E128 continuation line under-indented for visual indent\n"
     ]
    }
   ],
   "source": [
    "# The following countries appear to be updated\n",
    "# manually from more specific sources.\n",
    "idx = outdated_items['Country'].isin(['US', 'United Kingdom', 'France', 'Sweden',\n",
    "                              'Brazil', 'Netherlands', 'China', 'Italy',\n",
    "                              'Spain', 'Germany', 'Iran', 'Índia', 'Mexico',\n",
    "                              'Argentina', 'Canada', 'Spain', 'Norway',\n",
    "                              'Uruguay'])\n",
    "outdated_items = outdated_items[~idx]"
   ]
  },
  {
   "cell_type": "code",
   "execution_count": 17,
   "metadata": {},
   "outputs": [],
   "source": [
    "outdated_items = outdated_items[10:]"
   ]
  },
  {
   "cell_type": "code",
   "execution_count": 18,
   "metadata": {},
   "outputs": [
    {
     "name": "stderr",
     "output_type": "stream",
     "text": [
      "17:80: E501 line too long (81 > 79 characters)\n",
      "18:80: E501 line too long (84 > 79 characters)\n",
      "19:1: W293 blank line contains whitespace\n"
     ]
    }
   ],
   "source": [
    "def make_url_statement_reference(url):\n",
    "    return wdi_core.WDString(value=url, prop_nr=\"P854\", is_reference=True)\n",
    "\n",
    "\n",
    "def make_retrieved_today_statement_reference():\n",
    "    today = datetime.now()\n",
    "    today_wikidata_format = today.strftime(\"+%Y-%m-%dT00:00:00Z\")\n",
    "    reference_retrieved_in = wdi_core.WDTime(today_wikidata_format,\n",
    "                                             prop_nr='P813', is_reference=True)\n",
    "    return reference_retrieved_in\n",
    "\n",
    "\n",
    "def get_date_of_ocurrence_statement_qualifier(row):\n",
    "    date_string = row[\"Date\"]\n",
    "    date = datetime.strptime(date_string, '%Y-%m-%d')\n",
    "    date_string_in_wikidata_format = date.strftime(\"+%Y-%m-%dT00:00:00Z\")\n",
    "    qualifier_date_of_ocurrence = wdi_core.WDTime(date_string_in_wikidata_format,\n",
    "                                                  prop_nr=\"P585\", is_qualifier=True)\n",
    "    \n",
    "    return qualifier_date_of_ocurrence"
   ]
  },
  {
   "cell_type": "code",
   "execution_count": 19,
   "metadata": {},
   "outputs": [
    {
     "name": "stdout",
     "output_type": "stream",
     "text": [
      "https://www.wikidata.org/w/api.php\n",
      "Successfully logged in as CovidDatahubBot\n"
     ]
    },
    {
     "name": "stderr",
     "output_type": "stream",
     "text": [
      "4:80: E501 line too long (87 > 79 characters)\n"
     ]
    }
   ],
   "source": [
    "from wikidataintegrator import wdi_core, wdi_login\n",
    "import credentials as credentials\n",
    "# login object\n",
    "login_instance = wdi_login.WDLogin(user=credentials.username, pwd=credentials.password)\n"
   ]
  },
  {
   "cell_type": "code",
   "execution_count": 21,
   "metadata": {},
   "outputs": [
    {
     "name": "stdout",
     "output_type": "stream",
     "text": [
      "Bhutan Q87715166\n"
     ]
    }
   ],
   "source": [
    "\n",
    "for index, row in outdated_items.iterrows():\n",
    "    item_being_updated = row[\"Country\"] + \" \" + row[\"item\"]\n",
    "    print(item_being_updated)\n",
    "    \n",
    "    \n",
    "    break"
   ]
  },
  {
   "cell_type": "code",
   "execution_count": 44,
   "metadata": {},
   "outputs": [
    {
     "name": "stdout",
     "output_type": "stream",
     "text": [
      "Bhutan Q87715166\n",
      "0\n",
      "67\n",
      "22\n",
      "2020-06-16 14:10:15.949445: maxlag. sleeping for 5.866666666666666 seconds\n"
     ]
    },
    {
     "ename": "KeyboardInterrupt",
     "evalue": "",
     "output_type": "error",
     "traceback": [
      "\u001b[0;31m--------------------------------------------------\u001b[0m",
      "\u001b[0;31mKeyboardInterrupt\u001b[0mTraceback (most recent call last)",
      "\u001b[0;32m<ipython-input-44-a172a2ea32fe>\u001b[0m in \u001b[0;36m<module>\u001b[0;34m\u001b[0m\n\u001b[1;32m     40\u001b[0m                   \u001b[0mbot_account\u001b[0m\u001b[0;34m=\u001b[0m\u001b[0;32mTrue\u001b[0m\u001b[0;34m,\u001b[0m\u001b[0;34m\u001b[0m\u001b[0;34m\u001b[0m\u001b[0m\n\u001b[1;32m     41\u001b[0m                   \u001b[0mmax_retries\u001b[0m\u001b[0;34m=\u001b[0m\u001b[0;36m3\u001b[0m\u001b[0;34m,\u001b[0m\u001b[0;34m\u001b[0m\u001b[0;34m\u001b[0m\u001b[0m\n\u001b[0;32m---> 42\u001b[0;31m                   edit_summary=\"updating case counts for today\")\n\u001b[0m\u001b[1;32m     43\u001b[0m \u001b[0;34m\u001b[0m\u001b[0m\n\u001b[1;32m     44\u001b[0m \u001b[0;34m\u001b[0m\u001b[0m\n",
      "\u001b[0;32m~/.local/lib/python3.6/site-packages/wikidataintegrator/wdi_core.py\u001b[0m in \u001b[0;36mwrite\u001b[0;34m(self, login, bot_account, edit_summary, entity_type, property_datatype, max_retries, retry_after)\u001b[0m\n\u001b[1;32m    942\u001b[0m             json_data = self.mediawiki_api_call('POST', self.mediawiki_api_url, session=login.get_session(),\n\u001b[1;32m    943\u001b[0m                                                 \u001b[0mmax_retries\u001b[0m\u001b[0;34m=\u001b[0m\u001b[0mmax_retries\u001b[0m\u001b[0;34m,\u001b[0m \u001b[0mretry_after\u001b[0m\u001b[0;34m=\u001b[0m\u001b[0mretry_after\u001b[0m\u001b[0;34m,\u001b[0m\u001b[0;34m\u001b[0m\u001b[0;34m\u001b[0m\u001b[0m\n\u001b[0;32m--> 944\u001b[0;31m                                                 headers=headers, data=payload)\n\u001b[0m\u001b[1;32m    945\u001b[0m \u001b[0;34m\u001b[0m\u001b[0m\n\u001b[1;32m    946\u001b[0m             \u001b[0;32mif\u001b[0m \u001b[0;34m'error'\u001b[0m \u001b[0;32min\u001b[0m \u001b[0mjson_data\u001b[0m \u001b[0;32mand\u001b[0m \u001b[0;34m'messages'\u001b[0m \u001b[0;32min\u001b[0m \u001b[0mjson_data\u001b[0m\u001b[0;34m[\u001b[0m\u001b[0;34m'error'\u001b[0m\u001b[0;34m]\u001b[0m\u001b[0;34m:\u001b[0m\u001b[0;34m\u001b[0m\u001b[0;34m\u001b[0m\u001b[0m\n",
      "\u001b[0;32m~/.local/lib/python3.6/site-packages/wikidataintegrator/wdi_core.py\u001b[0m in \u001b[0;36mmediawiki_api_call\u001b[0;34m(method, mediawiki_api_url, session, max_retries, retry_after, **kwargs)\u001b[0m\n\u001b[1;32m   1017\u001b[0m                     \u001b[0msleep_sec\u001b[0m \u001b[0;34m=\u001b[0m \u001b[0mjson_data\u001b[0m\u001b[0;34m[\u001b[0m\u001b[0;34m'error'\u001b[0m\u001b[0;34m]\u001b[0m\u001b[0;34m.\u001b[0m\u001b[0mget\u001b[0m\u001b[0;34m(\u001b[0m\u001b[0;34m'lag'\u001b[0m\u001b[0;34m,\u001b[0m \u001b[0mretry_after\u001b[0m\u001b[0;34m)\u001b[0m\u001b[0;34m\u001b[0m\u001b[0;34m\u001b[0m\u001b[0m\n\u001b[1;32m   1018\u001b[0m                     \u001b[0mprint\u001b[0m\u001b[0;34m(\u001b[0m\u001b[0;34m\"{}: maxlag. sleeping for {} seconds\"\u001b[0m\u001b[0;34m.\u001b[0m\u001b[0mformat\u001b[0m\u001b[0;34m(\u001b[0m\u001b[0mdatetime\u001b[0m\u001b[0;34m.\u001b[0m\u001b[0mdatetime\u001b[0m\u001b[0;34m.\u001b[0m\u001b[0mutcnow\u001b[0m\u001b[0;34m(\u001b[0m\u001b[0;34m)\u001b[0m\u001b[0;34m,\u001b[0m \u001b[0msleep_sec\u001b[0m\u001b[0;34m)\u001b[0m\u001b[0;34m)\u001b[0m\u001b[0;34m\u001b[0m\u001b[0;34m\u001b[0m\u001b[0m\n\u001b[0;32m-> 1019\u001b[0;31m                     \u001b[0mtime\u001b[0m\u001b[0;34m.\u001b[0m\u001b[0msleep\u001b[0m\u001b[0;34m(\u001b[0m\u001b[0msleep_sec\u001b[0m\u001b[0;34m)\u001b[0m\u001b[0;34m\u001b[0m\u001b[0;34m\u001b[0m\u001b[0m\n\u001b[0m\u001b[1;32m   1020\u001b[0m                     \u001b[0;32mcontinue\u001b[0m\u001b[0;34m\u001b[0m\u001b[0;34m\u001b[0m\u001b[0m\n\u001b[1;32m   1021\u001b[0m \u001b[0;34m\u001b[0m\u001b[0m\n",
      "\u001b[0;31mKeyboardInterrupt\u001b[0m: "
     ]
    },
    {
     "name": "stderr",
     "output_type": "stream",
     "text": [
      "3:80: E501 line too long (84 > 79 characters)\n",
      "11:1: E402 module level import not at top of file\n",
      "16:80: E501 line too long (80 > 79 characters)\n",
      "18:1: W293 blank line contains whitespace\n",
      "23:1: W293 blank line contains whitespace\n",
      "27:1: W293 blank line contains whitespace\n",
      "28:80: E501 line too long (129 > 79 characters)\n",
      "28:86: E251 unexpected spaces around keyword / parameter equals\n",
      "29:80: E501 line too long (137 > 79 characters)\n",
      "29:94: E251 unexpected spaces around keyword / parameter equals\n",
      "30:80: E501 line too long (137 > 79 characters)\n",
      "30:94: E251 unexpected spaces around keyword / parameter equals\n",
      "31:1: W293 blank line contains whitespace\n",
      "32:80: E501 line too long (95 > 79 characters)\n",
      "34:1: W293 blank line contains whitespace\n",
      "35:5: E303 too many blank lines (2)\n",
      "37:1: W293 blank line contains whitespace\n",
      "38:1: W293 blank line contains whitespace\n",
      "39:5: E303 too many blank lines (2)\n",
      "43:1: W293 blank line contains whitespace\n",
      "44:1: W293 blank line contains whitespace\n",
      "45:5: E303 too many blank lines (2)\n",
      "45:14: W291 trailing whitespace\n",
      "50:1: W293 blank line contains whitespace\n",
      "51:1: W293 blank line contains whitespace\n"
     ]
    }
   ],
   "source": [
    "from datetime import datetime, date\n",
    "\n",
    "url_for_reference = make_url_statement_reference(\"https://datahub.io/core/covid-19\")\n",
    "reference_retrieved_in = make_retrieved_today_statement_reference()\n",
    "\n",
    "references_list = [[url_for_reference, reference_retrieved_in]]\n",
    "\n",
    "\n",
    "flag = 0\n",
    "\n",
    "import time\n",
    "\n",
    "for index, row in outdated_items.iterrows():\n",
    "    item_being_updated = row[\"Country\"] + \" \" + row[\"item\"]\n",
    "    print(item_being_updated)\n",
    "    qualifier_date_of_ocurrence = get_date_of_occurence_statement_qualifier(row)\n",
    "    qualifier_list = [qualifier_date_of_ocurrence]\n",
    "    \n",
    "    outbreak_item = row[\"item\"]\n",
    "    deaths = row[\"Deaths\"]\n",
    "    confirmeds = row[\"Confirmed\"]\n",
    "    recovereds = row[\"Recovered\"]\n",
    "    \n",
    "    print(deaths)\n",
    "    print(confirmeds)\n",
    "    print(recovereds)\n",
    "    \n",
    "    deaths_statement = wdi_core.WDQuantity(value=deaths, prop_nr='P1120', references= references_list, qualifiers=qualifier_list)\n",
    "    confirmeds_statement = wdi_core.WDQuantity(value=confirmeds, prop_nr='P1603', references= references_list, qualifiers=qualifier_list)\n",
    "    recovereds_statement = wdi_core.WDQuantity(value=recovereds, prop_nr='P8010', references= references_list, qualifiers=qualifier_list)\n",
    "    \n",
    "    data_to_update_for_country = [deaths_statement, confirmeds_statement, recovereds_statement]\n",
    "\n",
    "    \n",
    "    wd_item = wdi_core.WDItemEngine(wd_item_id=outbreak_item,\n",
    "                                    data=data_to_update_for_country)\n",
    "   \n",
    "    \n",
    "    wd_item.write(login_instance,\n",
    "                  bot_account=True,\n",
    "                  max_retries=3,\n",
    "                  edit_summary=\"updating case counts for today\")\n",
    "    \n",
    "    \n",
    "\n",
    "    \n",
    "    "
   ]
  },
  {
   "cell_type": "code",
   "execution_count": 26,
   "metadata": {},
   "outputs": [
    {
     "data": {
      "text/plain": [
       "<module 'credentials' from '/home/lubianat/Documents/wikidata_covid19/sandbox/worldwide_data/src/credentials.py'>"
      ]
     },
     "execution_count": 26,
     "metadata": {},
     "output_type": "execute_result"
    }
   ],
   "source": [
    "credentials"
   ]
  },
  {
   "cell_type": "code",
   "execution_count": null,
   "metadata": {},
   "outputs": [],
   "source": []
  },
  {
   "cell_type": "code",
   "execution_count": null,
   "metadata": {},
   "outputs": [],
   "source": []
  }
 ],
 "metadata": {
  "kernelspec": {
   "display_name": "Python 3",
   "language": "python",
   "name": "python3"
  },
  "language_info": {
   "codemirror_mode": {
    "name": "ipython",
    "version": 3
   },
   "file_extension": ".py",
   "mimetype": "text/x-python",
   "name": "python",
   "nbconvert_exporter": "python",
   "pygments_lexer": "ipython3",
   "version": "3.6.9"
  }
 },
 "nbformat": 4,
 "nbformat_minor": 4
}
