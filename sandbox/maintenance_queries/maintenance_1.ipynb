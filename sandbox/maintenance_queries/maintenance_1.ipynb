{
 "cells": [
  {
   "cell_type": "markdown",
   "metadata": {},
   "source": [
    "### Maintenance queries related to COVID-19\n",
    "\n",
    "In this notebook I try to analyse some of the maintenance queries available [here](https://www.wikidata.org/wiki/Wikidata:WikiProject_COVID-19/Queries#Maintenance_queries), with some of my modifications to facilitate the process and fix at least some of the missing properties"
   ]
  },
  {
   "cell_type": "markdown",
   "metadata": {},
   "source": [
    "### Missing location\n",
    "Query I used:"
   ]
  },
  {
   "cell_type": "markdown",
   "metadata": {},
   "source": [
    "```\n",
    "SELECT ?item ?itemLabel ?itemDescription ?country ?countryLabel ?valid_in_place ?valid_in_placeLabel\n",
    "{\n",
    "\t?item wdt:P31 wd:Q3241045 . \n",
    "\t?item wdt:P361+ wd:Q81068910 . \n",
    "    ?item p:P31 ?instance .\n",
    "    OPTIONAL {?item wdt:P17 ?country}\n",
    "    OPTIONAL {?instance pq:P3005 ?valid_in_place}\n",
    "\tMINUS { ?item p:P276 [] }\n",
    "\tSERVICE wikibase:label { bd:serviceParam wikibase:language \"pt-br,en\". }\n",
    "}\n",
    "```"
   ]
  },
  {
   "cell_type": "markdown",
   "metadata": {},
   "source": [
    "Ended up just extracting the table from the website because parsing the JSON would've been too much of a hassle for me."
   ]
  },
  {
   "cell_type": "code",
   "execution_count": null,
   "metadata": {},
   "outputs": [],
   "source": [
    "import pandas as pd"
   ]
  },
  {
   "cell_type": "code",
   "execution_count": null,
   "metadata": {},
   "outputs": [],
   "source": [
    "missing_location = pd.read_csv(\"./missing_location.csv\")\n",
    "missing_location"
   ]
  },
  {
   "cell_type": "code",
   "execution_count": null,
   "metadata": {},
   "outputs": [],
   "source": [
    "missing_location = missing_location.iloc[4:,:]"
   ]
  },
  {
   "cell_type": "code",
   "execution_count": null,
   "metadata": {},
   "outputs": [],
   "source": [
    "missing_location"
   ]
  },
  {
   "cell_type": "code",
   "execution_count": null,
   "metadata": {},
   "outputs": [],
   "source": [
    "idx = missing_location['itemLabel'].str.contains(\"Pandemia de COVID-19 na cidade\")\n",
    "brazilian_cities = missing_location[idx]\n",
    "brazilian_cities"
   ]
  },
  {
   "cell_type": "code",
   "execution_count": null,
   "metadata": {},
   "outputs": [],
   "source": [
    "for index, row in brazilian_cities.iterrows():\n",
    "    print(\n",
    "        row['item'] + '|Len|' + '\"' + f\"COVID-19 pandemic in the city of {row['valid_in_placeLabel']}\" + '\"\\n' +\n",
    "        row['item'] + '|P361|' + \"Q86597695\"  + '\\n' +\n",
    "        row['item'] + \"|P17|\" + \"Q155\" + '\\n' +\n",
    "        row['item'] + \"|P276|\" + row['valid_in_place'] + '\\n'\n",
    "        )"
   ]
  },
  {
   "cell_type": "code",
   "execution_count": null,
   "metadata": {},
   "outputs": [],
   "source": [
    "missing_other = missing_location[idx == False]\n",
    "missing_other_valid = missing_other[missing_other['valid_in_place'].notnull()]\n",
    "missing_other_valid"
   ]
  },
  {
   "cell_type": "code",
   "execution_count": null,
   "metadata": {
    "scrolled": true
   },
   "outputs": [],
   "source": [
    "missing_other_valid = missing_other_valid[:-1]\n",
    "for index, row in missing_other_valid.iterrows():\n",
    "    pandemic_in = row['itemLabel'].replace('2020 coronavirus pandemic in ','viral pandemic in ')\n",
    "    print(\n",
    "        row['item'] + '|Den|' + '\"' + pandemic_in + '\"\\n' +\n",
    "        row['item'] + \"|P276|\" + row['valid_in_place'] + '\\n'\n",
    "        )"
   ]
  },
  {
   "cell_type": "markdown",
   "metadata": {},
   "source": [
    "### Missing country"
   ]
  },
  {
   "cell_type": "markdown",
   "metadata": {},
   "source": [
    "These items are missing country statements, but not location, so I retrieve the country from the location statement."
   ]
  },
  {
   "cell_type": "code",
   "execution_count": null,
   "metadata": {},
   "outputs": [],
   "source": [
    "from SPARQLWrapper import SPARQLWrapper, JSON\n",
    "\n",
    "endpoint_url = \"https://query.wikidata.org/sparql\"\n",
    "\n",
    "query = \"\"\"SELECT ?item ?itemLabel ?itemDescription ?country ?countryLabel{\n",
    "\t?item wdt:P31 wd:Q3241045 . \n",
    "\t?item wdt:P361+ wd:Q81068910 .   \n",
    "    ?item wdt:P276 ?location .\n",
    "    ?location wdt:P17 ?country .\n",
    "\tMINUS { ?item p:P17 [] }\n",
    "\tSERVICE wikibase:label { bd:serviceParam wikibase:language \"en\". }\n",
    "}\n",
    "\"\"\"\n",
    "\n",
    "\n",
    "def get_results(endpoint_url, query):\n",
    "    sparql = SPARQLWrapper(endpoint_url)\n",
    "    sparql.setQuery(query)\n",
    "    sparql.setReturnFormat(JSON)\n",
    "    return sparql.query().convert()\n",
    "\n",
    "\n",
    "results = get_results(endpoint_url, query)"
   ]
  },
  {
   "cell_type": "code",
   "execution_count": null,
   "metadata": {},
   "outputs": [],
   "source": [
    "dic  = {'item': [], 'itemLabel':[], 'itemDescription':[], 'country': [], 'countryLabel':[]}\n",
    "for result in results[\"results\"][\"bindings\"]:\n",
    "    a = result['item']['value']\n",
    "    dic['item'].append(a.split('/')[4])\n",
    "    b = result['itemLabel']['value']\n",
    "    dic['itemLabel'].append(b)\n",
    "    try:\n",
    "        c = result['itemDescription']['value']\n",
    "        dic['itemDescription'].append(c)\n",
    "    except:\n",
    "        dic['itemDescription'].append(None)\n",
    "    d = result['country']['value']\n",
    "    dic['country'].append(d.split('/')[4])\n",
    "    e = result['countryLabel']['value']\n",
    "    dic['countryLabel'].append(e)"
   ]
  },
  {
   "cell_type": "code",
   "execution_count": null,
   "metadata": {
    "scrolled": true
   },
   "outputs": [],
   "source": [
    "missing_country = pd.DataFrame(dic)"
   ]
  },
  {
   "cell_type": "code",
   "execution_count": null,
   "metadata": {},
   "outputs": [],
   "source": [
    "#Dropping for Sevastopol since it's a disputed territory\n",
    "missing_country = missing_country[:26]\n",
    "for index, row in missing_country.iterrows():\n",
    "    pandemic_in = row['itemLabel'].replace('2020 coronavirus pandemic in ','viral pandemic in ')\n",
    "    print(\n",
    "        row['item'] + '|Den|' + '\"' + pandemic_in + '\"\\n' +\n",
    "        row['item'] + \"|P17|\" + row['country'] + '\\n'\n",
    "        )"
   ]
  }
 ],
 "metadata": {
  "kernelspec": {
   "display_name": "Python 3",
   "language": "python",
   "name": "python3"
  },
  "language_info": {
   "codemirror_mode": {
    "name": "ipython",
    "version": 3
   },
   "file_extension": ".py",
   "mimetype": "text/x-python",
   "name": "python",
   "nbconvert_exporter": "python",
   "pygments_lexer": "ipython3",
   "version": "3.8.2"
  }
 },
 "nbformat": 4,
 "nbformat_minor": 4
}
