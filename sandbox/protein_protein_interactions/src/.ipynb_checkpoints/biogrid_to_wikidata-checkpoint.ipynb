{
 "cells": [
  {
   "cell_type": "markdown",
   "metadata": {},
   "source": [
    "### COVID-19 related protein-protein interactions from https://thebiogrid.org/news/227\n",
    "\n"
   ]
  },
  {
   "cell_type": "code",
   "execution_count": 1,
   "metadata": {},
   "outputs": [
    {
     "name": "stdout",
     "output_type": "stream",
     "text": [
      "<class 'pandas.core.frame.DataFrame'>\n",
      "RangeIndex: 491 entries, 0 to 490\n",
      "Data columns (total 35 columns):\n",
      " #   Column                              Non-Null Count  Dtype \n",
      "---  ------                              --------------  ----- \n",
      " 0   #BioGRID Interaction ID             491 non-null    int64 \n",
      " 1   Entrez Gene Interactor A            491 non-null    object\n",
      " 2   Entrez Gene Interactor B            491 non-null    int64 \n",
      " 3   BioGRID ID Interactor A             491 non-null    int64 \n",
      " 4   BioGRID ID Interactor B             491 non-null    int64 \n",
      " 5   Systematic Name Interactor A        491 non-null    object\n",
      " 6   Systematic Name Interactor B        491 non-null    object\n",
      " 7   Official Symbol Interactor A        491 non-null    object\n",
      " 8   Official Symbol Interactor B        491 non-null    object\n",
      " 9   Synonyms Interactor A               491 non-null    object\n",
      " 10  Synonyms Interactor B               491 non-null    object\n",
      " 11  Experimental System                 491 non-null    object\n",
      " 12  Experimental System Type            491 non-null    object\n",
      " 13  Author                              491 non-null    object\n",
      " 14  Publication Source                  491 non-null    object\n",
      " 15  Organism Interactor A               491 non-null    int64 \n",
      " 16  Organism Interactor B               491 non-null    int64 \n",
      " 17  Throughput                          491 non-null    object\n",
      " 18  Score                               491 non-null    object\n",
      " 19  Modification                        491 non-null    object\n",
      " 20  Qualifications                      491 non-null    object\n",
      " 21  Tags                                491 non-null    object\n",
      " 22  Source Database                     491 non-null    object\n",
      " 23  SWISS-PROT Accessions Interactor A  491 non-null    object\n",
      " 24  TREMBL Accessions Interactor A      491 non-null    object\n",
      " 25  REFSEQ Accessions Interactor A      490 non-null    object\n",
      " 26  SWISS-PROT Accessions Interactor B  491 non-null    object\n",
      " 27  TREMBL Accessions Interactor B      491 non-null    object\n",
      " 28  REFSEQ Accessions Interactor B      491 non-null    object\n",
      " 29  Ontology Term IDs                   491 non-null    object\n",
      " 30  Ontology Term Names                 491 non-null    object\n",
      " 31  Ontology Term Categories            491 non-null    object\n",
      " 32  Ontology Term Qualifier IDs         491 non-null    object\n",
      " 33  Ontology Term Qualifier Names       491 non-null    object\n",
      " 34  Ontology Term Types                 491 non-null    object\n",
      "dtypes: int64(6), object(29)\n",
      "memory usage: 134.4+ KB\n"
     ]
    }
   ],
   "source": [
    "# data downloaded from  https://thebiogrid.org/news/227 on april 19\n",
    "\n",
    "import pandas as pd\n",
    "\n",
    "biogrid = pd.read_csv(\"../data/BIOGRID-CORONAVIRUS-3.5.184.tab3.txt\", sep = \"\\t\")\n",
    "biogrid.info()\n"
   ]
  },
  {
   "cell_type": "code",
   "execution_count": 2,
   "metadata": {},
   "outputs": [],
   "source": [
    "# From these columns, we can select only the ones we can move to Wikidata.\n",
    "\n",
    "columns_to_keep = [\"Official Symbol Interactor A\",\n",
    "\"Official Symbol Interactor B\",\n",
    "\"Experimental System\",\n",
    "\"Experimental System Type\", \n",
    "\"Author\",\n",
    "\"Publication Source\",\n",
    "\"Organism Interactor A\", \n",
    "\"Organism Interactor B\",\n",
    "\"Source Database\" ]\n",
    "\n",
    "biogrid_tiny = biogrid[columns_to_keep]"
   ]
  },
  {
   "cell_type": "markdown",
   "metadata": {},
   "source": [
    "Official Symbols + organism => Identification of interacting proteins on Wikidata. \n",
    "\n",
    "Publication Source\t=> Parse and use to find reference on Wikidata. If not on Wikidata, add reference. Reference will be added alongside BioGrid reference\n",
    "\n",
    "Experimental system => Reconcile and match using property determination method (P459);\n",
    "\n",
    "stated in Q4914619 (BioGRID)\n",
    "retrieved today\n",
    "reference URL\n",
    "\n",
    "Filter by experimental system type = \"physical\".\n",
    "\n"
   ]
  },
  {
   "cell_type": "code",
   "execution_count": 3,
   "metadata": {},
   "outputs": [
    {
     "name": "stdout",
     "output_type": "stream",
     "text": [
      "{9606: 'Q15978631', 10090: 'Q83310', 1335626: 'Q4902157', 10029: 'Q2539773', 694009: 'Q278567', 2697049: 'Q82069695'}\n"
     ]
    }
   ],
   "source": [
    "%run ../../wikidata_parser.py\n",
    "ncbi_ids = set(biogrid_tiny[\"Organism Interactor A\"])\n",
    "\n",
    "ncbi_to_wikidata = {}\n",
    "\n",
    "for ncbi_id in ncbi_ids:\n",
    "    ncbi_to_wikidata[ncbi_id] = get_wikidata_items_for_property_value_pair('P685', ncbi_id)[0]\n",
    "\n",
    "print(ncbi_to_wikidata)"
   ]
  },
  {
   "cell_type": "code",
   "execution_count": 4,
   "metadata": {},
   "outputs": [],
   "source": [
    "biogrid_tiny.to_csv(\"../intermediate/biogrid_tiny.csv\")"
   ]
  },
  {
   "cell_type": "code",
   "execution_count": 74,
   "metadata": {},
   "outputs": [],
   "source": [
    "# lets start with only SARS-CoV-2 -- Human interactions from the Gordon et an paper\n",
    "# Printing to reconcile via open refine. \n",
    "# Not all of these proteins were previously on UniProt. Let's look\n",
    "biogrid_gordon = biogrid_tiny[biogrid_tiny[\"Author\"] == \"Gordon DE (2020)\"]\n"
   ]
  },
  {
   "cell_type": "code",
   "execution_count": 75,
   "metadata": {},
   "outputs": [
    {
     "name": "stdout",
     "output_type": "stream",
     "text": [
      "nsp15\n",
      "nsp11\n",
      "S\n",
      "ORF9b\n",
      "nsp1\n",
      "ORF6\n",
      "ORF3a\n",
      "nsp4\n",
      "ORF9c\n",
      "N\n",
      "nsp6\n",
      "ORF3b\n",
      "nsp2\n",
      "nsp14\n",
      "nsp7\n",
      "nsp13\n",
      "ORF7a\n",
      "ORF10\n",
      "nsp9\n",
      "E\n",
      "nsp8\n",
      "ORF8\n",
      "nsp12\n",
      "M\n",
      "nsp10\n",
      "nsp5\n"
     ]
    }
   ],
   "source": [
    "for i in set(biogrid_gordon[\"Official Symbol Interactor A\"]):\n",
    "    print(i)"
   ]
  },
  {
   "cell_type": "code",
   "execution_count": 76,
   "metadata": {},
   "outputs": [],
   "source": [
    "reference_ids_sars = pd.read_csv(\"protein_wikidata_dictionary.csv\")\n",
    "biogrid_gordon = biogrid_gordon.merge(reference_ids_sars, on= \"Official Symbol Interactor A\", how = \"left\")"
   ]
  },
  {
   "cell_type": "code",
   "execution_count": 93,
   "metadata": {},
   "outputs": [
    {
     "data": {
      "text/html": [
       "<div>\n",
       "<style scoped>\n",
       "    .dataframe tbody tr th:only-of-type {\n",
       "        vertical-align: middle;\n",
       "    }\n",
       "\n",
       "    .dataframe tbody tr th {\n",
       "        vertical-align: top;\n",
       "    }\n",
       "\n",
       "    .dataframe thead th {\n",
       "        text-align: right;\n",
       "    }\n",
       "</style>\n",
       "<table border=\"1\" class=\"dataframe\">\n",
       "  <thead>\n",
       "    <tr style=\"text-align: right;\">\n",
       "      <th></th>\n",
       "      <th>Official Symbol Interactor A</th>\n",
       "      <th>Official Symbol Interactor B</th>\n",
       "      <th>Experimental System</th>\n",
       "      <th>Experimental System Type</th>\n",
       "      <th>Author</th>\n",
       "      <th>Publication Source</th>\n",
       "      <th>Organism Interactor A</th>\n",
       "      <th>Organism Interactor B</th>\n",
       "      <th>Source Database</th>\n",
       "      <th>Column 1</th>\n",
       "      <th>qid_sarscov2</th>\n",
       "      <th>taxon</th>\n",
       "      <th>genesymbol</th>\n",
       "      <th>encoded_protein</th>\n",
       "      <th>encoded_proteinLabel</th>\n",
       "    </tr>\n",
       "  </thead>\n",
       "  <tbody>\n",
       "    <tr>\n",
       "      <th>0</th>\n",
       "      <td>E</td>\n",
       "      <td>AP3B1</td>\n",
       "      <td>Affinity Capture-MS</td>\n",
       "      <td>physical</td>\n",
       "      <td>Gordon DE (2020)</td>\n",
       "      <td>DOI:10.1101/2020.03.22.002386</td>\n",
       "      <td>2697049</td>\n",
       "      <td>9606</td>\n",
       "      <td>BIOGRID</td>\n",
       "      <td>envelope protein [SARS-CoV-2]</td>\n",
       "      <td>Q88655710</td>\n",
       "      <td>Q82069695</td>\n",
       "      <td>AP3B1</td>\n",
       "      <td>Q21106367</td>\n",
       "      <td>Adaptor related protein complex 3 subunit beta 1</td>\n",
       "    </tr>\n",
       "    <tr>\n",
       "      <th>1</th>\n",
       "      <td>E</td>\n",
       "      <td>BRD4</td>\n",
       "      <td>Affinity Capture-MS</td>\n",
       "      <td>physical</td>\n",
       "      <td>Gordon DE (2020)</td>\n",
       "      <td>DOI:10.1101/2020.03.22.002386</td>\n",
       "      <td>2697049</td>\n",
       "      <td>9606</td>\n",
       "      <td>BIOGRID</td>\n",
       "      <td>envelope protein [SARS-CoV-2]</td>\n",
       "      <td>Q88655710</td>\n",
       "      <td>Q82069695</td>\n",
       "      <td>BRD4</td>\n",
       "      <td>Q21100441</td>\n",
       "      <td>Bromodomain containing 4</td>\n",
       "    </tr>\n",
       "    <tr>\n",
       "      <th>2</th>\n",
       "      <td>E</td>\n",
       "      <td>BRD2</td>\n",
       "      <td>Affinity Capture-MS</td>\n",
       "      <td>physical</td>\n",
       "      <td>Gordon DE (2020)</td>\n",
       "      <td>DOI:10.1101/2020.03.22.002386</td>\n",
       "      <td>2697049</td>\n",
       "      <td>9606</td>\n",
       "      <td>BIOGRID</td>\n",
       "      <td>envelope protein [SARS-CoV-2]</td>\n",
       "      <td>Q88655710</td>\n",
       "      <td>Q82069695</td>\n",
       "      <td>BRD2</td>\n",
       "      <td>Q21100450</td>\n",
       "      <td>Bromodomain containing 2</td>\n",
       "    </tr>\n",
       "    <tr>\n",
       "      <th>3</th>\n",
       "      <td>E</td>\n",
       "      <td>CWC27</td>\n",
       "      <td>Affinity Capture-MS</td>\n",
       "      <td>physical</td>\n",
       "      <td>Gordon DE (2020)</td>\n",
       "      <td>DOI:10.1101/2020.03.22.002386</td>\n",
       "      <td>2697049</td>\n",
       "      <td>9606</td>\n",
       "      <td>BIOGRID</td>\n",
       "      <td>envelope protein [SARS-CoV-2]</td>\n",
       "      <td>Q88655710</td>\n",
       "      <td>Q82069695</td>\n",
       "      <td>CWC27</td>\n",
       "      <td>Q21108518</td>\n",
       "      <td>CWC27 spliceosome associated cyclophilin</td>\n",
       "    </tr>\n",
       "    <tr>\n",
       "      <th>4</th>\n",
       "      <td>E</td>\n",
       "      <td>ZC3H18</td>\n",
       "      <td>Affinity Capture-MS</td>\n",
       "      <td>physical</td>\n",
       "      <td>Gordon DE (2020)</td>\n",
       "      <td>DOI:10.1101/2020.03.22.002386</td>\n",
       "      <td>2697049</td>\n",
       "      <td>9606</td>\n",
       "      <td>BIOGRID</td>\n",
       "      <td>envelope protein [SARS-CoV-2]</td>\n",
       "      <td>Q88655710</td>\n",
       "      <td>Q82069695</td>\n",
       "      <td>ZC3H18</td>\n",
       "      <td>Q21134430</td>\n",
       "      <td>Zinc finger CCCH-type containing 18</td>\n",
       "    </tr>\n",
       "  </tbody>\n",
       "</table>\n",
       "</div>"
      ],
      "text/plain": [
       "  Official Symbol Interactor A Official Symbol Interactor B  \\\n",
       "0                            E                        AP3B1   \n",
       "1                            E                         BRD4   \n",
       "2                            E                         BRD2   \n",
       "3                            E                        CWC27   \n",
       "4                            E                       ZC3H18   \n",
       "\n",
       "   Experimental System Experimental System Type            Author  \\\n",
       "0  Affinity Capture-MS                 physical  Gordon DE (2020)   \n",
       "1  Affinity Capture-MS                 physical  Gordon DE (2020)   \n",
       "2  Affinity Capture-MS                 physical  Gordon DE (2020)   \n",
       "3  Affinity Capture-MS                 physical  Gordon DE (2020)   \n",
       "4  Affinity Capture-MS                 physical  Gordon DE (2020)   \n",
       "\n",
       "              Publication Source  Organism Interactor A  \\\n",
       "0  DOI:10.1101/2020.03.22.002386                2697049   \n",
       "1  DOI:10.1101/2020.03.22.002386                2697049   \n",
       "2  DOI:10.1101/2020.03.22.002386                2697049   \n",
       "3  DOI:10.1101/2020.03.22.002386                2697049   \n",
       "4  DOI:10.1101/2020.03.22.002386                2697049   \n",
       "\n",
       "   Organism Interactor B Source Database                       Column 1  \\\n",
       "0                   9606         BIOGRID  envelope protein [SARS-CoV-2]   \n",
       "1                   9606         BIOGRID  envelope protein [SARS-CoV-2]   \n",
       "2                   9606         BIOGRID  envelope protein [SARS-CoV-2]   \n",
       "3                   9606         BIOGRID  envelope protein [SARS-CoV-2]   \n",
       "4                   9606         BIOGRID  envelope protein [SARS-CoV-2]   \n",
       "\n",
       "  qid_sarscov2      taxon genesymbol encoded_protein  \\\n",
       "0    Q88655710  Q82069695      AP3B1       Q21106367   \n",
       "1    Q88655710  Q82069695       BRD4       Q21100441   \n",
       "2    Q88655710  Q82069695       BRD2       Q21100450   \n",
       "3    Q88655710  Q82069695      CWC27       Q21108518   \n",
       "4    Q88655710  Q82069695     ZC3H18       Q21134430   \n",
       "\n",
       "                               encoded_proteinLabel  \n",
       "0  Adaptor related protein complex 3 subunit beta 1  \n",
       "1                          Bromodomain containing 4  \n",
       "2                          Bromodomain containing 2  \n",
       "3          CWC27 spliceosome associated cyclophilin  \n",
       "4               Zinc finger CCCH-type containing 18  "
      ]
     },
     "execution_count": 93,
     "metadata": {},
     "output_type": "execute_result"
    }
   ],
   "source": [
    "biogrid_gordon = biogrid_gordon.dropna()\n",
    "biogrid_gordon.head()"
   ]
  },
  {
   "cell_type": "code",
   "execution_count": 78,
   "metadata": {},
   "outputs": [
    {
     "name": "stdout",
     "output_type": "stream",
     "text": [
      "Affinity Capture-MS\n"
     ]
    }
   ],
   "source": [
    "for i in set(biogrid_gordon[\"Experimental System\"]):\n",
    "    print(i)"
   ]
  },
  {
   "cell_type": "code",
   "execution_count": 79,
   "metadata": {},
   "outputs": [],
   "source": [
    "reference_ids_humans = pd.read_csv(\"hgnc_to_protein_qid.csv\").drop_duplicates()\n",
    "\n",
    "reference_ids_humans[\"encoded_protein\"] = [item.split(\"/\")[4] for item in reference_ids_humans[\"encoded_protein\"]]\n",
    "\n",
    "biogrid_gordon = biogrid_gordon.merge(reference_ids_humans, left_on= \"Official Symbol Interactor B\", right_on=\"genesymbol\", how = \"left\")"
   ]
  },
  {
   "cell_type": "code",
   "execution_count": 81,
   "metadata": {},
   "outputs": [
    {
     "name": "stdout",
     "output_type": "stream",
     "text": [
      "<class 'pandas.core.frame.DataFrame'>\n",
      "Int64Index: 257 entries, 0 to 256\n",
      "Data columns (total 15 columns):\n",
      " #   Column                        Non-Null Count  Dtype \n",
      "---  ------                        --------------  ----- \n",
      " 0   Official Symbol Interactor A  257 non-null    object\n",
      " 1   Official Symbol Interactor B  257 non-null    object\n",
      " 2   Experimental System           257 non-null    object\n",
      " 3   Experimental System Type      257 non-null    object\n",
      " 4   Author                        257 non-null    object\n",
      " 5   Publication Source            257 non-null    object\n",
      " 6   Organism Interactor A         257 non-null    int64 \n",
      " 7   Organism Interactor B         257 non-null    int64 \n",
      " 8   Source Database               257 non-null    object\n",
      " 9   Column 1                      257 non-null    object\n",
      " 10  qid_sarscov2                  257 non-null    object\n",
      " 11  taxon                         257 non-null    object\n",
      " 12  genesymbol                    244 non-null    object\n",
      " 13  encoded_protein               244 non-null    object\n",
      " 14  encoded_proteinLabel          244 non-null    object\n",
      "dtypes: int64(2), object(13)\n",
      "memory usage: 32.1+ KB\n"
     ]
    }
   ],
   "source": [
    "biogrid_gordon.info()"
   ]
  },
  {
   "cell_type": "code",
   "execution_count": 98,
   "metadata": {},
   "outputs": [],
   "source": [
    "import datetime\n",
    "from datetime import date, timedelta\n",
    "\n",
    "today = date.today()\n",
    "today_in_wikidata_format = today.strftime(\"+%Y-%m-%dT00:00:00Z/11\")\n",
    "\n",
    "\n",
    "determination_method = \"|P459|\" + \"Q91149819\"\n",
    "stated_in = \"|S248|\" + \"Q4914619\" #BioGRID\n",
    "stated_in = \"|S248|\" + \"Q87917582\" # A SARS-CoV-2-Human Protein-Protein Interaction Map Reveals Drug Targets and Potential Drug-Repurposing\n",
    "reference_url = \"|S854|\" + '\"https://thebiogrid.org/news/227\"' + \"|S813|\" + today_in_wikidata_format\n",
    "\n",
    "f= open(\"gordon_qs.txt\",\"w+\") \n",
    "\n",
    "for index, row in biogrid_gordon.iterrows():\n",
    "    sars_protein_qid = row[\"qid_sarscov2\"]\n",
    "    human_protein_qid = row[\"encoded_protein\"]\n",
    "    \n",
    "    quickstatements_commands = sars_qid + \"|P129|\" + human_protein_qid + determination_method + reference_url +  stated_in + \"\\n\" +     human_protein_qid + \"|P129|\" + sars_qid + determination_method + reference_url +  stated_in + \"\\n\"\n",
    "    \n",
    "    f.write(quickstatements_commands)"
   ]
  },
  {
   "cell_type": "code",
   "execution_count": null,
   "metadata": {},
   "outputs": [],
   "source": []
  }
 ],
 "metadata": {
  "kernelspec": {
   "display_name": "Python 3",
   "language": "python",
   "name": "python3"
  },
  "language_info": {
   "codemirror_mode": {
    "name": "ipython",
    "version": 3
   },
   "file_extension": ".py",
   "mimetype": "text/x-python",
   "name": "python",
   "nbconvert_exporter": "python",
   "pygments_lexer": "ipython3",
   "version": "3.6.9"
  }
 },
 "nbformat": 4,
 "nbformat_minor": 4
}
