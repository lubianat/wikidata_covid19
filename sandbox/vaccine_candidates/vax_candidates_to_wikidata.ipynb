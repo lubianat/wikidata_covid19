{
 "cells": [
  {
   "cell_type": "markdown",
   "metadata": {},
   "source": [
    "In this script, we will reconcile the database [of Vaccine Candidates against COVID-19 of the Milken Institute](https://covid-19tracker.milkeninstitute.org/#about) to Wikidata.\n",
    "\n",
    "First, we will just check the info for a vaccine candidate already on Wikidata: [Ad5-nCoV](https://www.wikidata.org/wiki/Q96695265)\n"
   ]
  },
  {
   "cell_type": "code",
   "execution_count": 1,
   "metadata": {},
   "outputs": [],
   "source": [
    "import pandas as pd\n",
    "\n",
    "df = pd.read_csv(\"COVID-19 Tracker-Treatments and Vaccines.csv\")\n",
    "vax_df = df[df[\"Treatment vs. Vaccine\"] == \"Vaccine\"]\n",
    "\n",
    "vax_df_with_clinical_trials = vax_df.dropna(subset = [\"Clinical Trials for COVID-19\"])"
   ]
  },
  {
   "cell_type": "code",
   "execution_count": 2,
   "metadata": {},
   "outputs": [
    {
     "data": {
      "text/html": [
       "<div>\n",
       "<style scoped>\n",
       "    .dataframe tbody tr th:only-of-type {\n",
       "        vertical-align: middle;\n",
       "    }\n",
       "\n",
       "    .dataframe tbody tr th {\n",
       "        vertical-align: top;\n",
       "    }\n",
       "\n",
       "    .dataframe thead th {\n",
       "        text-align: right;\n",
       "    }\n",
       "</style>\n",
       "<table border=\"1\" class=\"dataframe\">\n",
       "  <thead>\n",
       "    <tr style=\"text-align: right;\">\n",
       "      <th></th>\n",
       "      <th>Developer / Researcher</th>\n",
       "      <th>Treatment vs. Vaccine</th>\n",
       "      <th>Product Category</th>\n",
       "      <th>Stage of Development</th>\n",
       "      <th>Anticipated Next Steps</th>\n",
       "      <th>Product Description</th>\n",
       "      <th>Clinical Trials for COVID-19</th>\n",
       "      <th>Funder</th>\n",
       "      <th>Published Results</th>\n",
       "      <th>Clinical Trials for Other Diseases (T only) / Related Use or Platform (V only)</th>\n",
       "      <th>FDA-Approved Indications</th>\n",
       "      <th>Sources</th>\n",
       "      <th>Date Last Updated</th>\n",
       "    </tr>\n",
       "  </thead>\n",
       "  <tbody>\n",
       "    <tr>\n",
       "      <th>300</th>\n",
       "      <td>CanSino Biologics/Beijing Institute of Biotech...</td>\n",
       "      <td>Vaccine</td>\n",
       "      <td>Non-replicating viral vector</td>\n",
       "      <td>Phase II</td>\n",
       "      <td>Approved for military use in China on June 25,...</td>\n",
       "      <td>Non-replicating viral vector; Adenovirus Type ...</td>\n",
       "      <td>NCT04313127 ChiCTR2000030906 ChiCTR2000031781 ...</td>\n",
       "      <td>Unknown</td>\n",
       "      <td>The Lancet (https://www.thelancet.com/journals...</td>\n",
       "      <td>Same platform as vaccine candidates for EBOV</td>\n",
       "      <td>NaN</td>\n",
       "      <td>https://docs.google.com/document/d/1Y4nCJJ4njz...</td>\n",
       "      <td>7/8/2020</td>\n",
       "    </tr>\n",
       "  </tbody>\n",
       "</table>\n",
       "</div>"
      ],
      "text/plain": [
       "                                Developer / Researcher Treatment vs. Vaccine  \\\n",
       "300  CanSino Biologics/Beijing Institute of Biotech...               Vaccine   \n",
       "\n",
       "                 Product Category Stage of Development  \\\n",
       "300  Non-replicating viral vector             Phase II   \n",
       "\n",
       "                                Anticipated Next Steps  \\\n",
       "300  Approved for military use in China on June 25,...   \n",
       "\n",
       "                                   Product Description  \\\n",
       "300  Non-replicating viral vector; Adenovirus Type ...   \n",
       "\n",
       "                          Clinical Trials for COVID-19   Funder  \\\n",
       "300  NCT04313127 ChiCTR2000030906 ChiCTR2000031781 ...  Unknown   \n",
       "\n",
       "                                     Published Results  \\\n",
       "300  The Lancet (https://www.thelancet.com/journals...   \n",
       "\n",
       "    Clinical Trials for Other Diseases (T only) / Related Use or Platform (V only)  \\\n",
       "300     Same platform as vaccine candidates for EBOV                                 \n",
       "\n",
       "    FDA-Approved Indications  \\\n",
       "300                      NaN   \n",
       "\n",
       "                                               Sources Date Last Updated  \n",
       "300  https://docs.google.com/document/d/1Y4nCJJ4njz...          7/8/2020  "
      ]
     },
     "execution_count": 2,
     "metadata": {},
     "output_type": "execute_result"
    }
   ],
   "source": [
    "ad5_row = vax_df_with_clinical_trials[vax_df_with_clinical_trials[\"Product Description\"] == 'Non-replicating viral vector; Adenovirus Type 5 vector (Ad5-nCoV)']\n",
    "ad5_row"
   ]
  },
  {
   "cell_type": "markdown",
   "metadata": {},
   "source": [
    "Now let's think about how to add the information to Wikidata. \n",
    "\n",
    "developer(P178)\n",
    "\n",
    "[vaccine for (P1924)](https://www.wikidata.org/wiki/Property:P1924)\n",
    "\n",
    "The product category is currently represented in \"instance of\" statements. In this case, it would be an instance of [adenovirus-based vaccine (Q96841548)](https://www.wikidata.org/wiki/Q96841548)\n",
    "\n",
    "Not sure how to link the vaccine to the clinical trials that describe them. The id properties are used for the clinical trial items themselves.\n",
    "[NCT id](https://www.wikidata.org/wiki/Property:P3098)\n",
    "[Chinese Clinical Trial Registry ID (P8064)](https://www.wikidata.org/wiki/Property:P8064)\n",
    "\n",
    "\n",
    "Probably adding the vaccine as a main subject of the clinical trial. \n",
    "\n",
    "Published results can be reconciled to wikidata items and added as [described by source(P1343)](https://www.wikidata.org/wiki/Property:P1343)\n",
    "\n",
    "\n"
   ]
  },
  {
   "cell_type": "code",
   "execution_count": 3,
   "metadata": {},
   "outputs": [],
   "source": [
    "import requests\n",
    "import time\n",
    "def get_first_wikidata_match(word_to_search):\n",
    "    time.sleep(0.3)\n",
    "    api_url = \"https://www.wikidata.org/w/api.php?action=wbsearchentities&language=en&search=\" + word_to_search + \"&format=json\"\n",
    "    search_result = requests.get(api_url)\n",
    "    \n",
    "    index_to_return = 0\n",
    "    try:\n",
    "        qid = search_result.json()[\"search\"][index_to_return][\"id\"]\n",
    "    except:\n",
    "        qid = \"Not found\"\n",
    "    return qid\n",
    "    "
   ]
  },
  {
   "cell_type": "code",
   "execution_count": 4,
   "metadata": {},
   "outputs": [
    {
     "name": "stdout",
     "output_type": "stream",
     "text": [
      "Q96695265|P178|Q91016085|S854|\"https://covid-19tracker.milkeninstitute.org/\"|S813|+2020-07-12T00:00:00Z/11\n",
      "Q96695265|P178|Not found|S854|\"https://covid-19tracker.milkeninstitute.org/\"|S813|+2020-07-12T00:00:00Z/11\n",
      "Q96695265|P178|Q1437507|S854|\"https://covid-19tracker.milkeninstitute.org/\"|S813|+2020-07-12T00:00:00Z/11\n"
     ]
    }
   ],
   "source": [
    "from datetime import datetime\n",
    "today = datetime.now()\n",
    "today_wikidata_format = today.strftime(\"+%Y-%m-%dT00:00:00Z/11\")\n",
    "\n",
    "ref_url = \"|S854|\" + '\"' + 'https://covid-19tracker.milkeninstitute.org/' + '\"'\n",
    "retrieved_in = \"|S813|\" + today_wikidata_format\n",
    "\n",
    "\n",
    "target_item = \"Q96695265\"\n",
    "\n",
    "for index, row in ad5_row.iterrows():\n",
    "    devs = row[\"Developer / Researcher\"].split(\"/\")\n",
    "    for dev in devs:\n",
    "        qid_dev = get_first_wikidata_match(dev)\n",
    "        \n",
    "        developer = \"|P178|\" + qid_dev \n",
    "        \n",
    "        \n",
    "        \n",
    "        \n",
    "        \n",
    "        \n",
    "        print(target_item + developer + ref_url + retrieved_in ) "
   ]
  },
  {
   "cell_type": "markdown",
   "metadata": {},
   "source": [
    "Only one of the candidates with trials actually have an article as a describing source. This will be added manually:"
   ]
  },
  {
   "cell_type": "code",
   "execution_count": 5,
   "metadata": {},
   "outputs": [
    {
     "name": "stdout",
     "output_type": "stream",
     "text": [
      "Q96695265|P1343|Q95818623|S854|\"https://covid-19tracker.milkeninstitute.org/\"|S813|+2020-07-12T00:00:00Z/11\n"
     ]
    }
   ],
   "source": [
    "print(\"Q96695265|P1343|Q95818623\"+ ref_url + retrieved_in)"
   ]
  },
  {
   "cell_type": "markdown",
   "metadata": {},
   "source": [
    "Let's add new items with:\n",
    "\n",
    "* vaccine for covid-19 (|P1924|Q84263196)\n",
    "* instance of a candidate vaccine (|P31|Q28051899)\n",
    "* instace of whatever type of vaccine that is "
   ]
  },
  {
   "cell_type": "code",
   "execution_count": 6,
   "metadata": {},
   "outputs": [
    {
     "name": "stderr",
     "output_type": "stream",
     "text": [
      "/home/lubianat/.local/lib/python3.6/site-packages/ipykernel_launcher.py:11: SettingWithCopyWarning: \n",
      "A value is trying to be set on a copy of a slice from a DataFrame.\n",
      "Try using .loc[row_indexer,col_indexer] = value instead\n",
      "\n",
      "See the caveats in the documentation: https://pandas.pydata.org/pandas-docs/stable/user_guide/indexing.html#returning-a-view-versus-a-copy\n",
      "  # This is added back by InteractiveShellApp.init_path()\n"
     ]
    }
   ],
   "source": [
    "vax_category_to_wikidata = {\n",
    "    \"DNA-based\" : \"Q578537\",\n",
    "    \"Inactivated virus\": \"Q3560939\",\n",
    "    \"Non-replicating viral vector\": \"Q96841548\",\n",
    "    \"Protein subunit\":\"Q97153933\",\n",
    "    \"RNA-based vaccine\":\"Q97153934\",\n",
    "    \"Virus-like particle\":\"Q58623657\"  \n",
    "}\n",
    "\n",
    "vax_category_to_wikidata\n",
    "vax_df_with_clinical_trials[\"wd_category\"]=vax_df_with_clinical_trials[\"Product Category\"].map(vax_category_to_wikidata)\n"
   ]
  },
  {
   "cell_type": "code",
   "execution_count": 7,
   "metadata": {},
   "outputs": [
    {
     "name": "stderr",
     "output_type": "stream",
     "text": [
      "/home/lubianat/.local/lib/python3.6/site-packages/ipykernel_launcher.py:5: SettingWithCopyWarning: \n",
      "A value is trying to be set on a copy of a slice from a DataFrame.\n",
      "Try using .loc[row_indexer,col_indexer] = value instead\n",
      "\n",
      "See the caveats in the documentation: https://pandas.pydata.org/pandas-docs/stable/user_guide/indexing.html#returning-a-view-versus-a-copy\n",
      "  \"\"\"\n"
     ]
    },
    {
     "data": {
      "text/plain": [
       "array(['Inovio Pharmaceuticals COVID-19 vaccine candidate',\n",
       "       'Zydus Cadila Healthcare Limited  COVID-19 vaccine candidate',\n",
       "       'Osaka University COVID-19 vaccine candidate',\n",
       "       'Genexine Consortium (GenNBio COVID-19 vaccine candidate',\n",
       "       'Beijing Institute of Biological Products COVID-19 vaccine candidate',\n",
       "       'Wuhan Institute of Biological Products COVID-19 vaccine candidate',\n",
       "       'Institute of Medical Biology COVID-19 vaccine candidate',\n",
       "       'Sinovac COVID-19 vaccine candidate',\n",
       "       'CanSino Biologics COVID-19 vaccine candidate',\n",
       "       'Consortium of the Jenner Institute COVID-19 vaccine candidate',\n",
       "       'Gamaleya  Research Institute COVID-19 vaccine candidate',\n",
       "       'Novavax COVID-19 vaccine candidate',\n",
       "       'Vaxine Pty Ltd COVID-19 vaccine candidate',\n",
       "       'Anhui Zhifei Longcom Biopharmaceutical COVID-19 vaccine candidate',\n",
       "       'Clover Biopharmaceuticals Inc. COVID-19 vaccine candidate',\n",
       "       'Moderna COVID-19 vaccine candidate',\n",
       "       'CureVac COVID-19 vaccine candidate',\n",
       "       'Imperial College London COVID-19 vaccine candidate',\n",
       "       'BioNTech COVID-19 vaccine candidate',\n",
       "       \"People's Liberation Army (PLA) Academy of Military Sciences COVID-19 vaccine candidate\",\n",
       "       'Medicago Inc. COVID-19 vaccine candidate',\n",
       "       'Shenzhen Geno-Immune Medical Institute COVID-19 vaccine candidate',\n",
       "       'Shenzhen Geno-Immune Medical Institute COVID-19 vaccine candidate'],\n",
       "      dtype=object)"
      ]
     },
     "execution_count": 7,
     "metadata": {},
     "output_type": "execute_result"
    }
   ],
   "source": [
    "devs = [dev.replace(\",\", \"/\") for dev in vax_df_with_clinical_trials[\"Developer / Researcher\"]]\n",
    "\n",
    "devs = [dev.split(\"/\")[0] for dev in devs]\n",
    "\n",
    "vax_df_with_clinical_trials[\"wd_enlabel\"] = [dev + \" COVID-19 vaccine candidate\" for dev in devs]\n",
    "vax_df_with_clinical_trials[\"wd_enlabel\"].values"
   ]
  },
  {
   "cell_type": "markdown",
   "metadata": {},
   "source": [
    "A few these were already on Wikidata. Let's make it clear which ones."
   ]
  },
  {
   "cell_type": "code",
   "execution_count": 8,
   "metadata": {},
   "outputs": [],
   "source": [
    "vax_in_wikidata = ['Moderna COVID-19 vaccine candidate',\n",
    "                   \"Consortium of the Jenner Institute COVID-19 vaccine candidate\", \n",
    "                   \"Inovio Pharmaceuticals COVID-19 vaccine candidate\",\n",
    "                   \"CanSino Biologics COVID-19 vaccine candidate\" ]"
   ]
  },
  {
   "cell_type": "code",
   "execution_count": 19,
   "metadata": {},
   "outputs": [
    {
     "name": "stdout",
     "output_type": "stream",
     "text": [
      "Zydus Cadila Healthcare Limited  COVID-19 vaccine candidate\n",
      "Osaka University COVID-19 vaccine candidate\n",
      "Genexine Consortium (GenNBio COVID-19 vaccine candidate\n",
      "Beijing Institute of Biological Products COVID-19 vaccine candidate\n",
      "Wuhan Institute of Biological Products COVID-19 vaccine candidate\n",
      "Institute of Medical Biology COVID-19 vaccine candidate\n",
      "Sinovac COVID-19 vaccine candidate\n",
      "Gamaleya  Research Institute COVID-19 vaccine candidate\n",
      "Novavax COVID-19 vaccine candidate\n",
      "Vaxine Pty Ltd COVID-19 vaccine candidate\n",
      "Anhui Zhifei Longcom Biopharmaceutical COVID-19 vaccine candidate\n",
      "Clover Biopharmaceuticals Inc. COVID-19 vaccine candidate\n",
      "CureVac COVID-19 vaccine candidate\n",
      "Imperial College London COVID-19 vaccine candidate\n",
      "BioNTech COVID-19 vaccine candidate\n",
      "People's Liberation Army (PLA) Academy of Military Sciences COVID-19 vaccine candidate\n",
      "Medicago Inc. COVID-19 vaccine candidate\n",
      "Shenzhen Geno-Immune Medical Institute COVID-19 vaccine candidate\n"
     ]
    },
    {
     "ename": "TypeError",
     "evalue": "must be str, not float",
     "output_type": "error",
     "traceback": [
      "\u001b[0;31m----------------------------------------------------\u001b[0m",
      "\u001b[0;31mTypeError\u001b[0m          Traceback (most recent call last)",
      "\u001b[0;32m<ipython-input-19-77bf60483fc4>\u001b[0m in \u001b[0;36m<module>\u001b[0;34m\u001b[0m\n\u001b[1;32m     21\u001b[0m \u001b[0;34m\u001b[0m\u001b[0m\n\u001b[1;32m     22\u001b[0m             \u001b[0mvax_category\u001b[0m \u001b[0;34m=\u001b[0m \u001b[0mrow\u001b[0m\u001b[0;34m[\u001b[0m\u001b[0;34m\"wd_category\"\u001b[0m\u001b[0;34m]\u001b[0m\u001b[0;34m\u001b[0m\u001b[0;34m\u001b[0m\u001b[0m\n\u001b[0;32m---> 23\u001b[0;31m             \u001b[0minstance_of_category_qs\u001b[0m \u001b[0;34m=\u001b[0m \u001b[0;34m\"LAST\"\u001b[0m \u001b[0;34m+\u001b[0m \u001b[0;34m\"|P31|\"\u001b[0m \u001b[0;34m+\u001b[0m \u001b[0mvax_category\u001b[0m \u001b[0;34m+\u001b[0m \u001b[0mrefs\u001b[0m\u001b[0;34m\u001b[0m\u001b[0;34m\u001b[0m\u001b[0m\n\u001b[0m\u001b[1;32m     24\u001b[0m \u001b[0;34m\u001b[0m\u001b[0m\n\u001b[1;32m     25\u001b[0m             \u001b[0men_label_qs\u001b[0m \u001b[0;34m=\u001b[0m \u001b[0;34m\"LAST\"\u001b[0m \u001b[0;34m+\u001b[0m \u001b[0;34m\"|Len|\"\u001b[0m \u001b[0;34m+\u001b[0m \u001b[0;34m'\"'\u001b[0m \u001b[0;34m+\u001b[0m \u001b[0mrow\u001b[0m\u001b[0;34m[\u001b[0m\u001b[0;34m\"wd_enlabel\"\u001b[0m\u001b[0;34m]\u001b[0m \u001b[0;34m+\u001b[0m \u001b[0;34m'\"'\u001b[0m\u001b[0;34m\u001b[0m\u001b[0;34m\u001b[0m\u001b[0m\n",
      "\u001b[0;31mTypeError\u001b[0m: must be str, not float"
     ]
    }
   ],
   "source": [
    "'''\n",
    "Print QuickStastaements for he creation of new items about vaccines\n",
    "'''\n",
    "\n",
    "with open(\"vax_with_clinical_trial.qs\", \"w+\") as f:\n",
    "    from datetime import datetime\n",
    "    today = datetime.now()\n",
    "    today_wikidata_format = today.strftime(\"+%Y-%m-%dT00:00:00Z/11\")\n",
    "\n",
    "    ref_url = \"|S854|\" + '\"' + 'https://covid-19tracker.milkeninstitute.org/' + '\"'\n",
    "    retrieved_in = \"|S813|\" + today_wikidata_format\n",
    "\n",
    "\n",
    "    for index,row in vax_df_with_clinical_trials.iterrows():\n",
    "        if row[\"wd_enlabel\"] not in vax_in_wikidata:\n",
    "            print( row[\"wd_enlabel\"] )\n",
    "\n",
    "            refs = ref_url + retrieved_in \n",
    "\n",
    "            instance_of_candidate_qs = \"LAST\" + \"|P31|\" + \"Q28051899\" + refs\n",
    "\n",
    "            vax_category = row[\"wd_category\"]\n",
    "            instance_of_category_qs = \"LAST\" + \"|P31|\" + vax_category + refs\n",
    "\n",
    "            en_label_qs = \"LAST\" + \"|Len|\" + '\"' + row[\"wd_enlabel\"] + '\"'\n",
    "\n",
    "            en_description_qs  = \"LAST\" + \"|Den|\" + '\"' + \"candidate vaccine against COVID-19\" + '\"'\n",
    "\n",
    "            vaccine_for_covid19_qs = \"LAST\" + \"|P1924|Q84263196\" + refs\n",
    "\n",
    "            f.write(\"CREATE\" + \"\\n\")\n",
    "            f.write(instance_of_candidate_qs + \"\\n\")\n",
    "            f.write(instance_of_category_qs + \"\\n\")\n",
    "            f.write(en_label_qs + \"\\n\")\n",
    "            f.write(vaccine_for_covid19_qs + \"\\n\")\n",
    "            f.write(en_description_qs + \"\\n\")\n",
    "\n",
    "            devs = row[\"Developer / Researcher\"].split(\"/\")\n",
    "            for dev in devs:\n",
    "                qid_dev = get_first_wikidata_match(dev)\n",
    "\n",
    "                if qid_dev !=\"Not found\":\n",
    "                    developer_qs =  \"LAST\" + \"|P178|\" + qid_dev + refs\n",
    "                    f.write(developer_qs + \"\\n\")\n",
    "\n",
    "f.close()\n",
    "\n",
    "        "
   ]
  },
  {
   "cell_type": "markdown",
   "metadata": {},
   "source": [
    "After adding the vaccines, the goal is to link the clinical trials to the vaccine items themselves."
   ]
  },
  {
   "cell_type": "code",
   "execution_count": 9,
   "metadata": {},
   "outputs": [],
   "source": [
    "wd_items = []\n",
    "\n",
    "\n",
    "for index,row in vax_df_with_clinical_trials.iterrows():\n",
    "    wd_items.append(get_first_wikidata_match(row[\"wd_enlabel\"]))"
   ]
  },
  {
   "cell_type": "code",
   "execution_count": 10,
   "metadata": {},
   "outputs": [
    {
     "name": "stderr",
     "output_type": "stream",
     "text": [
      "/home/lubianat/.local/lib/python3.6/site-packages/ipykernel_launcher.py:1: SettingWithCopyWarning: \n",
      "A value is trying to be set on a copy of a slice from a DataFrame.\n",
      "Try using .loc[row_indexer,col_indexer] = value instead\n",
      "\n",
      "See the caveats in the documentation: https://pandas.pydata.org/pandas-docs/stable/user_guide/indexing.html#returning-a-view-versus-a-copy\n",
      "  \"\"\"Entry point for launching an IPython kernel.\n"
     ]
    }
   ],
   "source": [
    "vax_df_with_clinical_trials[\"wd_items\"] = wd_items"
   ]
  },
  {
   "cell_type": "code",
   "execution_count": 11,
   "metadata": {},
   "outputs": [],
   "source": [
    "\n",
    "\n",
    "from SPARQLWrapper import SPARQLWrapper, JSON\n",
    "import pandas as pd\n",
    "\n",
    "def get_clinical_trial_item_from_nct(nct):\n",
    "\n",
    "    sparql = SPARQLWrapper(\"https://query.wikidata.org/sparql\")\n",
    "\n",
    "    sparql.setQuery(\"\"\"\n",
    "    SELECT ?item ?itemLabel\n",
    "    WHERE\n",
    "    {\n",
    "        ?item wdt:P3098\"\"\" + '\"' + nct + '\"' + \"\"\"\n",
    "        SERVICE wikibase:label { bd:serviceParam wikibase:language \"en\" }\n",
    "    }\n",
    "    \"\"\")\n",
    "\n",
    "\n",
    "    sparql.setReturnFormat(JSON)\n",
    "    \n",
    "    try:\n",
    "        results = sparql.query().convert()\n",
    "\n",
    "        results_df = pd.json_normalize(results['results']['bindings'])\n",
    "    \n",
    "        return results_df[[\"item.value\"]].values[0][0].split(\"/\")[4]\n",
    "    except:\n",
    "        return \"Not found\"\n"
   ]
  },
  {
   "cell_type": "code",
   "execution_count": 12,
   "metadata": {},
   "outputs": [
    {
     "name": "stdout",
     "output_type": "stream",
     "text": [
      "Q90693591|P4844|Q96695266|S854|\"https://covid-19tracker.milkeninstitute.org/\"|S813|+2020-07-12T00:00:00Z/11\n",
      "Q90693591|P921|Q96695266|S854|\"https://covid-19tracker.milkeninstitute.org/\"|S813|+2020-07-12T00:00:00Z/11\n",
      "Q96695266|P1343|Q90693591|S854|\"https://covid-19tracker.milkeninstitute.org/\"|S813|+2020-07-12T00:00:00Z/11\n",
      "Q97047732|P4844|Q96695266|S854|\"https://covid-19tracker.milkeninstitute.org/\"|S813|+2020-07-12T00:00:00Z/11\n",
      "Q97047732|P921|Q96695266|S854|\"https://covid-19tracker.milkeninstitute.org/\"|S813|+2020-07-12T00:00:00Z/11\n",
      "Q96695266|P1343|Q97047732|S854|\"https://covid-19tracker.milkeninstitute.org/\"|S813|+2020-07-12T00:00:00Z/11\n",
      "Q96055759|P4844|Q97154232|S854|\"https://covid-19tracker.milkeninstitute.org/\"|S813|+2020-07-12T00:00:00Z/11\n",
      "Q96055759|P921|Q97154232|S854|\"https://covid-19tracker.milkeninstitute.org/\"|S813|+2020-07-12T00:00:00Z/11\n",
      "Q97154232|P1343|Q96055759|S854|\"https://covid-19tracker.milkeninstitute.org/\"|S813|+2020-07-12T00:00:00Z/11\n",
      "Q92274099|P4844|Q97154233|S854|\"https://covid-19tracker.milkeninstitute.org/\"|S813|+2020-07-12T00:00:00Z/11\n",
      "Q92274099|P921|Q97154233|S854|\"https://covid-19tracker.milkeninstitute.org/\"|S813|+2020-07-12T00:00:00Z/11\n",
      "Q97154233|P1343|Q92274099|S854|\"https://covid-19tracker.milkeninstitute.org/\"|S813|+2020-07-12T00:00:00Z/11\n",
      "Q94234839|P4844|Q97154233|S854|\"https://covid-19tracker.milkeninstitute.org/\"|S813|+2020-07-12T00:00:00Z/11\n",
      "Q94234839|P921|Q97154233|S854|\"https://covid-19tracker.milkeninstitute.org/\"|S813|+2020-07-12T00:00:00Z/11\n",
      "Q97154233|P1343|Q94234839|S854|\"https://covid-19tracker.milkeninstitute.org/\"|S813|+2020-07-12T00:00:00Z/11\n",
      "Q87931195|P4844|Q96695265|S854|\"https://covid-19tracker.milkeninstitute.org/\"|S813|+2020-07-12T00:00:00Z/11\n",
      "Q87931195|P921|Q96695265|S854|\"https://covid-19tracker.milkeninstitute.org/\"|S813|+2020-07-12T00:00:00Z/11\n",
      "Q96695265|P1343|Q87931195|S854|\"https://covid-19tracker.milkeninstitute.org/\"|S813|+2020-07-12T00:00:00Z/11\n",
      "Q95056331|P4844|Q96695265|S854|\"https://covid-19tracker.milkeninstitute.org/\"|S813|+2020-07-12T00:00:00Z/11\n",
      "Q95056331|P921|Q96695265|S854|\"https://covid-19tracker.milkeninstitute.org/\"|S813|+2020-07-12T00:00:00Z/11\n",
      "Q96695265|P1343|Q95056331|S854|\"https://covid-19tracker.milkeninstitute.org/\"|S813|+2020-07-12T00:00:00Z/11\n",
      "Q89154124|P4844|Q95042269|S854|\"https://covid-19tracker.milkeninstitute.org/\"|S813|+2020-07-12T00:00:00Z/11\n",
      "Q89154124|P921|Q95042269|S854|\"https://covid-19tracker.milkeninstitute.org/\"|S813|+2020-07-12T00:00:00Z/11\n",
      "Q95042269|P1343|Q89154124|S854|\"https://covid-19tracker.milkeninstitute.org/\"|S813|+2020-07-12T00:00:00Z/11\n",
      "Q95718298|P4844|Q95042269|S854|\"https://covid-19tracker.milkeninstitute.org/\"|S813|+2020-07-12T00:00:00Z/11\n",
      "Q95718298|P921|Q95042269|S854|\"https://covid-19tracker.milkeninstitute.org/\"|S813|+2020-07-12T00:00:00Z/11\n",
      "Q95042269|P1343|Q95718298|S854|\"https://covid-19tracker.milkeninstitute.org/\"|S813|+2020-07-12T00:00:00Z/11\n",
      "Q97046521|P4844|Q97154234|S854|\"https://covid-19tracker.milkeninstitute.org/\"|S813|+2020-07-12T00:00:00Z/11\n",
      "Q97046521|P921|Q97154234|S854|\"https://covid-19tracker.milkeninstitute.org/\"|S813|+2020-07-12T00:00:00Z/11\n",
      "Q97154234|P1343|Q97046521|S854|\"https://covid-19tracker.milkeninstitute.org/\"|S813|+2020-07-12T00:00:00Z/11\n",
      "Q93328935|P4844|Q97154235|S854|\"https://covid-19tracker.milkeninstitute.org/\"|S813|+2020-07-12T00:00:00Z/11\n",
      "Q93328935|P921|Q97154235|S854|\"https://covid-19tracker.milkeninstitute.org/\"|S813|+2020-07-12T00:00:00Z/11\n",
      "Q97154235|P1343|Q93328935|S854|\"https://covid-19tracker.milkeninstitute.org/\"|S813|+2020-07-12T00:00:00Z/11\n",
      "Q95719835|P4844|Q97154238|S854|\"https://covid-19tracker.milkeninstitute.org/\"|S813|+2020-07-12T00:00:00Z/11\n",
      "Q95719835|P921|Q97154238|S854|\"https://covid-19tracker.milkeninstitute.org/\"|S813|+2020-07-12T00:00:00Z/11\n",
      "Q97154238|P1343|Q95719835|S854|\"https://covid-19tracker.milkeninstitute.org/\"|S813|+2020-07-12T00:00:00Z/11\n",
      "Q87775009|P4844|Q87775025|S854|\"https://covid-19tracker.milkeninstitute.org/\"|S813|+2020-07-12T00:00:00Z/11\n",
      "Q87775009|P921|Q87775025|S854|\"https://covid-19tracker.milkeninstitute.org/\"|S813|+2020-07-12T00:00:00Z/11\n",
      "Q87775025|P1343|Q87775009|S854|\"https://covid-19tracker.milkeninstitute.org/\"|S813|+2020-07-12T00:00:00Z/11\n",
      "Q95719961|P4844|Q87775025|S854|\"https://covid-19tracker.milkeninstitute.org/\"|S813|+2020-07-12T00:00:00Z/11\n",
      "Q95719961|P921|Q87775025|S854|\"https://covid-19tracker.milkeninstitute.org/\"|S813|+2020-07-12T00:00:00Z/11\n",
      "Q87775025|P1343|Q95719961|S854|\"https://covid-19tracker.milkeninstitute.org/\"|S813|+2020-07-12T00:00:00Z/11\n",
      "Q93328984|P4844|Q97154240|S854|\"https://covid-19tracker.milkeninstitute.org/\"|S813|+2020-07-12T00:00:00Z/11\n",
      "Q93328984|P921|Q97154240|S854|\"https://covid-19tracker.milkeninstitute.org/\"|S813|+2020-07-12T00:00:00Z/11\n",
      "Q97154240|P1343|Q93328984|S854|\"https://covid-19tracker.milkeninstitute.org/\"|S813|+2020-07-12T00:00:00Z/11\n",
      "Q87932554|P4844|Not found|S854|\"https://covid-19tracker.milkeninstitute.org/\"|S813|+2020-07-12T00:00:00Z/11\n",
      "Q87932554|P921|Not found|S854|\"https://covid-19tracker.milkeninstitute.org/\"|S813|+2020-07-12T00:00:00Z/11\n",
      "Not found|P1343|Q87932554|S854|\"https://covid-19tracker.milkeninstitute.org/\"|S813|+2020-07-12T00:00:00Z/11\n",
      "Q86293782|P4844|Not found|S854|\"https://covid-19tracker.milkeninstitute.org/\"|S813|+2020-07-12T00:00:00Z/11\n",
      "Q86293782|P921|Not found|S854|\"https://covid-19tracker.milkeninstitute.org/\"|S813|+2020-07-12T00:00:00Z/11\n",
      "Not found|P1343|Q86293782|S854|\"https://covid-19tracker.milkeninstitute.org/\"|S813|+2020-07-12T00:00:00Z/11\n"
     ]
    }
   ],
   "source": [
    "today = datetime.now()\n",
    "today_wikidata_format = today.strftime(\"+%Y-%m-%dT00:00:00Z/11\")\n",
    "\n",
    "ref_url = \"|S854|\" + '\"' + 'https://covid-19tracker.milkeninstitute.org/' + '\"'\n",
    "retrieved_in = \"|S813|\" + today_wikidata_format\n",
    "refs = ref_url + retrieved_in \n",
    "\n",
    "\n",
    "for index,row in vax_df_with_clinical_trials.iterrows():\n",
    "    ct = row[\"Clinical Trials for COVID-19\"]\n",
    "    \n",
    "    cts = ct.split(\" \")\n",
    "    \n",
    "    for ct in cts:\n",
    "        ct = ct.replace(\",\", \"\")\n",
    "        clinical_trial_item = get_clinical_trial_item_from_nct(ct)\n",
    "        \n",
    "        if clinical_trial_item != \"Not found\":\n",
    "            print( clinical_trial_item  + \"|P4844|\" + row[\"wd_items\"] + refs)\n",
    "            print( clinical_trial_item  + \"|P921|\" + row[\"wd_items\"] + refs)\n",
    "            print( row[\"wd_items\"]  + \"|P1343|\" +  clinical_trial_item + refs)\n",
    "\n"
   ]
  },
  {
   "cell_type": "code",
   "execution_count": 76,
   "metadata": {},
   "outputs": [
    {
     "data": {
      "text/html": [
       "<div>\n",
       "<style scoped>\n",
       "    .dataframe tbody tr th:only-of-type {\n",
       "        vertical-align: middle;\n",
       "    }\n",
       "\n",
       "    .dataframe tbody tr th {\n",
       "        vertical-align: top;\n",
       "    }\n",
       "\n",
       "    .dataframe thead th {\n",
       "        text-align: right;\n",
       "    }\n",
       "</style>\n",
       "<table border=\"1\" class=\"dataframe\">\n",
       "  <thead>\n",
       "    <tr style=\"text-align: right;\">\n",
       "      <th></th>\n",
       "      <th>wd_enlabel</th>\n",
       "      <th>wd_items</th>\n",
       "    </tr>\n",
       "  </thead>\n",
       "  <tbody>\n",
       "    <tr>\n",
       "      <th>266</th>\n",
       "      <td>Inovio Pharmaceuticals COVID-19 vaccine candidate</td>\n",
       "      <td>Not found</td>\n",
       "    </tr>\n",
       "    <tr>\n",
       "      <th>271</th>\n",
       "      <td>Zydus Cadila Healthcare Limited  COVID-19 vacc...</td>\n",
       "      <td>Q97154000</td>\n",
       "    </tr>\n",
       "    <tr>\n",
       "      <th>273</th>\n",
       "      <td>Osaka University COVID-19 vaccine candidate</td>\n",
       "      <td>Q97154226</td>\n",
       "    </tr>\n",
       "    <tr>\n",
       "      <th>274</th>\n",
       "      <td>Genexine Consortium (GenNBio COVID-19 vaccine ...</td>\n",
       "      <td>Q97154228</td>\n",
       "    </tr>\n",
       "    <tr>\n",
       "      <th>279</th>\n",
       "      <td>Beijing Institute of Biological Products COVID...</td>\n",
       "      <td>Q97154229</td>\n",
       "    </tr>\n",
       "    <tr>\n",
       "      <th>280</th>\n",
       "      <td>Wuhan Institute of Biological Products COVID-1...</td>\n",
       "      <td>Q97154230</td>\n",
       "    </tr>\n",
       "    <tr>\n",
       "      <th>282</th>\n",
       "      <td>Institute of Medical Biology COVID-19 vaccine ...</td>\n",
       "      <td>Q97154232</td>\n",
       "    </tr>\n",
       "    <tr>\n",
       "      <th>285</th>\n",
       "      <td>Sinovac COVID-19 vaccine candidate</td>\n",
       "      <td>Q97154233</td>\n",
       "    </tr>\n",
       "    <tr>\n",
       "      <th>300</th>\n",
       "      <td>CanSino Biologics COVID-19 vaccine candidate</td>\n",
       "      <td>Q96695265</td>\n",
       "    </tr>\n",
       "    <tr>\n",
       "      <th>309</th>\n",
       "      <td>Consortium of the Jenner Institute COVID-19 va...</td>\n",
       "      <td>Q95042269</td>\n",
       "    </tr>\n",
       "    <tr>\n",
       "      <th>313</th>\n",
       "      <td>Gamaleya  Research Institute COVID-19 vaccine ...</td>\n",
       "      <td>Q97154234</td>\n",
       "    </tr>\n",
       "    <tr>\n",
       "      <th>321</th>\n",
       "      <td>Novavax COVID-19 vaccine candidate</td>\n",
       "      <td>Q97154235</td>\n",
       "    </tr>\n",
       "    <tr>\n",
       "      <th>322</th>\n",
       "      <td>Vaxine Pty Ltd COVID-19 vaccine candidate</td>\n",
       "      <td>Q97154237</td>\n",
       "    </tr>\n",
       "    <tr>\n",
       "      <th>331</th>\n",
       "      <td>Anhui Zhifei Longcom Biopharmaceutical COVID-1...</td>\n",
       "      <td>Q97154236</td>\n",
       "    </tr>\n",
       "    <tr>\n",
       "      <th>346</th>\n",
       "      <td>Clover Biopharmaceuticals Inc. COVID-19 vaccin...</td>\n",
       "      <td>Q97154238</td>\n",
       "    </tr>\n",
       "    <tr>\n",
       "      <th>398</th>\n",
       "      <td>Moderna COVID-19 vaccine candidate</td>\n",
       "      <td>Q87775025</td>\n",
       "    </tr>\n",
       "    <tr>\n",
       "      <th>407</th>\n",
       "      <td>CureVac COVID-19 vaccine candidate</td>\n",
       "      <td>Q97154239</td>\n",
       "    </tr>\n",
       "    <tr>\n",
       "      <th>408</th>\n",
       "      <td>Imperial College London COVID-19 vaccine candi...</td>\n",
       "      <td>Q97154241</td>\n",
       "    </tr>\n",
       "    <tr>\n",
       "      <th>412</th>\n",
       "      <td>BioNTech COVID-19 vaccine candidate</td>\n",
       "      <td>Q97154240</td>\n",
       "    </tr>\n",
       "    <tr>\n",
       "      <th>419</th>\n",
       "      <td>People's Liberation Army (PLA) Academy of Mili...</td>\n",
       "      <td>Q97154242</td>\n",
       "    </tr>\n",
       "    <tr>\n",
       "      <th>421</th>\n",
       "      <td>Medicago Inc. COVID-19 vaccine candidate</td>\n",
       "      <td>Q97154243</td>\n",
       "    </tr>\n",
       "    <tr>\n",
       "      <th>438</th>\n",
       "      <td>Shenzhen Geno-Immune Medical Institute COVID-1...</td>\n",
       "      <td>Not found</td>\n",
       "    </tr>\n",
       "    <tr>\n",
       "      <th>441</th>\n",
       "      <td>Shenzhen Geno-Immune Medical Institute COVID-1...</td>\n",
       "      <td>Not found</td>\n",
       "    </tr>\n",
       "  </tbody>\n",
       "</table>\n",
       "</div>"
      ],
      "text/plain": [
       "                                            wd_enlabel   wd_items\n",
       "266  Inovio Pharmaceuticals COVID-19 vaccine candidate  Not found\n",
       "271  Zydus Cadila Healthcare Limited  COVID-19 vacc...  Q97154000\n",
       "273        Osaka University COVID-19 vaccine candidate  Q97154226\n",
       "274  Genexine Consortium (GenNBio COVID-19 vaccine ...  Q97154228\n",
       "279  Beijing Institute of Biological Products COVID...  Q97154229\n",
       "280  Wuhan Institute of Biological Products COVID-1...  Q97154230\n",
       "282  Institute of Medical Biology COVID-19 vaccine ...  Q97154232\n",
       "285                 Sinovac COVID-19 vaccine candidate  Q97154233\n",
       "300       CanSino Biologics COVID-19 vaccine candidate  Q96695265\n",
       "309  Consortium of the Jenner Institute COVID-19 va...  Q95042269\n",
       "313  Gamaleya  Research Institute COVID-19 vaccine ...  Q97154234\n",
       "321                 Novavax COVID-19 vaccine candidate  Q97154235\n",
       "322          Vaxine Pty Ltd COVID-19 vaccine candidate  Q97154237\n",
       "331  Anhui Zhifei Longcom Biopharmaceutical COVID-1...  Q97154236\n",
       "346  Clover Biopharmaceuticals Inc. COVID-19 vaccin...  Q97154238\n",
       "398                 Moderna COVID-19 vaccine candidate  Q87775025\n",
       "407                 CureVac COVID-19 vaccine candidate  Q97154239\n",
       "408  Imperial College London COVID-19 vaccine candi...  Q97154241\n",
       "412                BioNTech COVID-19 vaccine candidate  Q97154240\n",
       "419  People's Liberation Army (PLA) Academy of Mili...  Q97154242\n",
       "421           Medicago Inc. COVID-19 vaccine candidate  Q97154243\n",
       "438  Shenzhen Geno-Immune Medical Institute COVID-1...  Not found\n",
       "441  Shenzhen Geno-Immune Medical Institute COVID-1...  Not found"
      ]
     },
     "execution_count": 76,
     "metadata": {},
     "output_type": "execute_result"
    }
   ],
   "source": [
    "vax_df_with_clinical_trials[[\"wd_enlabel\", \"wd_items\"]]"
   ]
  },
  {
   "cell_type": "code",
   "execution_count": 67,
   "metadata": {},
   "outputs": [
    {
     "data": {
      "text/plain": [
       "'Q90693591'"
      ]
     },
     "execution_count": 67,
     "metadata": {},
     "output_type": "execute_result"
    }
   ],
   "source": []
  },
  {
   "cell_type": "code",
   "execution_count": null,
   "metadata": {},
   "outputs": [],
   "source": []
  }
 ],
 "metadata": {
  "kernelspec": {
   "display_name": "Python 3",
   "language": "python",
   "name": "python3"
  },
  "language_info": {
   "codemirror_mode": {
    "name": "ipython",
    "version": 3
   },
   "file_extension": ".py",
   "mimetype": "text/x-python",
   "name": "python",
   "nbconvert_exporter": "python",
   "pygments_lexer": "ipython3",
   "version": "3.6.9"
  }
 },
 "nbformat": 4,
 "nbformat_minor": 4
}
