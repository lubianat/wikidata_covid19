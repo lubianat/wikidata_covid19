{
 "cells": [
  {
   "cell_type": "markdown",
   "metadata": {},
   "source": [
    "In this script, we will reconcile the database [of Vaccine Candidates against COVID-19 of the Milken Institute](https://covid-19tracker.milkeninstitute.org/#about) to Wikidata.\n",
    "\n",
    "First, we will just check the info for a vaccine candidate already on Wikidata: [Ad5-nCoV](https://www.wikidata.org/wiki/Q96695265)\n"
   ]
  },
  {
   "cell_type": "code",
   "execution_count": 2,
   "metadata": {},
   "outputs": [],
   "source": [
    "import pandas as pd\n",
    "\n",
    "df = pd.read_csv(\"COVID-19 Tracker-Treatments and Vaccines.csv\")"
   ]
  },
  {
   "cell_type": "markdown",
   "metadata": {},
   "source": [
    "The database contains treatments and vaccines. For now, we are only interested in vaccine candidates. Let's filter."
   ]
  },
  {
   "cell_type": "code",
   "execution_count": 3,
   "metadata": {},
   "outputs": [],
   "source": [
    "vax_df = df[df[\"Treatment vs. Vaccine\"] == \"Vaccine\"]"
   ]
  },
  {
   "cell_type": "code",
   "execution_count": 4,
   "metadata": {},
   "outputs": [
    {
     "data": {
      "text/html": [
       "<div>\n",
       "<style scoped>\n",
       "    .dataframe tbody tr th:only-of-type {\n",
       "        vertical-align: middle;\n",
       "    }\n",
       "\n",
       "    .dataframe tbody tr th {\n",
       "        vertical-align: top;\n",
       "    }\n",
       "\n",
       "    .dataframe thead th {\n",
       "        text-align: right;\n",
       "    }\n",
       "</style>\n",
       "<table border=\"1\" class=\"dataframe\">\n",
       "  <thead>\n",
       "    <tr style=\"text-align: right;\">\n",
       "      <th></th>\n",
       "      <th>Developer / Researcher</th>\n",
       "      <th>Treatment vs. Vaccine</th>\n",
       "      <th>Product Category</th>\n",
       "      <th>Stage of Development</th>\n",
       "      <th>Anticipated Next Steps</th>\n",
       "      <th>Product Description</th>\n",
       "      <th>Clinical Trials for COVID-19</th>\n",
       "      <th>Funder</th>\n",
       "      <th>Published Results</th>\n",
       "      <th>Clinical Trials for Other Diseases (T only) / Related Use or Platform (V only)</th>\n",
       "      <th>FDA-Approved Indications</th>\n",
       "      <th>Sources</th>\n",
       "      <th>Date Last Updated</th>\n",
       "    </tr>\n",
       "  </thead>\n",
       "  <tbody>\n",
       "    <tr>\n",
       "      <th>263</th>\n",
       "      <td>Scancell/ University of Nottingham/ Nottingham...</td>\n",
       "      <td>Vaccine</td>\n",
       "      <td>DNA-based</td>\n",
       "      <td>Pre-clinical</td>\n",
       "      <td>Phase I to start in Q1 2021</td>\n",
       "      <td>DNA plasmid vaccine RBD&amp;N</td>\n",
       "      <td>NaN</td>\n",
       "      <td>Unknown</td>\n",
       "      <td>NaN</td>\n",
       "      <td>Same platform as vaccine candidates for cancer</td>\n",
       "      <td>NaN</td>\n",
       "      <td>https://docs.google.com/document/d/1Y4nCJJ4njz...</td>\n",
       "      <td>7/8/2020</td>\n",
       "    </tr>\n",
       "    <tr>\n",
       "      <th>264</th>\n",
       "      <td>Entos Pharmaceuticals/ Cytiva</td>\n",
       "      <td>Vaccine</td>\n",
       "      <td>DNA-based</td>\n",
       "      <td>Pre-clinical</td>\n",
       "      <td>Phase I/II to start in late July 2020</td>\n",
       "      <td>DNA; Covigenix</td>\n",
       "      <td>NaN</td>\n",
       "      <td>Canadian Institutes of Health Research (CIHR)/...</td>\n",
       "      <td>NaN</td>\n",
       "      <td>NaN</td>\n",
       "      <td>NaN</td>\n",
       "      <td>https://docs.google.com/document/d/1Y4nCJJ4njz...</td>\n",
       "      <td>7/1/2020</td>\n",
       "    </tr>\n",
       "    <tr>\n",
       "      <th>265</th>\n",
       "      <td>BioNet Asia</td>\n",
       "      <td>Vaccine</td>\n",
       "      <td>DNA-based</td>\n",
       "      <td>Pre-clinical</td>\n",
       "      <td>Unknown</td>\n",
       "      <td>DNA</td>\n",
       "      <td>NaN</td>\n",
       "      <td>Unknown</td>\n",
       "      <td>NaN</td>\n",
       "      <td>NaN</td>\n",
       "      <td>NaN</td>\n",
       "      <td>https://docs.google.com/document/d/1Y4nCJJ4njz...</td>\n",
       "      <td>4/20/2020</td>\n",
       "    </tr>\n",
       "  </tbody>\n",
       "</table>\n",
       "</div>"
      ],
      "text/plain": [
       "                                Developer / Researcher Treatment vs. Vaccine  \\\n",
       "263  Scancell/ University of Nottingham/ Nottingham...               Vaccine   \n",
       "264                      Entos Pharmaceuticals/ Cytiva               Vaccine   \n",
       "265                                        BioNet Asia               Vaccine   \n",
       "\n",
       "    Product Category Stage of Development  \\\n",
       "263        DNA-based         Pre-clinical   \n",
       "264        DNA-based         Pre-clinical   \n",
       "265        DNA-based         Pre-clinical   \n",
       "\n",
       "                     Anticipated Next Steps        Product Description  \\\n",
       "263             Phase I to start in Q1 2021  DNA plasmid vaccine RBD&N   \n",
       "264  Phase I/II to start in late July 2020              DNA; Covigenix   \n",
       "265                                 Unknown                        DNA   \n",
       "\n",
       "    Clinical Trials for COVID-19  \\\n",
       "263                          NaN   \n",
       "264                          NaN   \n",
       "265                          NaN   \n",
       "\n",
       "                                                Funder Published Results  \\\n",
       "263                                            Unknown               NaN   \n",
       "264  Canadian Institutes of Health Research (CIHR)/...               NaN   \n",
       "265                                            Unknown               NaN   \n",
       "\n",
       "    Clinical Trials for Other Diseases (T only) / Related Use or Platform (V only)  \\\n",
       "263     Same platform as vaccine candidates for cancer                               \n",
       "264                                                NaN                               \n",
       "265                                                NaN                               \n",
       "\n",
       "    FDA-Approved Indications  \\\n",
       "263                      NaN   \n",
       "264                      NaN   \n",
       "265                      NaN   \n",
       "\n",
       "                                               Sources Date Last Updated  \n",
       "263  https://docs.google.com/document/d/1Y4nCJJ4njz...          7/8/2020  \n",
       "264  https://docs.google.com/document/d/1Y4nCJJ4njz...          7/1/2020  \n",
       "265  https://docs.google.com/document/d/1Y4nCJJ4njz...         4/20/2020  "
      ]
     },
     "execution_count": 4,
     "metadata": {},
     "output_type": "execute_result"
    }
   ],
   "source": [
    "vax_df.head(3)"
   ]
  },
  {
   "cell_type": "markdown",
   "metadata": {},
   "source": [
    "Apparently the names are in the \"Product Description\" column. Maybe we can find Ad5-nCoV there."
   ]
  },
  {
   "cell_type": "code",
   "execution_count": 5,
   "metadata": {},
   "outputs": [
    {
     "data": {
      "text/plain": [
       "['Non-replicating viral vector; parainfluenza virus 5 (PIV5)-based vaccine expressing the spike protein',\n",
       " 'Protein subunit EPV-CoV-19',\n",
       " 'VLP (CoVLP)+ Adjuvant (CpG 1018)',\n",
       " 'Adeno-based',\n",
       " 'Protein Subunit S, N, M & S1 protein']"
      ]
     },
     "execution_count": 5,
     "metadata": {},
     "output_type": "execute_result"
    }
   ],
   "source": [
    "list(set(vax_df[\"Product Description\"]))[0:5]"
   ]
  },
  {
   "cell_type": "markdown",
   "metadata": {},
   "source": [
    "Hmm, the names are a bit messy. Names are mixed with descriptions. Let's look, them, only for those with clinical trials. "
   ]
  },
  {
   "cell_type": "code",
   "execution_count": 6,
   "metadata": {},
   "outputs": [],
   "source": [
    "vax_df_with_clinical_trials = vax_df.dropna(subset = [\"Clinical Trials for COVID-19\"])"
   ]
  },
  {
   "cell_type": "code",
   "execution_count": 7,
   "metadata": {},
   "outputs": [
    {
     "data": {
      "text/html": [
       "<div>\n",
       "<style scoped>\n",
       "    .dataframe tbody tr th:only-of-type {\n",
       "        vertical-align: middle;\n",
       "    }\n",
       "\n",
       "    .dataframe tbody tr th {\n",
       "        vertical-align: top;\n",
       "    }\n",
       "\n",
       "    .dataframe thead th {\n",
       "        text-align: right;\n",
       "    }\n",
       "</style>\n",
       "<table border=\"1\" class=\"dataframe\">\n",
       "  <thead>\n",
       "    <tr style=\"text-align: right;\">\n",
       "      <th></th>\n",
       "      <th>Developer / Researcher</th>\n",
       "      <th>Treatment vs. Vaccine</th>\n",
       "      <th>Product Category</th>\n",
       "      <th>Stage of Development</th>\n",
       "      <th>Anticipated Next Steps</th>\n",
       "      <th>Product Description</th>\n",
       "      <th>Clinical Trials for COVID-19</th>\n",
       "      <th>Funder</th>\n",
       "      <th>Published Results</th>\n",
       "      <th>Clinical Trials for Other Diseases (T only) / Related Use or Platform (V only)</th>\n",
       "      <th>FDA-Approved Indications</th>\n",
       "      <th>Sources</th>\n",
       "      <th>Date Last Updated</th>\n",
       "    </tr>\n",
       "  </thead>\n",
       "  <tbody>\n",
       "    <tr>\n",
       "      <th>266</th>\n",
       "      <td>Inovio Pharmaceuticals/Beijing Advaccine Biote...</td>\n",
       "      <td>Vaccine</td>\n",
       "      <td>DNA-based</td>\n",
       "      <td>Phase I</td>\n",
       "      <td>Phase I initial data released June 30, 2020; P...</td>\n",
       "      <td>DNA plasmid vaccine with electroporation; INO-...</td>\n",
       "      <td>NCT04336410, NCT04447781</td>\n",
       "      <td>Coalition for Epidemic Preparedness (CEPI) / G...</td>\n",
       "      <td>Inovio (http://ir.inovio.com/news-releases/new...</td>\n",
       "      <td>Same platform as multiple vaccine candidates</td>\n",
       "      <td>NaN</td>\n",
       "      <td>https://docs.google.com/document/d/1Y4nCJJ4njz...</td>\n",
       "      <td>7/6/2020</td>\n",
       "    </tr>\n",
       "    <tr>\n",
       "      <th>271</th>\n",
       "      <td>Zydus Cadila Healthcare Limited</td>\n",
       "      <td>Vaccine</td>\n",
       "      <td>DNA-based</td>\n",
       "      <td>Pre-clinical</td>\n",
       "      <td>Phase I/II to start in July 2020</td>\n",
       "      <td>DNA plasmid</td>\n",
       "      <td>CTRI/2020/07/026352</td>\n",
       "      <td>Unknown</td>\n",
       "      <td>NaN</td>\n",
       "      <td>NaN</td>\n",
       "      <td>NaN</td>\n",
       "      <td>https://docs.google.com/document/d/1Y4nCJJ4njz...</td>\n",
       "      <td>7/8/2020</td>\n",
       "    </tr>\n",
       "    <tr>\n",
       "      <th>273</th>\n",
       "      <td>Osaka University/ AnGes/ Takara Bio/ Cytiva</td>\n",
       "      <td>Vaccine</td>\n",
       "      <td>DNA-based</td>\n",
       "      <td>Pre-clinical</td>\n",
       "      <td>Phase I to start in July 2020</td>\n",
       "      <td>DNA plasmid</td>\n",
       "      <td>JapicCTI-205328</td>\n",
       "      <td>Unknown</td>\n",
       "      <td>NaN</td>\n",
       "      <td>NaN</td>\n",
       "      <td>NaN</td>\n",
       "      <td>https://docs.google.com/document/d/1Y4nCJJ4njz...</td>\n",
       "      <td>7/9/2020</td>\n",
       "    </tr>\n",
       "    <tr>\n",
       "      <th>274</th>\n",
       "      <td>Genexine Consortium (GenNBio, International Va...</td>\n",
       "      <td>Vaccine</td>\n",
       "      <td>DNA-based</td>\n",
       "      <td>Phase I</td>\n",
       "      <td>Phase I to start in July 2020</td>\n",
       "      <td>DNA vaccine (GX-19)</td>\n",
       "      <td>NCT04445389</td>\n",
       "      <td>Unknown</td>\n",
       "      <td>NaN</td>\n",
       "      <td>NaN</td>\n",
       "      <td>NaN</td>\n",
       "      <td>https://docs.google.com/document/d/1Y4nCJJ4njz...</td>\n",
       "      <td>7/1/2020</td>\n",
       "    </tr>\n",
       "    <tr>\n",
       "      <th>279</th>\n",
       "      <td>Beijing Institute of Biological Products/ Sino...</td>\n",
       "      <td>Vaccine</td>\n",
       "      <td>Inactivated virus</td>\n",
       "      <td>Phase II</td>\n",
       "      <td>In Phase II, June 2020</td>\n",
       "      <td>Inactivated</td>\n",
       "      <td>ChiCTR2000032459</td>\n",
       "      <td>Unknown</td>\n",
       "      <td>NaN</td>\n",
       "      <td>NaN</td>\n",
       "      <td>NaN</td>\n",
       "      <td>https://docs.google.com/document/d/1Y4nCJJ4njz...</td>\n",
       "      <td>6/12/2020</td>\n",
       "    </tr>\n",
       "  </tbody>\n",
       "</table>\n",
       "</div>"
      ],
      "text/plain": [
       "                                Developer / Researcher Treatment vs. Vaccine  \\\n",
       "266  Inovio Pharmaceuticals/Beijing Advaccine Biote...               Vaccine   \n",
       "271                   Zydus Cadila Healthcare Limited                Vaccine   \n",
       "273        Osaka University/ AnGes/ Takara Bio/ Cytiva               Vaccine   \n",
       "274  Genexine Consortium (GenNBio, International Va...               Vaccine   \n",
       "279  Beijing Institute of Biological Products/ Sino...               Vaccine   \n",
       "\n",
       "      Product Category Stage of Development  \\\n",
       "266          DNA-based              Phase I   \n",
       "271          DNA-based         Pre-clinical   \n",
       "273          DNA-based         Pre-clinical   \n",
       "274          DNA-based              Phase I   \n",
       "279  Inactivated virus             Phase II   \n",
       "\n",
       "                                Anticipated Next Steps  \\\n",
       "266  Phase I initial data released June 30, 2020; P...   \n",
       "271                  Phase I/II to start in July 2020    \n",
       "273                      Phase I to start in July 2020   \n",
       "274                      Phase I to start in July 2020   \n",
       "279                             In Phase II, June 2020   \n",
       "\n",
       "                                   Product Description  \\\n",
       "266  DNA plasmid vaccine with electroporation; INO-...   \n",
       "271                                        DNA plasmid   \n",
       "273                                        DNA plasmid   \n",
       "274                                DNA vaccine (GX-19)   \n",
       "279                                        Inactivated   \n",
       "\n",
       "    Clinical Trials for COVID-19  \\\n",
       "266     NCT04336410, NCT04447781   \n",
       "271          CTRI/2020/07/026352   \n",
       "273              JapicCTI-205328   \n",
       "274                  NCT04445389   \n",
       "279             ChiCTR2000032459   \n",
       "\n",
       "                                                Funder  \\\n",
       "266  Coalition for Epidemic Preparedness (CEPI) / G...   \n",
       "271                                            Unknown   \n",
       "273                                            Unknown   \n",
       "274                                            Unknown   \n",
       "279                                            Unknown   \n",
       "\n",
       "                                     Published Results  \\\n",
       "266  Inovio (http://ir.inovio.com/news-releases/new...   \n",
       "271                                                NaN   \n",
       "273                                                NaN   \n",
       "274                                                NaN   \n",
       "279                                                NaN   \n",
       "\n",
       "    Clinical Trials for Other Diseases (T only) / Related Use or Platform (V only)  \\\n",
       "266       Same platform as multiple vaccine candidates                               \n",
       "271                                                NaN                               \n",
       "273                                                NaN                               \n",
       "274                                                NaN                               \n",
       "279                                                NaN                               \n",
       "\n",
       "    FDA-Approved Indications  \\\n",
       "266                      NaN   \n",
       "271                      NaN   \n",
       "273                      NaN   \n",
       "274                      NaN   \n",
       "279                      NaN   \n",
       "\n",
       "                                               Sources Date Last Updated  \n",
       "266  https://docs.google.com/document/d/1Y4nCJJ4njz...          7/6/2020  \n",
       "271  https://docs.google.com/document/d/1Y4nCJJ4njz...          7/8/2020  \n",
       "273  https://docs.google.com/document/d/1Y4nCJJ4njz...          7/9/2020  \n",
       "274  https://docs.google.com/document/d/1Y4nCJJ4njz...          7/1/2020  \n",
       "279  https://docs.google.com/document/d/1Y4nCJJ4njz...         6/12/2020  "
      ]
     },
     "execution_count": 7,
     "metadata": {},
     "output_type": "execute_result"
    }
   ],
   "source": [
    "vax_df_with_clinical_trials.head()"
   ]
  },
  {
   "cell_type": "markdown",
   "metadata": {},
   "source": [
    "I believe I will have to manually add some vaccine labels, but some info is present. Let's look at it again:"
   ]
  },
  {
   "cell_type": "code",
   "execution_count": 8,
   "metadata": {},
   "outputs": [
    {
     "data": {
      "text/plain": [
       "['Inactivated (inactivated + alum); CoronaVac (formerly PiCoVacc)',\n",
       " 'LV-SMENP-DC Dendritic cells modified with lentiviral vector expressing synthetic minigene based on domains of selected viral proteins; administered with antigen-specific cytotoxic T lymphocytes',\n",
       " 'Artificial antigen-presenting cells modified with lentiviral vector expressing synthetic minigene based on domains of selected viral proteins',\n",
       " 'DNA plasmid',\n",
       " 'Non-replicating viral vector; AZD 1222 (formerly ChAdOx1)',\n",
       " 'Protein subunit; Full-length recombinant SARS COV-2 glycoprotein nanoparticle vaccine adjuvanted with Matrix M (NVX-CoV2373)',\n",
       " '3 LNP-mRNAs; BNT162 \\n',\n",
       " 'VLP; plant-derived VLP',\n",
       " 'Protein subunit; recombinant spike protein with Advax adjuvant (COVAX-19)',\n",
       " 'RNA; LNP-encapsulated mRNA (mRNA 1273)',\n",
       " 'DNA plasmid vaccine with electroporation; INO-4800',\n",
       " 'Protein subunit, native like trimeric subunit spike protein',\n",
       " 'RNA; mRNA',\n",
       " 'Non-replicating viral vector; Adenovirus Type 5 vector (Ad5-nCoV)',\n",
       " 'Adjuvanted recombinant protein (RBD-Dimer)',\n",
       " 'Adeno-based',\n",
       " 'Inactivated',\n",
       " 'DNA vaccine (GX-19)',\n",
       " 'mRNA',\n",
       " 'RNA; LNP-nCoVsaRNA']"
      ]
     },
     "execution_count": 8,
     "metadata": {},
     "output_type": "execute_result"
    }
   ],
   "source": [
    "list(set(vax_df_with_clinical_trials[\"Product Description\"]))"
   ]
  },
  {
   "cell_type": "code",
   "execution_count": 9,
   "metadata": {},
   "outputs": [
    {
     "data": {
      "text/html": [
       "<div>\n",
       "<style scoped>\n",
       "    .dataframe tbody tr th:only-of-type {\n",
       "        vertical-align: middle;\n",
       "    }\n",
       "\n",
       "    .dataframe tbody tr th {\n",
       "        vertical-align: top;\n",
       "    }\n",
       "\n",
       "    .dataframe thead th {\n",
       "        text-align: right;\n",
       "    }\n",
       "</style>\n",
       "<table border=\"1\" class=\"dataframe\">\n",
       "  <thead>\n",
       "    <tr style=\"text-align: right;\">\n",
       "      <th></th>\n",
       "      <th>Developer / Researcher</th>\n",
       "      <th>Treatment vs. Vaccine</th>\n",
       "      <th>Product Category</th>\n",
       "      <th>Stage of Development</th>\n",
       "      <th>Anticipated Next Steps</th>\n",
       "      <th>Product Description</th>\n",
       "      <th>Clinical Trials for COVID-19</th>\n",
       "      <th>Funder</th>\n",
       "      <th>Published Results</th>\n",
       "      <th>Clinical Trials for Other Diseases (T only) / Related Use or Platform (V only)</th>\n",
       "      <th>FDA-Approved Indications</th>\n",
       "      <th>Sources</th>\n",
       "      <th>Date Last Updated</th>\n",
       "    </tr>\n",
       "  </thead>\n",
       "  <tbody>\n",
       "    <tr>\n",
       "      <th>300</th>\n",
       "      <td>CanSino Biologics/Beijing Institute of Biotech...</td>\n",
       "      <td>Vaccine</td>\n",
       "      <td>Non-replicating viral vector</td>\n",
       "      <td>Phase II</td>\n",
       "      <td>Approved for military use in China on June 25,...</td>\n",
       "      <td>Non-replicating viral vector; Adenovirus Type ...</td>\n",
       "      <td>NCT04313127 ChiCTR2000030906 ChiCTR2000031781 ...</td>\n",
       "      <td>Unknown</td>\n",
       "      <td>The Lancet (https://www.thelancet.com/journals...</td>\n",
       "      <td>Same platform as vaccine candidates for EBOV</td>\n",
       "      <td>NaN</td>\n",
       "      <td>https://docs.google.com/document/d/1Y4nCJJ4njz...</td>\n",
       "      <td>7/8/2020</td>\n",
       "    </tr>\n",
       "  </tbody>\n",
       "</table>\n",
       "</div>"
      ],
      "text/plain": [
       "                                Developer / Researcher Treatment vs. Vaccine  \\\n",
       "300  CanSino Biologics/Beijing Institute of Biotech...               Vaccine   \n",
       "\n",
       "                 Product Category Stage of Development  \\\n",
       "300  Non-replicating viral vector             Phase II   \n",
       "\n",
       "                                Anticipated Next Steps  \\\n",
       "300  Approved for military use in China on June 25,...   \n",
       "\n",
       "                                   Product Description  \\\n",
       "300  Non-replicating viral vector; Adenovirus Type ...   \n",
       "\n",
       "                          Clinical Trials for COVID-19   Funder  \\\n",
       "300  NCT04313127 ChiCTR2000030906 ChiCTR2000031781 ...  Unknown   \n",
       "\n",
       "                                     Published Results  \\\n",
       "300  The Lancet (https://www.thelancet.com/journals...   \n",
       "\n",
       "    Clinical Trials for Other Diseases (T only) / Related Use or Platform (V only)  \\\n",
       "300     Same platform as vaccine candidates for EBOV                                 \n",
       "\n",
       "    FDA-Approved Indications  \\\n",
       "300                      NaN   \n",
       "\n",
       "                                               Sources Date Last Updated  \n",
       "300  https://docs.google.com/document/d/1Y4nCJJ4njz...          7/8/2020  "
      ]
     },
     "execution_count": 9,
     "metadata": {},
     "output_type": "execute_result"
    }
   ],
   "source": [
    "ad5_row = vax_df_with_clinical_trials[vax_df_with_clinical_trials[\"Product Description\"] == 'Non-replicating viral vector; Adenovirus Type 5 vector (Ad5-nCoV)']\n",
    "ad5_row"
   ]
  },
  {
   "cell_type": "markdown",
   "metadata": {},
   "source": [
    "Now let's think about how to add the information to Wikidata. \n",
    "\n",
    "developer(P178)\n",
    "\n",
    "[vaccine for (P1924)](https://www.wikidata.org/wiki/Property:P1924)\n",
    "\n",
    "The product category is currently represented in \"instance of\" statements. In this case, it would be an instance of [adenovirus-based vaccine (Q96841548)](https://www.wikidata.org/wiki/Q96841548)\n",
    "\n",
    "Not sure how to link the vaccine to the clinical trials that describe them. The id properties are used for the clinical trial items themselves.\n",
    "[NCT id](https://www.wikidata.org/wiki/Property:P3098)\n",
    "[Chinese Clinical Trial Registry ID (P8064)](https://www.wikidata.org/wiki/Property:P8064)\n",
    "\n",
    "\n",
    "Probably adding the vaccine as a main subject of the clinical trial. \n",
    "\n",
    "Published results can be reconciled to wikidata items and added as [described by source(P1343)](https://www.wikidata.org/wiki/Property:P1343)\n",
    "\n",
    "\n"
   ]
  },
  {
   "cell_type": "code",
   "execution_count": 10,
   "metadata": {},
   "outputs": [],
   "source": [
    "import requests\n",
    "import time\n",
    "def get_first_wikidata_match(word_to_search):\n",
    "    time.sleep(0.3)\n",
    "    api_url = \"https://www.wikidata.org/w/api.php?action=wbsearchentities&language=en&search=\" + word_to_search + \"&format=json\"\n",
    "    search_result = requests.get(api_url)\n",
    "    \n",
    "    index_to_return = 0\n",
    "    try:\n",
    "        qid = search_result.json()[\"search\"][index_to_return][\"id\"]\n",
    "    except:\n",
    "        qid = \"Not found\"\n",
    "    return qid\n",
    "    "
   ]
  },
  {
   "cell_type": "code",
   "execution_count": 11,
   "metadata": {},
   "outputs": [
    {
     "name": "stdout",
     "output_type": "stream",
     "text": [
      "Q96695265|P178|Q91016085|S854|\"https://covid-19tracker.milkeninstitute.org/\"|S813|+2020-07-11T00:00:00Z/11\n",
      "Q96695265|P178|Not found|S854|\"https://covid-19tracker.milkeninstitute.org/\"|S813|+2020-07-11T00:00:00Z/11\n",
      "Q96695265|P178|Q1437507|S854|\"https://covid-19tracker.milkeninstitute.org/\"|S813|+2020-07-11T00:00:00Z/11\n"
     ]
    }
   ],
   "source": [
    "from datetime import datetime\n",
    "today = datetime.now()\n",
    "today_wikidata_format = today.strftime(\"+%Y-%m-%dT00:00:00Z/11\")\n",
    "\n",
    "ref_url = \"|S854|\" + '\"' + 'https://covid-19tracker.milkeninstitute.org/' + '\"'\n",
    "retrieved_in = \"|S813|\" + today_wikidata_format\n",
    "\n",
    "\n",
    "target_item = \"Q96695265\"\n",
    "\n",
    "for index, row in ad5_row.iterrows():\n",
    "    devs = row[\"Developer / Researcher\"].split(\"/\")\n",
    "    for dev in devs:\n",
    "        qid_dev = get_first_wikidata_match(dev)\n",
    "        \n",
    "        developer = \"|P178|\" + qid_dev \n",
    "        \n",
    "        \n",
    "        \n",
    "        \n",
    "        \n",
    "        \n",
    "        print(target_item + developer + ref_url + retrieved_in ) "
   ]
  },
  {
   "cell_type": "markdown",
   "metadata": {},
   "source": [
    "Only one of the candidates with trials actually have an article as a describing source. This will be added manually:"
   ]
  },
  {
   "cell_type": "code",
   "execution_count": 12,
   "metadata": {},
   "outputs": [
    {
     "name": "stdout",
     "output_type": "stream",
     "text": [
      "Q96695265|P1343|Q95818623|S854|\"https://covid-19tracker.milkeninstitute.org/\"|S813|+2020-07-11T00:00:00Z/11\n"
     ]
    }
   ],
   "source": [
    "print(\"Q96695265|P1343|Q95818623\"+ ref_url + retrieved_in)"
   ]
  },
  {
   "cell_type": "markdown",
   "metadata": {},
   "source": [
    "Let's add new items with:\n",
    "\n",
    "* vaccine for covid-19 (|P1924|Q84263196)\n",
    "* instance of a candidate vaccine (|P31|Q28051899)\n",
    "* instace of whatever type of vaccine that is "
   ]
  },
  {
   "cell_type": "code",
   "execution_count": 13,
   "metadata": {},
   "outputs": [
    {
     "name": "stderr",
     "output_type": "stream",
     "text": [
      "/home/lubianat/.local/lib/python3.6/site-packages/ipykernel_launcher.py:11: SettingWithCopyWarning: \n",
      "A value is trying to be set on a copy of a slice from a DataFrame.\n",
      "Try using .loc[row_indexer,col_indexer] = value instead\n",
      "\n",
      "See the caveats in the documentation: https://pandas.pydata.org/pandas-docs/stable/user_guide/indexing.html#returning-a-view-versus-a-copy\n",
      "  # This is added back by InteractiveShellApp.init_path()\n"
     ]
    }
   ],
   "source": [
    "vax_category_to_wikidata = {\n",
    "    \"DNA-based\" : \"Q578537\",\n",
    "    \"Inactivated virus\": \"Q3560939\",\n",
    "    \"Non-replicating viral vector\": \"Q96841548\",\n",
    "    \"Protein subunit\":\"Q97153933\",\n",
    "    \"RNA-based vaccine\":\"Q97153934\",\n",
    "    \"Virus-like particle\":\"Q58623657\"  \n",
    "}\n",
    "\n",
    "vax_category_to_wikidata\n",
    "vax_df_with_clinical_trials[\"wd_category\"]=vax_df_with_clinical_trials[\"Product Category\"].map(vax_category_to_wikidata)\n"
   ]
  },
  {
   "cell_type": "code",
   "execution_count": 14,
   "metadata": {},
   "outputs": [
    {
     "name": "stderr",
     "output_type": "stream",
     "text": [
      "/home/lubianat/.local/lib/python3.6/site-packages/ipykernel_launcher.py:5: SettingWithCopyWarning: \n",
      "A value is trying to be set on a copy of a slice from a DataFrame.\n",
      "Try using .loc[row_indexer,col_indexer] = value instead\n",
      "\n",
      "See the caveats in the documentation: https://pandas.pydata.org/pandas-docs/stable/user_guide/indexing.html#returning-a-view-versus-a-copy\n",
      "  \"\"\"\n"
     ]
    },
    {
     "data": {
      "text/plain": [
       "array(['Inovio Pharmaceuticals COVID-19 vaccine candidate',\n",
       "       'Zydus Cadila Healthcare Limited  COVID-19 vaccine candidate',\n",
       "       'Osaka University COVID-19 vaccine candidate',\n",
       "       'Genexine Consortium (GenNBio COVID-19 vaccine candidate',\n",
       "       'Beijing Institute of Biological Products COVID-19 vaccine candidate',\n",
       "       'Wuhan Institute of Biological Products COVID-19 vaccine candidate',\n",
       "       'Institute of Medical Biology COVID-19 vaccine candidate',\n",
       "       'Sinovac COVID-19 vaccine candidate',\n",
       "       'CanSino Biologics COVID-19 vaccine candidate',\n",
       "       'Consortium of the Jenner Institute COVID-19 vaccine candidate',\n",
       "       'Gamaleya  Research Institute COVID-19 vaccine candidate',\n",
       "       'Novavax COVID-19 vaccine candidate',\n",
       "       'Vaxine Pty Ltd COVID-19 vaccine candidate',\n",
       "       'Anhui Zhifei Longcom Biopharmaceutical COVID-19 vaccine candidate',\n",
       "       'Clover Biopharmaceuticals Inc. COVID-19 vaccine candidate',\n",
       "       'Moderna COVID-19 vaccine candidate',\n",
       "       'CureVac COVID-19 vaccine candidate',\n",
       "       'Imperial College London COVID-19 vaccine candidate',\n",
       "       'BioNTech COVID-19 vaccine candidate',\n",
       "       \"People's Liberation Army (PLA) Academy of Military Sciences COVID-19 vaccine candidate\",\n",
       "       'Medicago Inc. COVID-19 vaccine candidate',\n",
       "       'Shenzhen Geno-Immune Medical Institute COVID-19 vaccine candidate',\n",
       "       'Shenzhen Geno-Immune Medical Institute COVID-19 vaccine candidate'],\n",
       "      dtype=object)"
      ]
     },
     "execution_count": 14,
     "metadata": {},
     "output_type": "execute_result"
    }
   ],
   "source": [
    "devs = [dev.replace(\",\", \"/\") for dev in vax_df_with_clinical_trials[\"Developer / Researcher\"]]\n",
    "\n",
    "devs = [dev.split(\"/\")[0] for dev in devs]\n",
    "\n",
    "vax_df_with_clinical_trials[\"wd_enlabel\"] = [dev + \" COVID-19 vaccine candidate\" for dev in devs]\n",
    "vax_df_with_clinical_trials[\"wd_enlabel\"].values"
   ]
  },
  {
   "cell_type": "markdown",
   "metadata": {},
   "source": [
    "A few these were already on Wikidata. Let's make it clear which ones."
   ]
  },
  {
   "cell_type": "code",
   "execution_count": 15,
   "metadata": {},
   "outputs": [],
   "source": [
    "vax_in_wikidata = ['Moderna COVID-19 vaccine candidate',\n",
    "                   \"Consortium of the Jenner Institute COVID-19 vaccine candidate\", \n",
    "                   \"Inovio Pharmaceuticals COVID-19 vaccine candidate\",\n",
    "                   \"CanSino Biologics COVID-19 vaccine candidate\" ]"
   ]
  },
  {
   "cell_type": "code",
   "execution_count": 19,
   "metadata": {},
   "outputs": [
    {
     "name": "stdout",
     "output_type": "stream",
     "text": [
      "Zydus Cadila Healthcare Limited  COVID-19 vaccine candidate\n",
      "Osaka University COVID-19 vaccine candidate\n",
      "Genexine Consortium (GenNBio COVID-19 vaccine candidate\n",
      "Beijing Institute of Biological Products COVID-19 vaccine candidate\n",
      "Wuhan Institute of Biological Products COVID-19 vaccine candidate\n",
      "Institute of Medical Biology COVID-19 vaccine candidate\n",
      "Sinovac COVID-19 vaccine candidate\n",
      "Gamaleya  Research Institute COVID-19 vaccine candidate\n",
      "Novavax COVID-19 vaccine candidate\n",
      "Vaxine Pty Ltd COVID-19 vaccine candidate\n",
      "Anhui Zhifei Longcom Biopharmaceutical COVID-19 vaccine candidate\n",
      "Clover Biopharmaceuticals Inc. COVID-19 vaccine candidate\n",
      "CureVac COVID-19 vaccine candidate\n",
      "Imperial College London COVID-19 vaccine candidate\n",
      "BioNTech COVID-19 vaccine candidate\n",
      "People's Liberation Army (PLA) Academy of Military Sciences COVID-19 vaccine candidate\n",
      "Medicago Inc. COVID-19 vaccine candidate\n",
      "Shenzhen Geno-Immune Medical Institute COVID-19 vaccine candidate\n"
     ]
    },
    {
     "ename": "TypeError",
     "evalue": "must be str, not float",
     "output_type": "error",
     "traceback": [
      "\u001b[0;31m----------------------------------------------------\u001b[0m",
      "\u001b[0;31mTypeError\u001b[0m          Traceback (most recent call last)",
      "\u001b[0;32m<ipython-input-19-77bf60483fc4>\u001b[0m in \u001b[0;36m<module>\u001b[0;34m\u001b[0m\n\u001b[1;32m     21\u001b[0m \u001b[0;34m\u001b[0m\u001b[0m\n\u001b[1;32m     22\u001b[0m             \u001b[0mvax_category\u001b[0m \u001b[0;34m=\u001b[0m \u001b[0mrow\u001b[0m\u001b[0;34m[\u001b[0m\u001b[0;34m\"wd_category\"\u001b[0m\u001b[0;34m]\u001b[0m\u001b[0;34m\u001b[0m\u001b[0;34m\u001b[0m\u001b[0m\n\u001b[0;32m---> 23\u001b[0;31m             \u001b[0minstance_of_category_qs\u001b[0m \u001b[0;34m=\u001b[0m \u001b[0;34m\"LAST\"\u001b[0m \u001b[0;34m+\u001b[0m \u001b[0;34m\"|P31|\"\u001b[0m \u001b[0;34m+\u001b[0m \u001b[0mvax_category\u001b[0m \u001b[0;34m+\u001b[0m \u001b[0mrefs\u001b[0m\u001b[0;34m\u001b[0m\u001b[0;34m\u001b[0m\u001b[0m\n\u001b[0m\u001b[1;32m     24\u001b[0m \u001b[0;34m\u001b[0m\u001b[0m\n\u001b[1;32m     25\u001b[0m             \u001b[0men_label_qs\u001b[0m \u001b[0;34m=\u001b[0m \u001b[0;34m\"LAST\"\u001b[0m \u001b[0;34m+\u001b[0m \u001b[0;34m\"|Len|\"\u001b[0m \u001b[0;34m+\u001b[0m \u001b[0;34m'\"'\u001b[0m \u001b[0;34m+\u001b[0m \u001b[0mrow\u001b[0m\u001b[0;34m[\u001b[0m\u001b[0;34m\"wd_enlabel\"\u001b[0m\u001b[0;34m]\u001b[0m \u001b[0;34m+\u001b[0m \u001b[0;34m'\"'\u001b[0m\u001b[0;34m\u001b[0m\u001b[0;34m\u001b[0m\u001b[0m\n",
      "\u001b[0;31mTypeError\u001b[0m: must be str, not float"
     ]
    }
   ],
   "source": [
    "'''\n",
    "Print QuickStastaements for he creation of new items about vaccines\n",
    "'''\n",
    "\n",
    "with open(\"vax_with_clinical_trial.qs\", \"w+\") as f:\n",
    "    from datetime import datetime\n",
    "    today = datetime.now()\n",
    "    today_wikidata_format = today.strftime(\"+%Y-%m-%dT00:00:00Z/11\")\n",
    "\n",
    "    ref_url = \"|S854|\" + '\"' + 'https://covid-19tracker.milkeninstitute.org/' + '\"'\n",
    "    retrieved_in = \"|S813|\" + today_wikidata_format\n",
    "\n",
    "\n",
    "    for index,row in vax_df_with_clinical_trials.iterrows():\n",
    "        if row[\"wd_enlabel\"] not in vax_in_wikidata:\n",
    "            print( row[\"wd_enlabel\"] )\n",
    "\n",
    "            refs = ref_url + retrieved_in \n",
    "\n",
    "            instance_of_candidate_qs = \"LAST\" + \"|P31|\" + \"Q28051899\" + refs\n",
    "\n",
    "            vax_category = row[\"wd_category\"]\n",
    "            instance_of_category_qs = \"LAST\" + \"|P31|\" + vax_category + refs\n",
    "\n",
    "            en_label_qs = \"LAST\" + \"|Len|\" + '\"' + row[\"wd_enlabel\"] + '\"'\n",
    "\n",
    "            en_description_qs  = \"LAST\" + \"|Den|\" + '\"' + \"candidate vaccine against COVID-19\" + '\"'\n",
    "\n",
    "            vaccine_for_covid19_qs = \"LAST\" + \"|P1924|Q84263196\" + refs\n",
    "\n",
    "            f.write(\"CREATE\" + \"\\n\")\n",
    "            f.write(instance_of_candidate_qs + \"\\n\")\n",
    "            f.write(instance_of_category_qs + \"\\n\")\n",
    "            f.write(en_label_qs + \"\\n\")\n",
    "            f.write(vaccine_for_covid19_qs + \"\\n\")\n",
    "            f.write(en_description_qs + \"\\n\")\n",
    "\n",
    "            devs = row[\"Developer / Researcher\"].split(\"/\")\n",
    "            for dev in devs:\n",
    "                qid_dev = get_first_wikidata_match(dev)\n",
    "\n",
    "                if qid_dev !=\"Not found\":\n",
    "                    developer_qs =  \"LAST\" + \"|P178|\" + qid_dev + refs\n",
    "                    f.write(developer_qs + \"\\n\")\n",
    "\n",
    "f.close()\n",
    "\n",
    "        "
   ]
  },
  {
   "cell_type": "markdown",
   "metadata": {},
   "source": [
    "After adding the vaccines, the goal is to link the clinical trials to the vaccine items themselves."
   ]
  },
  {
   "cell_type": "code",
   "execution_count": null,
   "metadata": {},
   "outputs": [],
   "source": []
  }
 ],
 "metadata": {
  "kernelspec": {
   "display_name": "Python 3",
   "language": "python",
   "name": "python3"
  },
  "language_info": {
   "codemirror_mode": {
    "name": "ipython",
    "version": 3
   },
   "file_extension": ".py",
   "mimetype": "text/x-python",
   "name": "python",
   "nbconvert_exporter": "python",
   "pygments_lexer": "ipython3",
   "version": "3.6.9"
  }
 },
 "nbformat": 4,
 "nbformat_minor": 4
}
