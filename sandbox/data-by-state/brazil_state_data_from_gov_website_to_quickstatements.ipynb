{
 "cells": [
  {
   "cell_type": "code",
   "execution_count": 1,
   "metadata": {},
   "outputs": [
    {
     "name": "stdout",
     "output_type": "stream",
     "text": [
      "['/home/lubianat/Documents/wikidata_covid19/sandbox/data-by-state/e9250e5db0e3bf01c21c407cddaa9103_Download_COVID19_20200418.csv', '/home/lubianat/Documents/wikidata_covid19/sandbox/data-by-state/dicionario.csv']\n"
     ]
    }
   ],
   "source": [
    "! python3 get_csv.py --downdir ~/Documents/wikidata_covid19/sandbox/data-by-state/ --topen 2 --tclose 3"
   ]
  },
  {
   "cell_type": "code",
   "execution_count": 56,
   "metadata": {},
   "outputs": [
    {
     "data": {
      "text/html": [
       "<div>\n",
       "<style scoped>\n",
       "    .dataframe tbody tr th:only-of-type {\n",
       "        vertical-align: middle;\n",
       "    }\n",
       "\n",
       "    .dataframe tbody tr th {\n",
       "        vertical-align: top;\n",
       "    }\n",
       "\n",
       "    .dataframe thead th {\n",
       "        text-align: right;\n",
       "    }\n",
       "</style>\n",
       "<table border=\"1\" class=\"dataframe\">\n",
       "  <thead>\n",
       "    <tr style=\"text-align: right;\">\n",
       "      <th></th>\n",
       "      <th>regiao</th>\n",
       "      <th>estado</th>\n",
       "      <th>data</th>\n",
       "      <th>casosNovos</th>\n",
       "      <th>casosAcumulados</th>\n",
       "      <th>obitosNovos</th>\n",
       "      <th>obitosAcumulados</th>\n",
       "    </tr>\n",
       "  </thead>\n",
       "  <tbody>\n",
       "    <tr>\n",
       "      <th>659</th>\n",
       "      <td>Nordeste</td>\n",
       "      <td>PI</td>\n",
       "      <td>2020-02-18</td>\n",
       "      <td>0</td>\n",
       "      <td>0</td>\n",
       "      <td>0</td>\n",
       "      <td>0</td>\n",
       "    </tr>\n",
       "    <tr>\n",
       "      <th>999</th>\n",
       "      <td>Nordeste</td>\n",
       "      <td>PE</td>\n",
       "      <td>2020-03-09</td>\n",
       "      <td>0</td>\n",
       "      <td>0</td>\n",
       "      <td>0</td>\n",
       "      <td>0</td>\n",
       "    </tr>\n",
       "  </tbody>\n",
       "</table>\n",
       "</div>"
      ],
      "text/plain": [
       "       regiao estado        data  casosNovos  casosAcumulados  obitosNovos  \\\n",
       "659  Nordeste     PI  2020-02-18           0                0            0   \n",
       "999  Nordeste     PE  2020-03-09           0                0            0   \n",
       "\n",
       "     obitosAcumulados  \n",
       "659                 0  \n",
       "999                 0  "
      ]
     },
     "execution_count": 56,
     "metadata": {},
     "output_type": "execute_result"
    }
   ],
   "source": [
    "import pandas as pd\n",
    "\n",
    "brazilian_state_counts = pd.read_csv(\"2020-04-19.csv\", sep=\";\")\n",
    "brazilian_state_counts.sample(2)\n"
   ]
  },
  {
   "cell_type": "code",
   "execution_count": 25,
   "metadata": {},
   "outputs": [],
   "source": [
    "# Let's get only the most recente record for each state. \n",
    "brazilian_state_counts_for_most_recent_date = brazilian_state_counts.groupby('estado').tail(1)\n",
    "\n",
    "state_to_qid = pd.read_csv(\"./dicionario.csv\")\n",
    "\n",
    "brazilian_state_counts_for_most_recent_date = pd.merge(brazilian_state_counts_for_most_recent_date, state_to_qid, on=\"estado\")\n",
    "\n"
   ]
  },
  {
   "cell_type": "code",
   "execution_count": 57,
   "metadata": {},
   "outputs": [],
   "source": [
    "# Note: chunks of code here were adapted from \"QS_from_saude.py\" by jvfe\n",
    "\n",
    "import datetime\n",
    "from datetime import date, timedelta\n",
    "\n",
    "today = date.today()\n",
    "today_in_wikidata_format = today.strftime(\"+%Y-%m-%dT00:00:00Z/11\")\n",
    "\n",
    "# Assuming that the latest count is yesterday. \n",
    "#This might be untrue in some circunstances, but it seems to be almost always the case. \n",
    "\n",
    "yesterday = today - timedelta(days=1)\n",
    "yesterday_in_wikidata_format = yesterday.strftime(\"+%Y-%m-%dT00:00:00Z/11\")\n",
    "date_of_last_update = yesterday_in_wikidata_format\n",
    "\n",
    "\n",
    "\n",
    "\n",
    "reference_statement =  \"|S854|\" + '\"'  + \"https://covid.saude.gov.br/\" + '\"' + \"|S813|\" + today_in_wikidata_format\n",
    "\n",
    "filename = today.strftime(\"%Y-%m-%d\") + \"_quickstatements_commands.txt\"\n",
    "f= open(filename,\"w+\") \n",
    "\n",
    "\n",
    "for index, row in brazilian_state_counts_for_most_recent_date.iterrows():\n",
    "        \n",
    "        quickstatements_command = row['item'] + \"|P1603|\" + str(int(row['casosAcumulados'])) + \"|P585|\" + date_of_last_update   \n",
    "        quickstatements_command = quickstatements_command + reference_statement + \"\\n\"\n",
    "        \n",
    "        quickstatements_command = quickstatements_command + row['item'] + \"|P1120|\" + str(int(row['obitosAcumulados'])) + \"|P585|\" + date_of_last_update\n",
    "        quickstatements_command = quickstatements_command + reference_statement + \"\\n\" \n",
    "        \n",
    "        f.write(quickstatements_command)\n"
   ]
  },
  {
   "cell_type": "code",
   "execution_count": 59,
   "metadata": {},
   "outputs": [
    {
     "name": "stdout",
     "output_type": "stream",
     "text": [
      "{\"status\":\"User name and token do not match\"}curl: (6) Could not resolve host: !\n",
      "curl: (6) Could not resolve host: !\n",
      "curl: (6) Could not resolve host: !\n",
      "curl: (6) Could not resolve host: !\n",
      "curl: (6) Could not resolve host: !\n",
      "/bin/sh: 1: --data-urlencode: not found\n"
     ]
    }
   ],
   "source": [
    "# Integration with quickstatements directly might be possible. Lubianat was not able to set it up.\n",
    "# see https://tools.wmflabs.org/quickstatements/#/user"
   ]
  }
 ],
 "metadata": {
  "kernelspec": {
   "display_name": "Python 3",
   "language": "python",
   "name": "python3"
  },
  "language_info": {
   "codemirror_mode": {
    "name": "ipython",
    "version": 3
   },
   "file_extension": ".py",
   "mimetype": "text/x-python",
   "name": "python",
   "nbconvert_exporter": "python",
   "pygments_lexer": "ipython3",
   "version": "3.6.9"
  }
 },
 "nbformat": 4,
 "nbformat_minor": 4
}
